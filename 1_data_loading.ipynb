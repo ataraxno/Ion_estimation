{
 "cells": [
  {
   "cell_type": "code",
   "execution_count": null,
   "metadata": {},
   "outputs": [],
   "source": [
    "import os\n",
    "\n",
    "import pandas as pd\n",
    "import numpy as np\n",
    "\n",
    "import matplotlib\n",
    "import matplotlib.pyplot as plt\n",
    "%matplotlib inline\n",
    "matplotlib.rcParams['figure.figsize'] = (20, 16)"
   ]
  },
  {
   "cell_type": "markdown",
   "metadata": {},
   "source": [
    "## Table1 data (10 sec interval)"
   ]
  },
  {
   "cell_type": "code",
   "execution_count": null,
   "metadata": {},
   "outputs": [],
   "source": [
    "FILES = [\n",
    "    \"CR1000_Table1 20171128.dat\",\n",
    "    \"CR1000_Table1 20171213.dat\",\n",
    "    \"CR1000_Table1 20171230.dat\",\n",
    "    \"CR1000_Table1 20180104.dat\",\n",
    "    \"CR1000_Table1 20180125.dat\",\n",
    "    \"CR1000_Table1 20180213.dat\",\n",
    "    \"CR1000_Table1 20180216.dat\",\n",
    "    \"CR1000_Table1 20180219.dat\",\n",
    "    \"CR1000_Table1 20180221.dat\",\n",
    "    \"CR1000_Table1 20180226.dat\",\n",
    "    \"CR1000_Table1 20180301.dat\",\n",
    "    \"CR1000_Table1 20180305.dat\",\n",
    "    \"CR1000_Table1 20180307.dat\",\n",
    "    \"CR1000_Table1 20180311.dat\",\n",
    "    \"CR1000_Table1 20180314.dat\",\n",
    "    \"CR1000_Table1 20180319.dat\",\n",
    "    \"CR1000_Table1 20180321.dat\",\n",
    "    \"CR1000_Table1 20180326.dat\",\n",
    "    \"CR1000_Table1 20180328.dat\",\n",
    "    \"CR1000_Table1 20180401.dat\",\n",
    "    \"CR1000_Table1 20180404.dat\",\n",
    "    \"CR1000_Table1 20180405.dat\",\n",
    "    \"CR1000_Table1 20180407.dat\",\n",
    "    \"CR1000_Table1 20180410.dat\",\n",
    "    \"CR1000_Table1 20180412.dat\",\n",
    "    \"CR1000_Table1 20180414.dat\",\n",
    "    \"CR1000_Table1 20180417.dat\",\n",
    "    \"CR1000_Table1 20180419.dat\",\n",
    "    \"CR1000_Table1 20180422.dat\",\n",
    "    \"CR1000_Table1 20180426.dat\",\n",
    "        ]\n",
    "\n",
    "START_TIME = '2017-11-08 00:00:00'\n",
    "END_TIME = '2018-04-26 23:59:50'\n",
    "\n",
    "DATE_RANGE = pd.date_range(START_TIME, END_TIME, freq='10min')"
   ]
  },
  {
   "cell_type": "code",
   "execution_count": null,
   "metadata": {},
   "outputs": [],
   "source": [
    "COMMON_COLUMNS = [\"mLperDrip\", \"Pyrano_W\", \"AccdRadSet\", \"IrrDaily\"]"
   ]
  },
  {
   "cell_type": "code",
   "execution_count": null,
   "metadata": {},
   "outputs": [],
   "source": [
    "raw_df = pd.read_csv(\"./data/\" + FILES[0], low_memory=False, skiprows=1, index_col=\"TIMESTAMP\")\n",
    "raw_df = raw_df.iloc[2:,:]\n",
    "\n",
    "raw_df.drop([\"RECORD\", \"Batt_Volt\"], axis=1)\n",
    "\n",
    "columns_closed = [columns_to_use for columns_to_use in raw_df.columns if \"(3)\" in columns_to_use]\n",
    "columns_open = [columns_to_use for columns_to_use in raw_df.columns if \"(4)\" in columns_to_use]\n",
    "columns_closed.extend(COMMON_COLUMNS)\n",
    "columns_open.extend(COMMON_COLUMNS)\n",
    "\n",
    "\n",
    "raw_closed = raw_df.loc[:, columns_closed]\n",
    "raw_open = raw_df.loc[:, columns_open]"
   ]
  },
  {
   "cell_type": "code",
   "execution_count": null,
   "metadata": {
    "scrolled": false
   },
   "outputs": [],
   "source": [
    "for FILE_NAME in FILES[1:]:\n",
    "    print(FILE_NAME)\n",
    "    raw_df = pd.read_csv(\"./data/\" + FILE_NAME, low_memory=False, skiprows=1, index_col=\"TIMESTAMP\")\n",
    "    raw_df = raw_df.iloc[2:,:]\n",
    "    \n",
    "    raw_df.drop([\"RECORD\", \"Batt_Volt\"], axis=1)\n",
    "    \n",
    "    columns_closed = [columns_to_use for columns_to_use in raw_df.columns if \"(3)\" in columns_to_use]\n",
    "    columns_closed.extend(COMMON_COLUMNS)\n",
    "    if \"RootTemp(1)\" in raw_df.columns:\n",
    "        columns_closed.extend([\"GrnHsHum(1)\", \"GrnHsTemp(1)\", \"RootTemp(1)\"])\n",
    "    \n",
    "        \n",
    "    columns_open = [columns_to_use for columns_to_use in raw_df.columns if \"(4)\" in columns_to_use]\n",
    "    columns_open.extend(COMMON_COLUMNS)\n",
    "    if \"RootTemp(2)\" in raw_df.columns:\n",
    "        columns_open.extend([\"GrnHsHum(2)\", \"GrnHsTemp(2)\", \"RootTemp(2)\"])\n",
    "    \n",
    "    raw_closed = pd.concat([raw_closed, raw_df.loc[:, columns_closed]])\n",
    "    raw_open = pd.concat([raw_open, raw_df.loc[:, columns_open]])\n",
    "    print(raw_closed.shape, raw_open.shape)"
   ]
  },
  {
   "cell_type": "code",
   "execution_count": null,
   "metadata": {},
   "outputs": [],
   "source": [
    "raw_open.index = pd.DatetimeIndex(raw_open.index)\n",
    "raw_closed.index = pd.DatetimeIndex(raw_closed.index)\n",
    "raw_open = raw_open.astype(\"float\")\n",
    "raw_closed = raw_closed.astype(\"float\")\n",
    "\n",
    "DATE_RANGE_OPEN = pd.date_range(START_TIME, END_TIME, freq='10s')\n",
    "DATE_RANGE_CLOSED = pd.date_range(START_TIME, END_TIME, freq='10s')\n",
    "\n",
    "raw_open = raw_open.loc[DATE_RANGE_OPEN]\n",
    "raw_closed = raw_closed.loc[DATE_RANGE_CLOSED]"
   ]
  },
  {
   "cell_type": "code",
   "execution_count": null,
   "metadata": {},
   "outputs": [],
   "source": [
    "raw_open.index = raw_open.index.round(freq=\"10min\")\n",
    "raw_closed.index = raw_closed.index.round(freq=\"10min\")\n",
    "\n",
    "raw_open = raw_open.groupby(raw_open.index).mean()\n",
    "raw_closed = raw_closed.groupby(raw_closed.index).mean()"
   ]
  },
  {
   "cell_type": "code",
   "execution_count": null,
   "metadata": {},
   "outputs": [],
   "source": [
    "# #pH dumping\n",
    "# raw_closed.loc[[\"MixTnkpH(4)\"]] = raw_open.loc[[\"MixTnkpH(3)\"]]"
   ]
  },
  {
   "cell_type": "markdown",
   "metadata": {},
   "source": [
    "## Public data (5 min interval)"
   ]
  },
  {
   "cell_type": "code",
   "execution_count": null,
   "metadata": {},
   "outputs": [],
   "source": [
    "TEMPERATURE_FILES = [\n",
    "    \"CR1000_Public 20180112.dat\",\n",
    "    \"CR1000_Public 20180213.dat\",\n",
    "    \"CR1000_Public 20180216.dat\",\n",
    "    \"CR1000_Public 20180219.dat\",\n",
    "        ]"
   ]
  },
  {
   "cell_type": "code",
   "execution_count": null,
   "metadata": {},
   "outputs": [],
   "source": [
    "raw_df = pd.read_csv(\"./data/\" + TEMPERATURE_FILES[0], low_memory=False, skiprows=1, index_col=\"TIMESTAMP\")\n",
    "raw_df = raw_df.iloc[2:,:]\n",
    "\n",
    "raw_df.drop([\"RECORD\", \"Batt_Volt\"], axis=1)\n",
    "\n",
    "columns_closed = [\"GrnHsTemp(1)\"]\n",
    "columns_open = [\"GrnHsTemp(2)\"]\n",
    "\n",
    "temp_closed = raw_df.loc[:, columns_closed]\n",
    "temp_open = raw_df.loc[:, columns_open]"
   ]
  },
  {
   "cell_type": "code",
   "execution_count": null,
   "metadata": {},
   "outputs": [],
   "source": [
    "for FILE_NAME in TEMPERATURE_FILES[1:]:\n",
    "    print(FILE_NAME)\n",
    "    raw_df = pd.read_csv(\"./data/\" + FILE_NAME, low_memory=False, skiprows=1, index_col=\"TIMESTAMP\")\n",
    "    raw_df = raw_df.iloc[2:,:]\n",
    "    \n",
    "    raw_df.drop([\"RECORD\", \"Batt_Volt\"], axis=1)\n",
    "    \n",
    "    columns_closed = [\"GrnHsTemp(1)\"]\n",
    "    columns_open = [\"GrnHsTemp(2)\"]\n",
    "    \n",
    "    temp_closed = pd.concat([temp_closed, raw_df.loc[:, columns_closed]])\n",
    "    temp_open = pd.concat([temp_open, raw_df.loc[:, columns_open]])\n",
    "    print(temp_closed.shape, temp_open.shape)"
   ]
  },
  {
   "cell_type": "code",
   "execution_count": null,
   "metadata": {},
   "outputs": [],
   "source": [
    "temp_open.index = pd.DatetimeIndex(temp_open.index)\n",
    "temp_closed.index = pd.DatetimeIndex(temp_closed.index)\n",
    "temp_open = temp_open.astype(\"float\")\n",
    "temp_closed = temp_closed.astype(\"float\")\n",
    "\n",
    "temp_open.index = temp_open.index.round(freq=\"5min\")\n",
    "temp_closed.index = temp_closed.index.round(freq=\"5min\")\n",
    "\n",
    "temp_open = temp_open.groupby(temp_open.index).mean()\n",
    "temp_closed = temp_closed.groupby(temp_closed.index).mean()"
   ]
  },
  {
   "cell_type": "code",
   "execution_count": null,
   "metadata": {},
   "outputs": [],
   "source": [
    "temp_open.index = temp_open.index.round(freq=\"10min\")\n",
    "temp_closed.index = temp_closed.index.round(freq=\"10min\")\n",
    "\n",
    "temp_open = temp_open.groupby(temp_open.index).mean()\n",
    "temp_closed = temp_closed.groupby(temp_closed.index).mean()"
   ]
  },
  {
   "cell_type": "code",
   "execution_count": null,
   "metadata": {},
   "outputs": [],
   "source": [
    "temp_open = temp_open[temp_open.index < END_TIME]\n",
    "temp_closed = temp_closed[temp_closed.index < END_TIME]"
   ]
  },
  {
   "cell_type": "markdown",
   "metadata": {},
   "source": [
    "## Greenhouse data (10 min)"
   ]
  },
  {
   "cell_type": "code",
   "execution_count": null,
   "metadata": {},
   "outputs": [],
   "source": [
    "raw_df = pd.read_excel(\"./data/Suwon_env_20171102-20180110.xlsx\")"
   ]
  },
  {
   "cell_type": "code",
   "execution_count": null,
   "metadata": {},
   "outputs": [],
   "source": [
    "raw_df.index = raw_df[\"date\"].astype(\"str\") + \" \" + raw_df[\"time\"].astype(\"str\")\n",
    "raw_df.index = pd.DatetimeIndex(raw_df.index)\n",
    "raw_df.drop([\"date\", \"time\"], axis=1, inplace=True)"
   ]
  },
  {
   "cell_type": "code",
   "execution_count": null,
   "metadata": {
    "scrolled": false
   },
   "outputs": [],
   "source": [
    "raw_df = raw_df.loc[pd.date_range(START_TIME, temp_open.index[0], freq=\"10min\")]\n",
    "greenhouse_df = raw_df.loc[:, [\"Temp\", \"Hum\"]]"
   ]
  },
  {
   "cell_type": "markdown",
   "metadata": {},
   "source": [
    "## Manual data"
   ]
  },
  {
   "cell_type": "markdown",
   "metadata": {},
   "source": [
    "## plant growth data"
   ]
  },
  {
   "cell_type": "code",
   "execution_count": null,
   "metadata": {},
   "outputs": [],
   "source": [
    "plant_growth_df = pd.read_excel(\"../data/SW_Ion/Plant_grwoth.xlsx\", index_col=\"Date\")\n",
    "plant_growth_df = plant_growth_df.groupby(plant_growth_df.index).mean()\n",
    "plant_growth_df.index = pd.DatetimeIndex(plant_growth_df.index) + pd.Timedelta(\"12h\")"
   ]
  },
  {
   "cell_type": "code",
   "execution_count": null,
   "metadata": {},
   "outputs": [],
   "source": [
    "plant_growth_df = plant_growth_df.reindex(raw_closed.index)\n",
    "plant_growth_df.interpolate(\"linear\", inplace=True)"
   ]
  },
  {
   "cell_type": "code",
   "execution_count": null,
   "metadata": {},
   "outputs": [],
   "source": [
    "plant_growth_closed = plant_growth_df[[columns_to_use for columns_to_use in plant_growth_df.columns if \"3_\" in columns_to_use]]\n",
    "plant_growth_open = plant_growth_df[[columns_to_use for columns_to_use in plant_growth_df.columns if \"4_\" in columns_to_use]]"
   ]
  },
  {
   "cell_type": "markdown",
   "metadata": {},
   "source": [
    "## Merging"
   ]
  },
  {
   "cell_type": "markdown",
   "metadata": {},
   "source": [
    "### Public data"
   ]
  },
  {
   "cell_type": "code",
   "execution_count": null,
   "metadata": {},
   "outputs": [],
   "source": [
    "raw_closed.loc[temp_closed.index, \"GrnHsTemp(1)\"] = temp_closed.loc[:, \"GrnHsTemp(1)\"]\n",
    "raw_open.loc[temp_open.index, \"GrnHsTemp(2)\"] = temp_open.loc[:, \"GrnHsTemp(2)\"]"
   ]
  },
  {
   "cell_type": "markdown",
   "metadata": {},
   "source": [
    "### Greenhouse data"
   ]
  },
  {
   "cell_type": "code",
   "execution_count": null,
   "metadata": {},
   "outputs": [],
   "source": [
    "raw_closed.loc[greenhouse_df.index, \"GrnHsTemp(1)\"] = greenhouse_df.loc[:, \"Temp\"]\n",
    "raw_open.loc[greenhouse_df.index, \"GrnHsTemp(2)\"] = greenhouse_df.loc[:, \"Temp\"]\n",
    "\n",
    "raw_closed.loc[greenhouse_df.index, \"GrnHsHum(1)\"] = greenhouse_df.loc[:, \"Hum\"]\n",
    "raw_open.loc[greenhouse_df.index, \"GrnHsHum(2)\"] = greenhouse_df.loc[:, \"Hum\"]"
   ]
  },
  {
   "cell_type": "code",
   "execution_count": null,
   "metadata": {},
   "outputs": [],
   "source": [
    "CLOSED = [\"RWEC(3)\", \"ECD(3)\", \"ECS(3)\", \"DrgV(3)\", \"RWMC(3)\",\n",
    "          \"InjDrgVR(3)\", \"InjWtrVR(3)\", \"InjStkVR(3)\", \"DrgDaily(3)\",\n",
    "          \"MixV(3)\", \"MixTnkpH(3)\", \"GrnHsHum(1)\", \"GrnHsTemp(1)\", \"RootTemp(1)\"]\n",
    "CLOSED.extend(COMMON_COLUMNS)\n",
    "OPEN = [\"RWEC(4)\", \"ECD(4)\", \"ECS(4)\", \"DrgV(4)\", \"RWMC(4)\",\n",
    "        \"InjDrgVR(4)\", \"InjWtrVR(4)\", \"InjStkVR(4)\", \"DrgDaily(4)\",\n",
    "        \"MixV(4)\", \"MixTnkpH(4)\", \"GrnHsHum(2)\", \"GrnHsTemp(2)\", \"RootTemp(2)\"]\n",
    "OPEN.extend(COMMON_COLUMNS)"
   ]
  },
  {
   "cell_type": "code",
   "execution_count": null,
   "metadata": {},
   "outputs": [],
   "source": [
    "raw_closed = raw_closed.loc[:, CLOSED]\n",
    "raw_open = raw_open.loc[:, OPEN]"
   ]
  },
  {
   "cell_type": "markdown",
   "metadata": {},
   "source": [
    "## plant growth data"
   ]
  },
  {
   "cell_type": "code",
   "execution_count": null,
   "metadata": {},
   "outputs": [],
   "source": [
    "raw_closed = pd.concat([raw_closed, plant_growth_closed], axis=1)\n",
    "raw_open = pd.concat([raw_open, plant_growth_open], axis=1)"
   ]
  },
  {
   "cell_type": "code",
   "execution_count": null,
   "metadata": {},
   "outputs": [],
   "source": [
    "raw_closed.head()"
   ]
  },
  {
   "cell_type": "code",
   "execution_count": null,
   "metadata": {},
   "outputs": [],
   "source": [
    "RESULTS_DIRECTORY = \"./results/\"\n",
    "\n",
    "if not os.path.exists(RESULTS_DIRECTORY):\n",
    "    os.makedirs(RESULTS_DIRECTORY)"
   ]
  },
  {
   "cell_type": "code",
   "execution_count": null,
   "metadata": {},
   "outputs": [],
   "source": [
    "raw_closed.to_csv(RESULTS_DIRECTORY + \"closed_data.csv\")\n",
    "raw_open.to_csv(RESULTS_DIRECTORY + \"open_data.csv\")"
   ]
  }
 ],
 "metadata": {
  "kernelspec": {
   "display_name": "Python 3",
   "language": "python",
   "name": "python3"
  },
  "language_info": {
   "codemirror_mode": {
    "name": "ipython",
    "version": 3
   },
   "file_extension": ".py",
   "mimetype": "text/x-python",
   "name": "python",
   "nbconvert_exporter": "python",
   "pygments_lexer": "ipython3",
   "version": "3.5.2"
  }
 },
 "nbformat": 4,
 "nbformat_minor": 2
}
