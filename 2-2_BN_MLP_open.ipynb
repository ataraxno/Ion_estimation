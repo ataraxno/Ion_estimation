{
 "cells": [
  {
   "cell_type": "markdown",
   "metadata": {},
   "source": [
    "# Package"
   ]
  },
  {
   "cell_type": "code",
   "execution_count": 1,
   "metadata": {
    "scrolled": false
   },
   "outputs": [
    {
     "name": "stderr",
     "output_type": "stream",
     "text": [
      "/usr/local/lib/python3.5/dist-packages/h5py/__init__.py:36: FutureWarning: Conversion of the second argument of issubdtype from `float` to `np.floating` is deprecated. In future, it will be treated as `np.float64 == np.dtype(float).type`.\n",
      "  from ._conv import register_converters as _register_converters\n"
     ]
    },
    {
     "name": "stdout",
     "output_type": "stream",
     "text": [
      "Package is ready.\n"
     ]
    }
   ],
   "source": [
    "import os\n",
    "import time\n",
    "\n",
    "import numpy as np\n",
    "import pandas as pd\n",
    "from sklearn.utils import shuffle, resample\n",
    "from sklearn.metrics import mean_squared_error, r2_score\n",
    "from sklearn.model_selection import KFold\n",
    "\n",
    "import tensorflow as tf\n",
    "\n",
    "import matplotlib\n",
    "import matplotlib.pyplot as plt\n",
    "%matplotlib inline\n",
    "print(\"Package is ready.\")"
   ]
  },
  {
   "cell_type": "markdown",
   "metadata": {},
   "source": [
    "# Hyperparameters"
   ]
  },
  {
   "cell_type": "markdown",
   "metadata": {},
   "source": [
    "## Plotting parameters"
   ]
  },
  {
   "cell_type": "code",
   "execution_count": 2,
   "metadata": {},
   "outputs": [],
   "source": [
    "matplotlib.rcParams['figure.figsize'] = ((8/2.54)*2, (6/2.54)*2)\n",
    "plt.rcParams[\"font.family\"] = \"arial\"\n",
    "plt.rcParams[\"font.serif\"] = \"arial\"\n",
    "plt.rcParams[\"mathtext.default\"] = \"rm\"\n",
    "plt.rcParams.update({'font.size': 11})\n",
    "MARKER_SIZE = 15\n",
    "cmap_m = [\"#f4a6ad\", \"#f6957e\", \"#fccfa2\", \"#8de7be\", \"#86d6f2\", \"#24a9e4\", \"#b586e0\", \"#d7f293\"]\n",
    "cmap = [\"#e94d5b\", \"#ef4d28\", \"#f9a54f\", \"#25b575\", \"#1bb1e7\", \"#1477a2\", \"#a662e5\", \"#c2f442\"]\n",
    "\n",
    "plt.rcParams['axes.linewidth'] = 2\n",
    "plt.rcParams['lines.linewidth'] = 1.5\n",
    "plt.rcParams['xtick.major.width'] = 2\n",
    "plt.rcParams['xtick.minor.width'] = 1\n",
    "plt.rcParams['ytick.major.width'] = 2\n",
    "plt.rcParams['ytick.minor.width'] = 1"
   ]
  },
  {
   "cell_type": "markdown",
   "metadata": {},
   "source": [
    "## Training parameters"
   ]
  },
  {
   "cell_type": "code",
   "execution_count": 3,
   "metadata": {},
   "outputs": [],
   "source": [
    "#Constants\n",
    "N_TASKS = 6\n",
    "N_FOLD = 5\n",
    "EX_TEST = 0\n",
    "EXPLANATION_ = \"BN_FC_noMT_Ion_open\"\n",
    "EPSILON = 0.0001\n",
    "TRAINING_EPOCHS = 50000\n",
    "BATCH_SIZE = 16\n",
    "DISPLAY_STEP = 500\n",
    "\n",
    "N_HIDDEN = 512\n",
    "\n",
    "SHIELD = 999\n",
    "LIMIT = 3002"
   ]
  },
  {
   "cell_type": "markdown",
   "metadata": {},
   "source": [
    "# Data handling"
   ]
  },
  {
   "cell_type": "markdown",
   "metadata": {},
   "source": [
    "## Date loading"
   ]
  },
  {
   "cell_type": "code",
   "execution_count": 4,
   "metadata": {},
   "outputs": [],
   "source": [
    "ion_label = pd.read_excel(\"../data/SW_Ion/Ion concentration_meq_20171109-20180426.xlsx\", skiprows=1, index_col=\"date\")"
   ]
  },
  {
   "cell_type": "code",
   "execution_count": 5,
   "metadata": {},
   "outputs": [],
   "source": [
    "ion_label = ion_label[~(ion_label.index < '2018-01-12')]\n",
    "#ion_label.drop([\"N.1\"], axis=1, inplace=True)\n",
    "ion_label.drop([\"K\", \"Ca\", \"Mg\", \"S\", \"N\", \"P\"], axis=1, inplace=True)\n",
    "ion_label.drop([columns for columns in ion_label.columns if \"Unnamed:\" in columns], axis= 1, inplace=True)\n",
    "ion_label.drop([columns for columns in ion_label.columns if \".2\" in columns], axis= 1, inplace=True)\n",
    "ion_label.drop([columns for columns in ion_label.columns if \".3\" in columns], axis= 1, inplace=True)\n",
    "ion_label.dropna(inplace=True)\n",
    "#ion_label.drop([pd.Timestamp(\"2018-04-23\"), pd.Timestamp(\"2018-04-12\"), pd.Timestamp(\"2018-04-05\")], axis=0, inplace=True)\n",
    "ion_label.drop([pd.Timestamp(\"2018-04-13\")], axis=0, inplace=True)"
   ]
  },
  {
   "cell_type": "code",
   "execution_count": 6,
   "metadata": {},
   "outputs": [],
   "source": [
    "ion_label.index += pd.Timedelta(\"16h\")"
   ]
  },
  {
   "cell_type": "code",
   "execution_count": 7,
   "metadata": {},
   "outputs": [],
   "source": [
    "ion_label = ion_label.sample(frac=1.0)"
   ]
  },
  {
   "cell_type": "code",
   "execution_count": 8,
   "metadata": {},
   "outputs": [],
   "source": [
    "raw_open = pd.read_csv(\"./results/open_data.csv\", index_col=\"TIMESTAMP\")\n",
    "raw_open.index = pd.DatetimeIndex(raw_open.index)\n",
    "raw_open = raw_open[np.abs(raw_open-raw_open.mean())<=(3*raw_open.std())]\n",
    "raw_open[\"RootTemp(2)\"][0] = 20\n",
    "raw_open.drop([\"ECS(4)\", \"InjDrgVR(4)\", \"DrgDaily(4)\", \"DrgV(4)\"], axis=1, inplace=True)\n",
    "#raw_open.drop([\"MixTnkpH(4)\", \"RWEC(4)\", \"InjDrgVR(4)\", \"DrgDaily(4)\"], axis=1, inplace=True)"
   ]
  },
  {
   "cell_type": "code",
   "execution_count": 9,
   "metadata": {},
   "outputs": [],
   "source": [
    "raw_open.interpolate(\"linear\", inplace=True)\n",
    "\n",
    "# raw_open.index = (raw_open.index).round(INTERVAL)\n",
    "# raw_open = raw_open.groupby(raw_open.index).mean()"
   ]
  },
  {
   "cell_type": "code",
   "execution_count": 10,
   "metadata": {},
   "outputs": [],
   "source": [
    "MAXS = raw_open.max()\n",
    "MINS = raw_open.min()\n",
    "LABELMAXS = ion_label.max()\n",
    "LABELMINS = ion_label.min()"
   ]
  },
  {
   "cell_type": "code",
   "execution_count": 11,
   "metadata": {},
   "outputs": [],
   "source": [
    "raw_open = (raw_open - MINS) / (MAXS - MINS)\n",
    "ion_label = (ion_label - LABELMINS) / (LABELMAXS - LABELMINS)"
   ]
  },
  {
   "cell_type": "code",
   "execution_count": 12,
   "metadata": {},
   "outputs": [],
   "source": [
    "env_input = raw_open.reindex(ion_label.index)"
   ]
  },
  {
   "cell_type": "code",
   "execution_count": 13,
   "metadata": {},
   "outputs": [],
   "source": [
    "train_inputs = []\n",
    "train_labels = []\n",
    "test_inputs = []\n",
    "test_labels = []\n",
    "\n",
    "kf = KFold(n_splits=N_FOLD, shuffle=True)\n",
    "for train_index, test_index in kf.split(ion_label):\n",
    "    train_inputs.append(env_input.iloc[train_index, :])\n",
    "    train_labels.append(ion_label.iloc[train_index, :])\n",
    "    test_inputs.append(env_input.iloc[test_index, :])\n",
    "    test_labels.append(ion_label.iloc[test_index, :])"
   ]
  },
  {
   "cell_type": "code",
   "execution_count": 14,
   "metadata": {},
   "outputs": [
    {
     "name": "stdout",
     "output_type": "stream",
     "text": [
      "number of output: 6\n",
      "number of feature: 23\n",
      "number of train data: 40\n",
      "number of test data: 11\n"
     ]
    }
   ],
   "source": [
    "n_output = 6\n",
    "n_features = test_inputs[0].shape[1]\n",
    "n_train = train_inputs[0].shape[0]\n",
    "n_test = test_inputs[0].shape[0]\n",
    "\n",
    "print(\"number of output: %d\" % n_output)\n",
    "print(\"number of feature: %d\" % n_features)\n",
    "print(\"number of train data: %d\" % n_train)\n",
    "print(\"number of test data: %d\" % n_test)"
   ]
  },
  {
   "cell_type": "markdown",
   "metadata": {},
   "source": [
    "## Network preparation"
   ]
  },
  {
   "cell_type": "markdown",
   "metadata": {},
   "source": [
    "### Constructing networks"
   ]
  },
  {
   "cell_type": "code",
   "execution_count": 15,
   "metadata": {},
   "outputs": [],
   "source": [
    "def FC(x, size, scope):\n",
    "    return tf.contrib.layers.fully_connected(x, size, activation_fn=None, scope=scope)\n",
    "\n",
    "def BN_FC(x, n_hidden, phase, scope):\n",
    "    with tf.variable_scope(scope):\n",
    "        h1 = tf.contrib.layers.fully_connected(x, n_hidden, activation_fn=None, scope='FC')\n",
    "        h2 = tf.layers.batch_normalization(h1, training=phase)\n",
    "        return tf.nn.relu(h2, 'relu')\n",
    "    \n",
    "def layers(_x, _n_hidden, _phase):\n",
    "\n",
    "    h1 = BN_FC(_x, _n_hidden, _phase, \"layer1\")\n",
    "    h2 = BN_FC(h1, _n_hidden, _phase, \"layer2\")\n",
    "    h3 = BN_FC(h2, _n_hidden, _phase, \"layer3\")\n",
    "    h4 = BN_FC(h3, _n_hidden, _phase, \"layer4\")\n",
    "#     h5 = BN_FC(h4, _n_hidden, _phase, \"layer5\")\n",
    "#     h6 = BN_FC(h5, _n_hidden, _phase, \"layer6\")\n",
    "#     h7 = BN_FC(h6, _n_hidden, _phase, \"layer7\")\n",
    "#     h8 = BN_FC(h7, _n_hidden, _phase, \"layer8\")\n",
    "#     h9 = BN_FC(h8, _n_hidden, _phase, \"layer9\")\n",
    "#     h10 = BN_FC(h9, _n_hidden, _phase, \"layer10\")\n",
    "#     h11 = BN_FC(h10, _n_hidden, _phase, \"layer11\")\n",
    "#     h12 = BN_FC(h11, _n_hidden, _phase, \"layer12\")\n",
    "#     h13 = BN_FC(h12, _n_hidden, _phase, \"layer13\")\n",
    "#     h14 = BN_FC(h13, _n_hidden, _phase, \"layer14\")\n",
    "#     h15 = BN_FC(h14, _n_hidden, _phase, \"layer15\")\n",
    "#     h16 = BN_FC(h15, _n_hidden, _phase, \"layer16\")\n",
    "    out = FC(h4, n_output, \"out\")\n",
    "\n",
    "    return out"
   ]
  },
  {
   "cell_type": "code",
   "execution_count": 16,
   "metadata": {
    "scrolled": false
   },
   "outputs": [
    {
     "name": "stdout",
     "output_type": "stream",
     "text": [
      "Epoch:        0/   50000 cost: 1.008746, best: 0.000000\n",
      "Training Acc: -2.905, Test Acc: -3.314\n",
      "Epoch:      500/   50000 cost: 0.010444, best: 0.000000\n",
      "Training Acc: 0.735, Test Acc: 0.137\n",
      "Epoch:     1000/   50000 cost: 0.002540, best: 0.000000\n",
      "Training Acc: 0.928, Test Acc: -0.052\n",
      "Epoch:     1500/   50000 cost: 0.004867, best: 0.256311\n",
      "Training Acc: 0.844, Test Acc: -0.009\n",
      "Epoch:     2000/   50000 cost: 0.003026, best: 0.413186\n",
      "Training Acc: 0.905, Test Acc: 0.231\n",
      "Epoch:     2500/   50000 cost: 0.000937, best: 0.421993\n",
      "Training Acc: 0.861, Test Acc: -0.281\n",
      "Epoch:     3000/   50000 cost: 0.003499, best: 0.421993\n",
      "Training Acc: 0.782, Test Acc: -0.320\n",
      "Epoch:     3500/   50000 cost: 0.001137, best: 0.421993\n",
      "Training Acc: 0.905, Test Acc: 0.133\n",
      "Epoch:     4000/   50000 cost: 0.000471, best: 0.421993\n",
      "Training Acc: 0.926, Test Acc: -0.045\n",
      "Epoch:     4500/   50000 cost: 0.000289, best: 0.421993\n",
      "Training Acc: 0.853, Test Acc: -0.282\n",
      "Epoch:     5000/   50000 cost: 0.000331, best: 0.421993\n",
      "Training Acc: 0.816, Test Acc: -0.463\n",
      "Epoch:     5500/   50000 cost: 0.000741, best: 0.421993\n",
      "Training Acc: 0.841, Test Acc: -0.611\n",
      "Epoch:     6000/   50000 cost: 0.001705, best: 0.421993\n",
      "Training Acc: 0.815, Test Acc: -0.821\n",
      "Epoch:     6500/   50000 cost: 0.000347, best: 0.421993\n",
      "Training Acc: 0.915, Test Acc: -0.330\n",
      "Epoch:     7000/   50000 cost: 0.000383, best: 0.421993\n",
      "Training Acc: 0.832, Test Acc: -0.908\n",
      "Epoch:     7500/   50000 cost: 0.000146, best: 0.421993\n",
      "Training Acc: 0.893, Test Acc: -0.337\n",
      "Epoch:     8000/   50000 cost: 0.000736, best: 0.421993\n",
      "Training Acc: 0.916, Test Acc: -0.558\n",
      "\n",
      "Early stopping.\n",
      "Epoch:     8025/   50000 cost: 0.000206, best: 0.421993\n",
      "Training Acc: 0.828, Test Acc: -0.940\n",
      "Optimization Finished\n",
      "training time: 37.03 sec.\n",
      "INFO:tensorflow:Restoring parameters from ./models/best_trained_BN_FC_noMT_Ion_open_F1.ckpt\n",
      "Training Accuracy: 0.8564843\n",
      "Test Accuracy: 0.42199332\n",
      "Epoch:        0/   50000 cost: 1.482601, best: 0.000000\n",
      "Training Acc: -2.794, Test Acc: -2.912\n",
      "Epoch:      500/   50000 cost: 0.006777, best: 0.000000\n",
      "Training Acc: 0.806, Test Acc: 0.574\n",
      "Epoch:     1000/   50000 cost: 0.004517, best: 0.756036\n",
      "Training Acc: 0.883, Test Acc: 0.756\n",
      "Epoch:     1500/   50000 cost: 0.004299, best: 0.863141\n",
      "Training Acc: 0.929, Test Acc: 0.790\n",
      "Epoch:     2000/   50000 cost: 0.002592, best: 0.867230\n",
      "Training Acc: 0.911, Test Acc: 0.769\n",
      "Epoch:     2500/   50000 cost: 0.001187, best: 0.881585\n",
      "Training Acc: 0.920, Test Acc: 0.839\n",
      "Epoch:     3000/   50000 cost: 0.006408, best: 0.889096\n",
      "Training Acc: 0.892, Test Acc: 0.753\n",
      "Epoch:     3500/   50000 cost: 0.001748, best: 0.897039\n",
      "Training Acc: 0.882, Test Acc: 0.814\n",
      "Epoch:     4000/   50000 cost: 0.000641, best: 0.898389\n",
      "Training Acc: 0.889, Test Acc: 0.839\n",
      "Epoch:     4500/   50000 cost: 0.001930, best: 0.898389\n",
      "Training Acc: 0.881, Test Acc: 0.877\n",
      "Epoch:     5000/   50000 cost: 0.000590, best: 0.903604\n",
      "Training Acc: 0.926, Test Acc: 0.863\n",
      "Epoch:     5500/   50000 cost: 0.000713, best: 0.907333\n",
      "Training Acc: 0.922, Test Acc: 0.865\n",
      "Epoch:     6000/   50000 cost: 0.001007, best: 0.907333\n",
      "Training Acc: 0.896, Test Acc: 0.828\n",
      "Epoch:     6500/   50000 cost: 0.000265, best: 0.907429\n",
      "Training Acc: 0.861, Test Acc: 0.869\n",
      "Epoch:     7000/   50000 cost: 0.000267, best: 0.907429\n",
      "Training Acc: 0.875, Test Acc: 0.886\n",
      "Epoch:     7500/   50000 cost: 0.000272, best: 0.907429\n",
      "Training Acc: 0.832, Test Acc: 0.893\n",
      "Epoch:     8000/   50000 cost: 0.000215, best: 0.907429\n",
      "Training Acc: 0.926, Test Acc: 0.900\n",
      "Epoch:     8500/   50000 cost: 0.000237, best: 0.909453\n",
      "Training Acc: 0.939, Test Acc: 0.894\n",
      "Epoch:     9000/   50000 cost: 0.000319, best: 0.915375\n",
      "Training Acc: 0.964, Test Acc: 0.893\n",
      "Epoch:     9500/   50000 cost: 0.000115, best: 0.915375\n",
      "Training Acc: 0.938, Test Acc: 0.899\n",
      "Epoch:    10000/   50000 cost: 0.000179, best: 0.915836\n",
      "Training Acc: 0.897, Test Acc: 0.871\n",
      "Epoch:    10500/   50000 cost: 0.000220, best: 0.915836\n",
      "Training Acc: 0.858, Test Acc: 0.911\n",
      "Epoch:    11000/   50000 cost: 0.000206, best: 0.920362\n",
      "Training Acc: 0.885, Test Acc: 0.904\n",
      "Epoch:    11500/   50000 cost: 0.000447, best: 0.920362\n",
      "Training Acc: 0.889, Test Acc: 0.901\n",
      "Epoch:    12000/   50000 cost: 0.000052, best: 0.920362\n",
      "Training Acc: 0.891, Test Acc: 0.912\n",
      "Epoch:    12500/   50000 cost: 0.000080, best: 0.920362\n",
      "Training Acc: 0.938, Test Acc: 0.904\n",
      "Epoch:    13000/   50000 cost: 0.000058, best: 0.920362\n",
      "Training Acc: 0.902, Test Acc: 0.905\n",
      "Epoch:    13500/   50000 cost: 0.000057, best: 0.920362\n",
      "Training Acc: 0.859, Test Acc: 0.900\n",
      "Epoch:    14000/   50000 cost: 0.000058, best: 0.920362\n",
      "Training Acc: 0.826, Test Acc: 0.888\n",
      "Epoch:    14500/   50000 cost: 0.000061, best: 0.920362\n",
      "Training Acc: 0.849, Test Acc: 0.899\n",
      "Epoch:    15000/   50000 cost: 0.000103, best: 0.920362\n",
      "Training Acc: 0.878, Test Acc: 0.904\n",
      "Epoch:    15500/   50000 cost: 0.000126, best: 0.920362\n",
      "Training Acc: 0.854, Test Acc: 0.897\n",
      "Epoch:    16000/   50000 cost: 0.000077, best: 0.920362\n",
      "Training Acc: 0.879, Test Acc: 0.896\n",
      "Epoch:    16500/   50000 cost: 0.000072, best: 0.920362\n",
      "Training Acc: 0.800, Test Acc: 0.893\n",
      "\n",
      "Early stopping.\n",
      "Epoch:    16553/   50000 cost: 0.000072, best: 0.920362\n",
      "Training Acc: 0.866, Test Acc: 0.891\n",
      "Optimization Finished\n",
      "training time: 76.84 sec.\n",
      "INFO:tensorflow:Restoring parameters from ./models/best_trained_BN_FC_noMT_Ion_open_F2.ckpt\n",
      "Training Accuracy: 0.8200058\n",
      "Test Accuracy: 0.92036164\n",
      "Epoch:        0/   50000 cost: 1.597627, best: 0.000000\n",
      "Training Acc: -3.000, Test Acc: -4.557\n",
      "Epoch:      500/   50000 cost: 0.018165, best: 0.000000\n",
      "Training Acc: 0.799, Test Acc: 0.561\n",
      "Epoch:     1000/   50000 cost: 0.006987, best: 0.000000\n",
      "Training Acc: 0.759, Test Acc: 0.492\n",
      "Epoch:     1500/   50000 cost: 0.005915, best: 0.834874\n",
      "Training Acc: 0.917, Test Acc: 0.692\n",
      "Epoch:     2000/   50000 cost: 0.002871, best: 0.839891\n",
      "Training Acc: 0.863, Test Acc: 0.664\n",
      "Epoch:     2500/   50000 cost: 0.002983, best: 0.867520\n",
      "Training Acc: 0.903, Test Acc: 0.649\n",
      "Epoch:     3000/   50000 cost: 0.005302, best: 0.867520\n",
      "Training Acc: 0.912, Test Acc: 0.804\n",
      "Epoch:     3500/   50000 cost: 0.000991, best: 0.867520\n",
      "Training Acc: 0.944, Test Acc: 0.826\n",
      "Epoch:     4000/   50000 cost: 0.000916, best: 0.868767\n",
      "Training Acc: 0.931, Test Acc: 0.785\n",
      "Epoch:     4500/   50000 cost: 0.001518, best: 0.877164\n",
      "Training Acc: 0.822, Test Acc: 0.729\n",
      "Epoch:     5000/   50000 cost: 0.001489, best: 0.877164\n",
      "Training Acc: 0.910, Test Acc: 0.809\n",
      "Epoch:     5500/   50000 cost: 0.000875, best: 0.881553\n",
      "Training Acc: 0.948, Test Acc: 0.734\n",
      "Epoch:     6000/   50000 cost: 0.000223, best: 0.881553\n",
      "Training Acc: 0.944, Test Acc: 0.812\n",
      "Epoch:     6500/   50000 cost: 0.000173, best: 0.887574\n",
      "Training Acc: 0.884, Test Acc: 0.811\n",
      "Epoch:     7000/   50000 cost: 0.000178, best: 0.887574\n",
      "Training Acc: 0.913, Test Acc: 0.830\n",
      "Epoch:     7500/   50000 cost: 0.000188, best: 0.887574\n",
      "Training Acc: 0.938, Test Acc: 0.852\n",
      "Epoch:     8000/   50000 cost: 0.000181, best: 0.887574\n",
      "Training Acc: 0.927, Test Acc: 0.792\n",
      "Epoch:     8500/   50000 cost: 0.000246, best: 0.887574\n",
      "Training Acc: 0.939, Test Acc: 0.791\n",
      "Epoch:     9000/   50000 cost: 0.000414, best: 0.887574\n",
      "Training Acc: 0.886, Test Acc: 0.817\n",
      "Epoch:     9500/   50000 cost: 0.000346, best: 0.889691\n",
      "Training Acc: 0.932, Test Acc: 0.820\n",
      "Epoch:    10000/   50000 cost: 0.000163, best: 0.889691\n",
      "Training Acc: 0.929, Test Acc: 0.828\n",
      "Epoch:    10500/   50000 cost: 0.000155, best: 0.889691\n",
      "Training Acc: 0.877, Test Acc: 0.838\n",
      "Epoch:    11000/   50000 cost: 0.000162, best: 0.889691\n",
      "Training Acc: 0.906, Test Acc: 0.838\n",
      "Epoch:    11500/   50000 cost: 0.000104, best: 0.889691\n",
      "Training Acc: 0.941, Test Acc: 0.840\n",
      "Epoch:    12000/   50000 cost: 0.000123, best: 0.889691\n",
      "Training Acc: 0.918, Test Acc: 0.807\n",
      "Epoch:    12500/   50000 cost: 0.000265, best: 0.889691\n",
      "Training Acc: 0.906, Test Acc: 0.826\n",
      "Epoch:    13000/   50000 cost: 0.000168, best: 0.889691\n",
      "Training Acc: 0.937, Test Acc: 0.844\n",
      "Epoch:    13500/   50000 cost: 0.000052, best: 0.889691\n",
      "Training Acc: 0.936, Test Acc: 0.820\n",
      "Epoch:    14000/   50000 cost: 0.000067, best: 0.889691\n",
      "Training Acc: 0.933, Test Acc: 0.781\n",
      "Epoch:    14500/   50000 cost: 0.000049, best: 0.889691\n",
      "Training Acc: 0.935, Test Acc: 0.821\n",
      "Epoch:    15000/   50000 cost: 0.000141, best: 0.889691\n",
      "Training Acc: 0.914, Test Acc: 0.835\n"
     ]
    },
    {
     "name": "stdout",
     "output_type": "stream",
     "text": [
      "\n",
      "Early stopping.\n",
      "Epoch:    15176/   50000 cost: 0.000071, best: 0.889691\n",
      "Training Acc: 0.936, Test Acc: 0.842\n",
      "Optimization Finished\n",
      "training time: 56.54 sec.\n",
      "INFO:tensorflow:Restoring parameters from ./models/best_trained_BN_FC_noMT_Ion_open_F3.ckpt\n",
      "Training Accuracy: 0.91746086\n",
      "Test Accuracy: 0.8896908\n",
      "Epoch:        0/   50000 cost: 1.106404, best: 0.000000\n",
      "Training Acc: -4.098, Test Acc: -2.162\n",
      "Epoch:      500/   50000 cost: 0.005441, best: 0.000000\n",
      "Training Acc: 0.498, Test Acc: 0.185\n",
      "Epoch:     1000/   50000 cost: 0.006279, best: 0.508271\n",
      "Training Acc: 0.664, Test Acc: 0.508\n",
      "Epoch:     1500/   50000 cost: 0.006789, best: 0.580552\n",
      "Training Acc: 0.777, Test Acc: 0.483\n",
      "Epoch:     2000/   50000 cost: 0.002132, best: 0.594892\n",
      "Training Acc: 0.677, Test Acc: 0.442\n",
      "Epoch:     2500/   50000 cost: 0.001175, best: 0.597730\n",
      "Training Acc: 0.960, Test Acc: 0.573\n",
      "Epoch:     3000/   50000 cost: 0.003304, best: 0.620271\n",
      "Training Acc: 0.917, Test Acc: 0.498\n",
      "Epoch:     3500/   50000 cost: 0.000628, best: 0.620271\n",
      "Training Acc: 0.966, Test Acc: 0.584\n",
      "Epoch:     4000/   50000 cost: 0.000511, best: 0.620271\n",
      "Training Acc: 0.964, Test Acc: 0.554\n",
      "Epoch:     4500/   50000 cost: 0.000273, best: 0.620271\n",
      "Training Acc: 0.963, Test Acc: 0.545\n",
      "Epoch:     5000/   50000 cost: 0.000260, best: 0.620271\n",
      "Training Acc: 0.984, Test Acc: 0.564\n",
      "Epoch:     5500/   50000 cost: 0.000284, best: 0.626796\n",
      "Training Acc: 0.985, Test Acc: 0.597\n",
      "Epoch:     6000/   50000 cost: 0.000458, best: 0.626796\n",
      "Training Acc: 0.984, Test Acc: 0.521\n",
      "Epoch:     6500/   50000 cost: 0.000367, best: 0.626796\n",
      "Training Acc: 0.986, Test Acc: 0.566\n",
      "Epoch:     7000/   50000 cost: 0.000376, best: 0.626796\n",
      "Training Acc: 0.991, Test Acc: 0.592\n",
      "Epoch:     7500/   50000 cost: 0.000298, best: 0.626796\n",
      "Training Acc: 0.991, Test Acc: 0.557\n",
      "Epoch:     8000/   50000 cost: 0.000282, best: 0.626796\n",
      "Training Acc: 0.991, Test Acc: 0.603\n",
      "Epoch:     8500/   50000 cost: 0.000258, best: 0.627081\n",
      "Training Acc: 0.985, Test Acc: 0.562\n",
      "Epoch:     9000/   50000 cost: 0.000308, best: 0.627081\n",
      "Training Acc: 0.995, Test Acc: 0.560\n",
      "Epoch:     9500/   50000 cost: 0.000150, best: 0.627081\n",
      "Training Acc: 0.995, Test Acc: 0.539\n",
      "Epoch:    10000/   50000 cost: 0.000266, best: 0.627081\n",
      "Training Acc: 0.997, Test Acc: 0.546\n",
      "Epoch:    10500/   50000 cost: 0.000202, best: 0.627081\n",
      "Training Acc: 0.991, Test Acc: 0.562\n",
      "Epoch:    11000/   50000 cost: 0.000167, best: 0.627081\n",
      "Training Acc: 0.994, Test Acc: 0.557\n",
      "Epoch:    11500/   50000 cost: 0.000075, best: 0.627081\n",
      "Training Acc: 0.993, Test Acc: 0.592\n",
      "Epoch:    12000/   50000 cost: 0.000145, best: 0.648275\n",
      "Training Acc: 0.995, Test Acc: 0.563\n",
      "Epoch:    12500/   50000 cost: 0.000068, best: 0.648275\n",
      "Training Acc: 0.994, Test Acc: 0.582\n",
      "Epoch:    13000/   50000 cost: 0.000037, best: 0.648275\n",
      "Training Acc: 0.997, Test Acc: 0.565\n",
      "Epoch:    13500/   50000 cost: 0.000111, best: 0.648275\n",
      "Training Acc: 0.995, Test Acc: 0.568\n",
      "Epoch:    14000/   50000 cost: 0.000060, best: 0.648275\n",
      "Training Acc: 0.993, Test Acc: 0.546\n",
      "Epoch:    14500/   50000 cost: 0.000050, best: 0.648275\n",
      "Training Acc: 0.998, Test Acc: 0.550\n",
      "Epoch:    15000/   50000 cost: 0.000027, best: 0.648275\n",
      "Training Acc: 0.997, Test Acc: 0.550\n",
      "Epoch:    15500/   50000 cost: 0.000028, best: 0.648275\n",
      "Training Acc: 0.997, Test Acc: 0.552\n",
      "Epoch:    16000/   50000 cost: 0.000195, best: 0.648275\n",
      "Training Acc: 0.994, Test Acc: 0.551\n",
      "Epoch:    16500/   50000 cost: 0.000078, best: 0.648275\n",
      "Training Acc: 0.997, Test Acc: 0.548\n",
      "Epoch:    17000/   50000 cost: 0.000038, best: 0.648275\n",
      "Training Acc: 0.996, Test Acc: 0.549\n",
      "Epoch:    17500/   50000 cost: 0.000064, best: 0.648275\n",
      "Training Acc: 0.997, Test Acc: 0.564\n",
      "\n",
      "Early stopping.\n",
      "Epoch:    17701/   50000 cost: 0.000041, best: 0.648275\n",
      "Training Acc: 0.997, Test Acc: 0.548\n",
      "Optimization Finished\n",
      "training time: 76.15 sec.\n",
      "INFO:tensorflow:Restoring parameters from ./models/best_trained_BN_FC_noMT_Ion_open_F4.ckpt\n",
      "Training Accuracy: 0.98934144\n",
      "Test Accuracy: 0.6482754\n",
      "Epoch:        0/   50000 cost: 0.899038, best: 0.000000\n",
      "Training Acc: -1.138, Test Acc: -1.827\n",
      "Epoch:      500/   50000 cost: 0.010117, best: 0.000000\n",
      "Training Acc: 0.848, Test Acc: 0.747\n",
      "Epoch:     1000/   50000 cost: 0.010091, best: 0.474816\n",
      "Training Acc: 0.805, Test Acc: 0.475\n",
      "Epoch:     1500/   50000 cost: 0.002775, best: 0.697323\n",
      "Training Acc: 0.912, Test Acc: 0.440\n",
      "Epoch:     2000/   50000 cost: 0.006111, best: 0.753786\n",
      "Training Acc: 0.896, Test Acc: 0.507\n",
      "Epoch:     2500/   50000 cost: 0.003119, best: 0.759329\n",
      "Training Acc: 0.928, Test Acc: 0.463\n",
      "Epoch:     3000/   50000 cost: 0.000646, best: 0.759329\n",
      "Training Acc: 0.900, Test Acc: 0.588\n",
      "Epoch:     3500/   50000 cost: 0.001347, best: 0.759329\n",
      "Training Acc: 0.915, Test Acc: 0.584\n",
      "Epoch:     4000/   50000 cost: 0.001153, best: 0.759329\n",
      "Training Acc: 0.897, Test Acc: 0.565\n",
      "Epoch:     4500/   50000 cost: 0.000955, best: 0.759329\n",
      "Training Acc: 0.907, Test Acc: 0.605\n",
      "Epoch:     5000/   50000 cost: 0.000338, best: 0.759329\n",
      "Training Acc: 0.932, Test Acc: 0.664\n",
      "Epoch:     5500/   50000 cost: 0.000294, best: 0.759329\n",
      "Training Acc: 0.924, Test Acc: 0.652\n",
      "Epoch:     6000/   50000 cost: 0.000243, best: 0.759329\n",
      "Training Acc: 0.937, Test Acc: 0.677\n",
      "Epoch:     6500/   50000 cost: 0.001160, best: 0.759329\n",
      "Training Acc: 0.946, Test Acc: 0.646\n",
      "Epoch:     7000/   50000 cost: 0.000254, best: 0.759329\n",
      "Training Acc: 0.877, Test Acc: 0.671\n",
      "Epoch:     7500/   50000 cost: 0.000385, best: 0.759329\n",
      "Training Acc: 0.883, Test Acc: 0.676\n",
      "Epoch:     8000/   50000 cost: 0.000192, best: 0.759329\n",
      "Training Acc: 0.952, Test Acc: 0.656\n",
      "\n",
      "Early stopping.\n",
      "Epoch:     8322/   50000 cost: 0.000285, best: 0.759329\n",
      "Training Acc: 0.922, Test Acc: 0.673\n",
      "Optimization Finished\n",
      "training time: 38.35 sec.\n",
      "INFO:tensorflow:Restoring parameters from ./models/best_trained_BN_FC_noMT_Ion_open_F5.ckpt\n",
      "Training Accuracy: 0.8658776\n",
      "Test Accuracy: 0.7593287\n",
      "All fold vaildation were ended.\n"
     ]
    }
   ],
   "source": [
    "results_list = []\n",
    "label_list = []\n",
    "for FOLD in range(N_FOLD):\n",
    "    global_step = tf.Variable(0, trainable=False)    \n",
    "    LEARNING_RATE =  tf.train.exponential_decay(0.005, global_step, 1500, 0.96, staircase=True)\n",
    "    EXPLANATION = EXPLANATION_+ \"_F\" + str(FOLD+1)\n",
    "    train_input, train_label = train_inputs[FOLD], train_labels[FOLD]\n",
    "    test_input, test_label = test_inputs[FOLD], test_labels[FOLD]\n",
    "    \n",
    "    # tf Graph input\n",
    "    x = tf.placeholder(\"float\", [None, n_features], name = \"F\"+str(FOLD+1)+\"input\")\n",
    "    y = tf.placeholder(\"float\", [None, n_output], name = \"F\"+str(FOLD+1)+\"output_1\")\n",
    "    phase = tf.placeholder(tf.bool, name='phase')\n",
    "\n",
    "    # Construct model\n",
    "    pred = layers(x, N_HIDDEN, phase)\n",
    "\n",
    "    # Define loss and optimizer\n",
    "    cost = tf.losses.mean_squared_error(labels=y, predictions=pred)\n",
    "\n",
    "\n",
    "    update_ops = tf.get_collection(tf.GraphKeys.UPDATE_OPS)\n",
    "    optimizer_ = tf.train.AdamOptimizer(learning_rate=LEARNING_RATE, epsilon=EPSILON)\n",
    "    with tf.control_dependencies(update_ops):\n",
    "        #optimizer = optimizer_.minimize(joint_cost, global_step=global_step)\n",
    "        op = optimizer_.minimize(cost, global_step=global_step)\n",
    "\n",
    "    # Accuracy\n",
    "    total_error = tf.reduce_sum(tf.square(tf.subtract(y, tf.reduce_mean(y))))\n",
    "    unexplained_error = tf.reduce_sum(tf.square(tf.subtract(y, pred)))\n",
    "    R_squared = tf.subtract(1., tf.divide(unexplained_error, total_error))\n",
    "\n",
    "    accuracy = R_squared\n",
    "    # Initializing the variables\n",
    "    init = tf.global_variables_initializer()\n",
    "    saver = tf.train.Saver()\n",
    "\n",
    "    # Do some optimizations\n",
    "    sess = tf.Session(config=tf.ConfigProto(gpu_options=tf.GPUOptions(allow_growth =True)))\n",
    "    sess.run(init)\n",
    "\n",
    "    # Launch the graph\n",
    "    ex_acc = 0\n",
    "    best_acc = 0\n",
    "    early_stop_buffer = 0\n",
    "    # Keep training until reach max iterations\n",
    "    start = time.time()\n",
    "\n",
    "    for EPOCH in range(TRAINING_EPOCHS):\n",
    "        \n",
    "        batch_x, batch_y = resample(train_input, train_label, n_samples = BATCH_SIZE, replace = False)\n",
    "        loss = sess.run(cost, feed_dict={x: batch_x, y: batch_y, phase: 1})\n",
    "        \n",
    "        sess.run(op, feed_dict={x: batch_x, y: batch_y, phase: 1})\n",
    "        \n",
    "        test_acc = sess.run(accuracy, feed_dict={x: test_input, y: test_label, phase: 0})\n",
    "        \n",
    "        \n",
    "        if test_acc > ex_acc:\n",
    "            if EPOCH <= SHIELD:\n",
    "                pass\n",
    "            elif test_acc > best_acc:\n",
    "                bestpath = \"./models/best_trained_\" + EXPLANATION + \".ckpt\"\n",
    "                save_path = saver.save(sess, bestpath)\n",
    "                best_acc = test_acc\n",
    "                early_stop_buffer = 0\n",
    "        else:\n",
    "            early_stop_buffer += 1\n",
    "\n",
    "        if early_stop_buffer >= LIMIT:\n",
    "            print (\"\\nEarly stopping.\")\n",
    "            break     \n",
    "\n",
    "        ex_acc = test_acc\n",
    "        if EPOCH % DISPLAY_STEP == 0:\n",
    "            print (\"Epoch: %8d/%8d cost: %.6f, best: %.6f\" % (EPOCH, TRAINING_EPOCHS, loss, best_acc))\n",
    "            train_acc = sess.run(accuracy, feed_dict={x: train_input, y: train_label, phase: 0})\n",
    "            test_acc = sess.run(accuracy, feed_dict={x: test_input, y: test_label, phase: 0})\n",
    "            print (\"Training Acc: %.3f, Test Acc: %.3f\" % (train_acc, test_acc))\n",
    "\n",
    "\n",
    "    print (\"Epoch: %8d/%8d cost: %.6f, best: %.6f\" % (EPOCH+1, TRAINING_EPOCHS, loss, best_acc))\n",
    "    train_acc = sess.run(accuracy, feed_dict={x: train_input, y: train_label, phase: 0})\n",
    "    test_acc = sess.run(accuracy, feed_dict={x: test_input, y: test_label, phase: 0})\n",
    "    print (\"Training Acc: %.3f, Test Acc: %.3f\" % (train_acc,test_acc))\n",
    "\n",
    "    end = time.time() - start\n",
    "    print (\"Optimization Finished\\ntraining time: %.2f sec.\" % (end))\n",
    "    \n",
    "    #Choose best model\n",
    "    bestpath = \"./models/best_trained_\" + EXPLANATION + \".ckpt\"\n",
    "    saver.restore(sess, bestpath)\n",
    "\n",
    "    print (\"Training Accuracy:\", sess.run(accuracy, feed_dict={x: train_input, y: train_label, phase: 0}))\n",
    "    print (\"Test Accuracy:\", sess.run(accuracy, feed_dict={x: test_input, y: test_label, phase: 0}))\n",
    "\n",
    "    estimation_result = sess.run(pred,feed_dict={x: test_input, phase: 0})\n",
    "    estimation_result = pd.DataFrame(estimation_result, index=test_label.index, columns=test_label.columns)\n",
    "    results_list.append(estimation_result)\n",
    "    label_list.append(test_label)\n",
    "\n",
    "    tf.reset_default_graph()\n",
    "    sess.close()\n",
    "    \n",
    "print(\"All fold vaildation were ended.\")"
   ]
  },
  {
   "cell_type": "markdown",
   "metadata": {},
   "source": [
    "## Result analysis"
   ]
  },
  {
   "cell_type": "markdown",
   "metadata": {},
   "source": [
    "### Restoring from preprocess"
   ]
  },
  {
   "cell_type": "code",
   "execution_count": 17,
   "metadata": {},
   "outputs": [],
   "source": [
    "final_result = pd.concat(results_list).sort_index()"
   ]
  },
  {
   "cell_type": "code",
   "execution_count": 18,
   "metadata": {},
   "outputs": [],
   "source": [
    "final_result = ((LABELMAXS - LABELMINS) * final_result) + LABELMINS\n",
    "restored_label = ((LABELMAXS - LABELMINS) * ion_label) + LABELMINS"
   ]
  },
  {
   "cell_type": "markdown",
   "metadata": {},
   "source": [
    "### One to one graph"
   ]
  },
  {
   "cell_type": "code",
   "execution_count": 19,
   "metadata": {
    "scrolled": false
   },
   "outputs": [
    {
     "name": "stdout",
     "output_type": "stream",
     "text": [
      "R2 score:-0.942\n",
      "MSE:2.553\n",
      "R2 score:-1.014\n",
      "MSE:35.372\n",
      "R2 score:-0.859\n",
      "MSE:12.414\n",
      "R2 score:-0.678\n",
      "MSE:11.989\n",
      "R2 score:-1.096\n",
      "MSE:75.211\n",
      "R2 score:-0.969\n",
      "MSE:0.986\n"
     ]
    },
    {
     "data": {
      "image/png": "[encoded data removed]",
      "text/plain": [
       "<Figure size 453.543x340.157 with 1 Axes>"
      ]
     },
     "metadata": {},
     "output_type": "display_data"
    }
   ],
   "source": [
    "# x_linear = np.arange(-1,2)\n",
    "# y_linear = x_linear\n",
    "\n",
    "# one_to_one_line = plt.plot(x_linear, y_linear,'k--', zorder=1)\n",
    "for _ in range(6):\n",
    "    estimation_scatter1 = plt.scatter(restored_label.iloc[:, _], final_result.iloc[:, _],\n",
    "                                 s=MARKER_SIZE, c=cmap[_], label = restored_label.columns[_], zorder=2)\n",
    "\n",
    "    print(\"R2 score:%.3f\" % r2_score(restored_label.iloc[:, _], final_result.iloc[:, _]))\n",
    "    print(\"MSE:%.3f\" % mean_squared_error(restored_label.iloc[:, _], final_result.iloc[:, _]))\n",
    "#plt.axis([-0.1, 0.7, -0.1, 0.7])\n",
    "plt.xlabel(\"Measured fresh weight (kg)\")\n",
    "plt.ylabel(\"Estimated fresh weight (kg)\")\n",
    "plt.grid(True)\n",
    "plt.show()\n"
   ]
  },
  {
   "cell_type": "code",
   "execution_count": 43,
   "metadata": {},
   "outputs": [
    {
     "data": {
      "text/plain": [
       "-0.9259524365673054"
      ]
     },
     "execution_count": 43,
     "metadata": {},
     "output_type": "execute_result"
    }
   ],
   "source": [
    "r2_score(restored_label, final_result)"
   ]
  },
  {
   "cell_type": "code",
   "execution_count": 21,
   "metadata": {},
   "outputs": [
    {
     "data": {
      "text/plain": [
       "4.804945868924597"
      ]
     },
     "execution_count": 21,
     "metadata": {},
     "output_type": "execute_result"
    }
   ],
   "source": [
    "np.sqrt(mean_squared_error(restored_label, final_result))"
   ]
  }
 ],
 "metadata": {
  "anaconda-cloud": {},
  "kernelspec": {
   "display_name": "Python 3",
   "language": "python",
   "name": "python3"
  },
  "language_info": {
   "codemirror_mode": {
    "name": "ipython",
    "version": 3
   },
   "file_extension": ".py",
   "mimetype": "text/x-python",
   "name": "python",
   "nbconvert_exporter": "python",
   "pygments_lexer": "ipython3",
   "version": "3.5.2"
  }
 },
 "nbformat": 4,
 "nbformat_minor": 1
}
