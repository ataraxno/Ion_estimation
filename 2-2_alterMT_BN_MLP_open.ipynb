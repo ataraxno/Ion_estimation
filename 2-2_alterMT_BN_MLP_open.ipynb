{
 "cells": [
  {
   "cell_type": "markdown",
   "metadata": {},
   "source": [
    "# Package"
   ]
  },
  {
   "cell_type": "code",
   "execution_count": 1,
   "metadata": {
    "scrolled": false
   },
   "outputs": [
    {
     "name": "stderr",
     "output_type": "stream",
     "text": [
      "/usr/local/lib/python3.5/dist-packages/h5py/__init__.py:36: FutureWarning: Conversion of the second argument of issubdtype from `float` to `np.floating` is deprecated. In future, it will be treated as `np.float64 == np.dtype(float).type`.\n",
      "  from ._conv import register_converters as _register_converters\n"
     ]
    },
    {
     "name": "stdout",
     "output_type": "stream",
     "text": [
      "Package is ready.\n"
     ]
    }
   ],
   "source": [
    "import os\n",
    "import time\n",
    "\n",
    "import numpy as np\n",
    "import pandas as pd\n",
    "from sklearn.utils import shuffle, resample\n",
    "from sklearn.metrics import mean_squared_error, r2_score\n",
    "from sklearn.model_selection import KFold\n",
    "\n",
    "import tensorflow as tf\n",
    "\n",
    "import matplotlib\n",
    "import matplotlib.pyplot as plt\n",
    "%matplotlib inline\n",
    "print(\"Package is ready.\")"
   ]
  },
  {
   "cell_type": "markdown",
   "metadata": {},
   "source": [
    "# Hyperparameters"
   ]
  },
  {
   "cell_type": "markdown",
   "metadata": {},
   "source": [
    "## Plotting parameters"
   ]
  },
  {
   "cell_type": "code",
   "execution_count": 2,
   "metadata": {},
   "outputs": [],
   "source": [
    "matplotlib.rcParams['figure.figsize'] = ((8/2.54)*2, (6/2.54)*2)\n",
    "plt.rcParams[\"font.family\"] = \"arial\"\n",
    "plt.rcParams[\"font.serif\"] = \"arial\"\n",
    "plt.rcParams[\"mathtext.default\"] = \"rm\"\n",
    "plt.rcParams.update({'font.size': 11})\n",
    "MARKER_SIZE = 15\n",
    "cmap_m = [\"#f4a6ad\", \"#f6957e\", \"#fccfa2\", \"#8de7be\", \"#86d6f2\", \"#24a9e4\", \"#b586e0\", \"#d7f293\"]\n",
    "cmap = [\"#e94d5b\", \"#ef4d28\", \"#f9a54f\", \"#25b575\", \"#1bb1e7\", \"#1477a2\", \"#a662e5\", \"#c2f442\"]\n",
    "\n",
    "plt.rcParams['axes.linewidth'] = 2\n",
    "plt.rcParams['lines.linewidth'] = 1.5\n",
    "plt.rcParams['xtick.major.width'] = 2\n",
    "plt.rcParams['xtick.minor.width'] = 1\n",
    "plt.rcParams['ytick.major.width'] = 2\n",
    "plt.rcParams['ytick.minor.width'] = 1"
   ]
  },
  {
   "cell_type": "markdown",
   "metadata": {},
   "source": [
    "## Training parameters"
   ]
  },
  {
   "cell_type": "code",
   "execution_count": 3,
   "metadata": {},
   "outputs": [],
   "source": [
    "#Constants\n",
    "N_TASKS = 6\n",
    "N_FOLD = 5\n",
    "EX_TEST = 0\n",
    "EXPLANATION_ = \"BN_FC_Ion_open\"\n",
    "EPSILON = 0.0001\n",
    "TRAINING_EPOCHS = 50000\n",
    "BATCH_SIZE = 16\n",
    "DISPLAY_STEP = 500\n",
    "\n",
    "N_HIDDEN = 512\n",
    "\n",
    "SHIELD = 999\n",
    "LIMIT = 3002"
   ]
  },
  {
   "cell_type": "markdown",
   "metadata": {},
   "source": [
    "# Data handling"
   ]
  },
  {
   "cell_type": "markdown",
   "metadata": {},
   "source": [
    "## Date loading"
   ]
  },
  {
   "cell_type": "code",
   "execution_count": 4,
   "metadata": {},
   "outputs": [],
   "source": [
    "ion_label = pd.read_excel(\"../data/SW_Ion/Ion concentration_meq_20171109-20180426.xlsx\", skiprows=1, index_col=\"date\")"
   ]
  },
  {
   "cell_type": "code",
   "execution_count": 5,
   "metadata": {},
   "outputs": [],
   "source": [
    "ion_label = ion_label[~(ion_label.index < '2018-01-12')]\n",
    "#ion_label.drop([\"N.1\"], axis=1, inplace=True)\n",
    "ion_label.drop([\"K\", \"Ca\", \"Mg\", \"S\", \"N\", \"P\"], axis=1, inplace=True)\n",
    "ion_label.drop([columns for columns in ion_label.columns if \"Unnamed:\" in columns], axis= 1, inplace=True)\n",
    "ion_label.drop([columns for columns in ion_label.columns if \".2\" in columns], axis= 1, inplace=True)\n",
    "ion_label.drop([columns for columns in ion_label.columns if \".3\" in columns], axis= 1, inplace=True)\n",
    "ion_label.dropna(inplace=True)\n",
    "#ion_label.drop([pd.Timestamp(\"2018-04-23\"), pd.Timestamp(\"2018-04-12\"), pd.Timestamp(\"2018-04-05\")], axis=0, inplace=True)\n",
    "ion_label.drop([pd.Timestamp(\"2018-04-13\")], axis=0, inplace=True)"
   ]
  },
  {
   "cell_type": "code",
   "execution_count": 6,
   "metadata": {},
   "outputs": [],
   "source": [
    "ion_label.index += pd.Timedelta(\"16h\")"
   ]
  },
  {
   "cell_type": "code",
   "execution_count": 7,
   "metadata": {},
   "outputs": [],
   "source": [
    "ion_label = ion_label.sample(frac=1.0)"
   ]
  },
  {
   "cell_type": "code",
   "execution_count": 8,
   "metadata": {},
   "outputs": [],
   "source": [
    "raw_open = pd.read_csv(\"./results/open_data.csv\", index_col=\"TIMESTAMP\")\n",
    "raw_open.index = pd.DatetimeIndex(raw_open.index)\n",
    "raw_open = raw_open[np.abs(raw_open-raw_open.mean())<=(3*raw_open.std())]\n",
    "raw_open[\"RootTemp(2)\"][0] = 20\n",
    "raw_open.drop([\"ECS(4)\", \"InjDrgVR(4)\", \"DrgDaily(4)\", \"DrgV(4)\"], axis=1, inplace=True)\n",
    "#raw_open.drop([\"MixTnkpH(4)\", \"RWEC(4)\", \"InjDrgVR(4)\", \"DrgDaily(4)\"], axis=1, inplace=True)"
   ]
  },
  {
   "cell_type": "code",
   "execution_count": 9,
   "metadata": {},
   "outputs": [],
   "source": [
    "raw_open.interpolate(\"linear\", inplace=True)\n",
    "\n",
    "# raw_open.index = (raw_open.index).round(INTERVAL)\n",
    "# raw_open = raw_open.groupby(raw_open.index).mean()"
   ]
  },
  {
   "cell_type": "code",
   "execution_count": 10,
   "metadata": {},
   "outputs": [],
   "source": [
    "MAXS = raw_open.max()\n",
    "MINS = raw_open.min()\n",
    "LABELMAXS = ion_label.max()\n",
    "LABELMINS = ion_label.min()"
   ]
  },
  {
   "cell_type": "code",
   "execution_count": 11,
   "metadata": {},
   "outputs": [],
   "source": [
    "raw_open = (raw_open - MINS) / (MAXS - MINS)\n",
    "ion_label = (ion_label - LABELMINS) / (LABELMAXS - LABELMINS)"
   ]
  },
  {
   "cell_type": "code",
   "execution_count": 12,
   "metadata": {},
   "outputs": [],
   "source": [
    "env_input = raw_open.reindex(ion_label.index)"
   ]
  },
  {
   "cell_type": "code",
   "execution_count": 13,
   "metadata": {},
   "outputs": [],
   "source": [
    "train_inputs = []\n",
    "train_labels = []\n",
    "test_inputs = []\n",
    "test_labels = []\n",
    "\n",
    "kf = KFold(n_splits=N_FOLD, shuffle=True)\n",
    "for train_index, test_index in kf.split(ion_label):\n",
    "    train_inputs.append(env_input.iloc[train_index, :])\n",
    "    train_labels.append(ion_label.iloc[train_index, :])\n",
    "    test_inputs.append(env_input.iloc[test_index, :])\n",
    "    test_labels.append(ion_label.iloc[test_index, :])"
   ]
  },
  {
   "cell_type": "code",
   "execution_count": 14,
   "metadata": {},
   "outputs": [
    {
     "name": "stdout",
     "output_type": "stream",
     "text": [
      "number of output: 6\n",
      "number of feature: 23\n",
      "number of train data: 40\n",
      "number of test data: 11\n"
     ]
    }
   ],
   "source": [
    "n_output = 6\n",
    "n_features = test_inputs[0].shape[1]\n",
    "n_train = train_inputs[0].shape[0]\n",
    "n_test = test_inputs[0].shape[0]\n",
    "\n",
    "print(\"number of output: %d\" % n_output)\n",
    "print(\"number of feature: %d\" % n_features)\n",
    "print(\"number of train data: %d\" % n_train)\n",
    "print(\"number of test data: %d\" % n_test)"
   ]
  },
  {
   "cell_type": "markdown",
   "metadata": {},
   "source": [
    "## Network preparation"
   ]
  },
  {
   "cell_type": "markdown",
   "metadata": {},
   "source": [
    "### Constructing networks"
   ]
  },
  {
   "cell_type": "code",
   "execution_count": 15,
   "metadata": {},
   "outputs": [],
   "source": [
    "def FC(x, size, scope):\n",
    "    return tf.contrib.layers.fully_connected(x, size, activation_fn=None, scope=scope)\n",
    "\n",
    "def BN_FC(x, n_hidden, phase, scope):\n",
    "    with tf.variable_scope(scope):\n",
    "        h1 = tf.contrib.layers.fully_connected(x, n_hidden, activation_fn=None, scope='FC')\n",
    "        h2 = tf.layers.batch_normalization(h1, training=phase)\n",
    "        return tf.nn.relu(h2, 'relu')\n",
    "    \n",
    "def shared_layer(_x, _n_hidden, _phase):\n",
    "\n",
    "    h1 = BN_FC(_x, _n_hidden, _phase, \"layer1\")\n",
    "    h2 = BN_FC(h1, _n_hidden, _phase, \"layer2\")\n",
    "    h3 = BN_FC(h2, _n_hidden, _phase, \"layer3\")\n",
    "    h4 = BN_FC(h3, _n_hidden, _phase, \"layer4\")\n",
    "#     h5 = BN_FC(h4, _n_hidden, _phase, \"layer5\")\n",
    "#     h6 = BN_FC(h5, _n_hidden, _phase, \"layer6\")\n",
    "#     h7 = BN_FC(h6, _n_hidden, _phase, \"layer7\")\n",
    "#     h8 = BN_FC(h7, _n_hidden, _phase, \"layer8\")\n",
    "#     h9 = BN_FC(h8, _n_hidden, _phase, \"layer9\")\n",
    "#     h10 = BN_FC(h9, _n_hidden, _phase, \"layer10\")\n",
    "#     h11 = BN_FC(h10, _n_hidden, _phase, \"layer11\")\n",
    "#     h12 = BN_FC(h11, _n_hidden, _phase, \"layer12\")\n",
    "#     h13 = BN_FC(h12, _n_hidden, _phase, \"layer13\")\n",
    "#     h14 = BN_FC(h13, _n_hidden, _phase, \"layer14\")\n",
    "#     h15 = BN_FC(h14, _n_hidden, _phase, \"layer15\")\n",
    "#     h16 = BN_FC(h15, _n_hidden, _phase, \"layer16\")\n",
    "    shared_out = BN_FC(h4, _n_hidden, _phase, \"shared_out\")\n",
    "\n",
    "    return shared_out\n",
    "\n",
    "\n",
    "def Task_specific_FC(x, n_hidden, phase, tasknum):\n",
    "    h1 = BN_FC(x, n_hidden, phase, \"task\" + str(tasknum) + \"_layer1\")\n",
    "    h2 = BN_FC(h1, n_hidden, phase, \"task\" + str(tasknum) + \"_layer2\")\n",
    "\n",
    "    return FC(h2, 1, \"task\" + str(tasknum) + \"_out\")"
   ]
  },
  {
   "cell_type": "code",
   "execution_count": 16,
   "metadata": {
    "scrolled": false
   },
   "outputs": [
    {
     "name": "stdout",
     "output_type": "stream",
     "text": [
      "Epoch:        0/   50000 cost: 5.055208, best: 0.000000\n",
      "Training Acc: -157.623, Test Acc: -137.760\n",
      "Epoch:      500/   50000 cost: 0.037844, best: 0.000000\n",
      "Training Acc: 0.851, Test Acc: -0.227\n",
      "Epoch:     1000/   50000 cost: 0.016781, best: 0.000000\n",
      "Training Acc: 0.929, Test Acc: 0.222\n",
      "Epoch:     1500/   50000 cost: 0.011868, best: 0.655066\n",
      "Training Acc: 0.864, Test Acc: -0.049\n",
      "Epoch:     2000/   50000 cost: 0.004330, best: 0.668134\n",
      "Training Acc: 0.963, Test Acc: 0.466\n",
      "Epoch:     2500/   50000 cost: 0.009762, best: 0.713883\n",
      "Training Acc: 0.938, Test Acc: 0.681\n",
      "Epoch:     3000/   50000 cost: 0.006126, best: 0.804798\n",
      "Training Acc: 0.952, Test Acc: 0.368\n",
      "Epoch:     3500/   50000 cost: 0.013101, best: 0.804798\n",
      "Training Acc: 0.915, Test Acc: 0.105\n",
      "Epoch:     4000/   50000 cost: 0.007655, best: 0.804798\n",
      "Training Acc: 0.932, Test Acc: 0.355\n",
      "Epoch:     4500/   50000 cost: 0.002856, best: 0.804798\n",
      "Training Acc: 0.987, Test Acc: 0.216\n",
      "Epoch:     5000/   50000 cost: 0.004513, best: 0.804798\n",
      "Training Acc: 0.961, Test Acc: 0.089\n",
      "Epoch:     5500/   50000 cost: 0.002400, best: 0.804798\n",
      "Training Acc: 0.974, Test Acc: 0.197\n",
      "Epoch:     6000/   50000 cost: 0.004714, best: 0.804798\n",
      "Training Acc: 0.946, Test Acc: 0.040\n",
      "Epoch:     6500/   50000 cost: 0.002473, best: 0.804798\n",
      "Training Acc: 0.978, Test Acc: -0.036\n",
      "Epoch:     7000/   50000 cost: 0.002102, best: 0.804798\n",
      "Training Acc: 0.983, Test Acc: 0.023\n",
      "Epoch:     7500/   50000 cost: 0.002037, best: 0.804798\n",
      "Training Acc: 0.980, Test Acc: -0.201\n",
      "Epoch:     8000/   50000 cost: 0.001508, best: 0.804798\n",
      "Training Acc: 0.986, Test Acc: 0.177\n",
      "Epoch:     8500/   50000 cost: 0.002578, best: 0.804798\n",
      "Training Acc: 0.976, Test Acc: 0.107\n",
      "\n",
      "Early stopping.\n",
      "Epoch:     8723/   50000 cost: 0.001678, best: 0.804798\n",
      "Training Acc: 0.986, Test Acc: -0.072\n",
      "Optimization Finished\n",
      "training time: 292.78 sec.\n",
      "INFO:tensorflow:Restoring parameters from ./models/best_trained_BN_FC_Ion_open_F1.ckpt\n",
      "Training Accuracy: 0.9822192\n",
      "Test Accuracy: 0.80479777\n",
      "Epoch:        0/   50000 cost: 3.203333, best: 0.000000\n",
      "Training Acc: -16.827, Test Acc: -25.571\n",
      "Epoch:      500/   50000 cost: 0.052178, best: 0.000000\n",
      "Training Acc: 0.513, Test Acc: -0.888\n",
      "Epoch:     1000/   50000 cost: 0.017525, best: 0.566644\n",
      "Training Acc: 0.941, Test Acc: 0.567\n",
      "Epoch:     1500/   50000 cost: 0.031808, best: 0.611678\n",
      "Training Acc: 0.768, Test Acc: 0.157\n",
      "Epoch:     2000/   50000 cost: 0.016289, best: 0.652122\n",
      "Training Acc: 0.927, Test Acc: 0.411\n",
      "Epoch:     2500/   50000 cost: 0.009583, best: 0.652122\n",
      "Training Acc: 0.901, Test Acc: 0.445\n",
      "Epoch:     3000/   50000 cost: 0.017950, best: 0.652122\n",
      "Training Acc: 0.657, Test Acc: -0.282\n",
      "Epoch:     3500/   50000 cost: 0.002673, best: 0.652122\n",
      "Training Acc: 0.844, Test Acc: 0.388\n",
      "Epoch:     4000/   50000 cost: 0.003386, best: 0.652122\n",
      "Training Acc: 0.723, Test Acc: 0.326\n",
      "Epoch:     4500/   50000 cost: 0.002028, best: 0.652122\n",
      "Training Acc: 0.909, Test Acc: 0.381\n",
      "Epoch:     5000/   50000 cost: 0.004758, best: 0.652122\n",
      "Training Acc: 0.835, Test Acc: 0.222\n",
      "Epoch:     5500/   50000 cost: 0.002871, best: 0.652122\n",
      "Training Acc: 0.875, Test Acc: 0.268\n",
      "Epoch:     6000/   50000 cost: 0.004598, best: 0.652122\n",
      "Training Acc: 0.713, Test Acc: 0.266\n",
      "Epoch:     6500/   50000 cost: 0.002107, best: 0.652122\n",
      "Training Acc: 0.874, Test Acc: 0.293\n",
      "Epoch:     7000/   50000 cost: 0.002755, best: 0.652122\n",
      "Training Acc: 0.729, Test Acc: 0.238\n",
      "Epoch:     7500/   50000 cost: 0.004445, best: 0.652122\n",
      "Training Acc: 0.858, Test Acc: 0.298\n",
      "\n",
      "Early stopping.\n",
      "Epoch:     7763/   50000 cost: 0.002111, best: 0.652122\n",
      "Training Acc: 0.728, Test Acc: -0.073\n",
      "Optimization Finished\n",
      "training time: 274.41 sec.\n",
      "INFO:tensorflow:Restoring parameters from ./models/best_trained_BN_FC_Ion_open_F2.ckpt\n",
      "Training Accuracy: 0.9091543\n",
      "Test Accuracy: 0.6521217\n",
      "Epoch:        0/   50000 cost: 5.190472, best: 0.000000\n",
      "Training Acc: -6.819, Test Acc: -12.099\n",
      "Epoch:      500/   50000 cost: 0.025126, best: 0.000000\n",
      "Training Acc: 0.864, Test Acc: 0.479\n",
      "Epoch:     1000/   50000 cost: 0.010670, best: 0.357577\n",
      "Training Acc: 0.906, Test Acc: 0.358\n",
      "Epoch:     1500/   50000 cost: 0.016888, best: 0.730071\n",
      "Training Acc: 0.876, Test Acc: 0.410\n",
      "Epoch:     2000/   50000 cost: 0.007869, best: 0.730071\n",
      "Training Acc: 0.653, Test Acc: -0.641\n",
      "Epoch:     2500/   50000 cost: 0.006321, best: 0.736605\n",
      "Training Acc: 0.773, Test Acc: 0.569\n",
      "Epoch:     3000/   50000 cost: 0.005691, best: 0.740042\n",
      "Training Acc: 0.685, Test Acc: 0.590\n",
      "Epoch:     3500/   50000 cost: 0.003553, best: 0.752901\n",
      "Training Acc: 0.585, Test Acc: 0.414\n",
      "Epoch:     4000/   50000 cost: 0.003631, best: 0.752901\n",
      "Training Acc: 0.453, Test Acc: 0.497\n",
      "Epoch:     4500/   50000 cost: 0.007231, best: 0.752923\n",
      "Training Acc: 0.760, Test Acc: 0.659\n",
      "Epoch:     5000/   50000 cost: 0.006658, best: 0.768430\n",
      "Training Acc: 0.765, Test Acc: 0.611\n",
      "Epoch:     5500/   50000 cost: 0.003930, best: 0.768430\n",
      "Training Acc: 0.638, Test Acc: 0.241\n",
      "Epoch:     6000/   50000 cost: 0.005772, best: 0.772043\n",
      "Training Acc: 0.676, Test Acc: 0.110\n",
      "Epoch:     6500/   50000 cost: 0.002609, best: 0.774792\n",
      "Training Acc: 0.812, Test Acc: 0.639\n",
      "Epoch:     7000/   50000 cost: 0.003277, best: 0.776372\n",
      "Training Acc: 0.637, Test Acc: 0.234\n",
      "Epoch:     7500/   50000 cost: 0.002141, best: 0.776372\n",
      "Training Acc: 0.584, Test Acc: 0.530\n",
      "Epoch:     8000/   50000 cost: 0.001383, best: 0.776920\n",
      "Training Acc: 0.591, Test Acc: 0.720\n",
      "Epoch:     8500/   50000 cost: 0.001583, best: 0.782000\n",
      "Training Acc: 0.792, Test Acc: 0.744\n",
      "Epoch:     9000/   50000 cost: 0.001279, best: 0.782000\n",
      "Training Acc: 0.808, Test Acc: 0.749\n",
      "Epoch:     9500/   50000 cost: 0.001176, best: 0.782000\n",
      "Training Acc: 0.797, Test Acc: 0.498\n",
      "Epoch:    10000/   50000 cost: 0.000501, best: 0.782000\n",
      "Training Acc: 0.787, Test Acc: 0.752\n",
      "Epoch:    10500/   50000 cost: 0.001027, best: 0.782000\n",
      "Training Acc: 0.778, Test Acc: 0.764\n",
      "Epoch:    11000/   50000 cost: 0.000970, best: 0.782000\n",
      "Training Acc: 0.802, Test Acc: 0.683\n",
      "Epoch:    11500/   50000 cost: 0.000988, best: 0.783586\n",
      "Training Acc: 0.867, Test Acc: 0.716\n",
      "Epoch:    12000/   50000 cost: 0.000366, best: 0.786592\n",
      "Training Acc: 0.793, Test Acc: 0.757\n",
      "Epoch:    12500/   50000 cost: 0.000736, best: 0.786592\n",
      "Training Acc: 0.817, Test Acc: 0.748\n",
      "Epoch:    13000/   50000 cost: 0.000528, best: 0.786592\n",
      "Training Acc: 0.909, Test Acc: 0.751\n",
      "Epoch:    13500/   50000 cost: 0.000762, best: 0.786592\n",
      "Training Acc: 0.766, Test Acc: 0.718\n",
      "Epoch:    14000/   50000 cost: 0.000355, best: 0.786592\n",
      "Training Acc: 0.785, Test Acc: 0.672\n",
      "Epoch:    14500/   50000 cost: 0.000391, best: 0.786592\n",
      "Training Acc: 0.846, Test Acc: 0.747\n",
      "Epoch:    15000/   50000 cost: 0.000307, best: 0.786592\n",
      "Training Acc: 0.825, Test Acc: 0.758\n",
      "Epoch:    15500/   50000 cost: 0.000301, best: 0.786592\n",
      "Training Acc: 0.799, Test Acc: 0.759\n",
      "Epoch:    16000/   50000 cost: 0.000527, best: 0.786592\n",
      "Training Acc: 0.678, Test Acc: 0.760\n",
      "Epoch:    16500/   50000 cost: 0.000296, best: 0.786592\n",
      "Training Acc: 0.818, Test Acc: 0.725\n",
      "Epoch:    17000/   50000 cost: 0.000279, best: 0.786592\n",
      "Training Acc: 0.809, Test Acc: 0.749\n",
      "Epoch:    17500/   50000 cost: 0.000328, best: 0.786592\n",
      "Training Acc: 0.915, Test Acc: 0.753\n",
      "\n",
      "Early stopping.\n",
      "Epoch:    17930/   50000 cost: 0.000351, best: 0.786592\n",
      "Training Acc: 0.821, Test Acc: 0.697\n",
      "Optimization Finished\n",
      "training time: 632.39 sec.\n",
      "INFO:tensorflow:Restoring parameters from ./models/best_trained_BN_FC_Ion_open_F3.ckpt\n",
      "Training Accuracy: 0.89208376\n",
      "Test Accuracy: 0.78659207\n",
      "Epoch:        0/   50000 cost: 5.045987, best: 0.000000\n",
      "Training Acc: -23.833, Test Acc: -15.243\n",
      "Epoch:      500/   50000 cost: 0.052596, best: 0.000000\n",
      "Training Acc: 0.478, Test Acc: 0.371\n",
      "Epoch:     1000/   50000 cost: 0.015892, best: 0.542294\n",
      "Training Acc: 0.720, Test Acc: 0.542\n",
      "Epoch:     1500/   50000 cost: 0.026012, best: 0.590208\n",
      "Training Acc: 0.888, Test Acc: 0.480\n",
      "Epoch:     2000/   50000 cost: 0.013822, best: 0.606725\n",
      "Training Acc: 0.888, Test Acc: 0.516\n",
      "Epoch:     2500/   50000 cost: 0.009055, best: 0.606725\n",
      "Training Acc: 0.931, Test Acc: 0.408\n",
      "Epoch:     3000/   50000 cost: 0.010573, best: 0.606725\n",
      "Training Acc: 0.955, Test Acc: 0.384\n",
      "Epoch:     3500/   50000 cost: 0.005400, best: 0.606725\n",
      "Training Acc: 0.900, Test Acc: 0.309\n",
      "Epoch:     4000/   50000 cost: 0.005837, best: 0.606725\n",
      "Training Acc: 0.975, Test Acc: 0.453\n"
     ]
    },
    {
     "name": "stdout",
     "output_type": "stream",
     "text": [
      "Epoch:     4500/   50000 cost: 0.006184, best: 0.606725\n",
      "Training Acc: 0.895, Test Acc: 0.459\n",
      "Epoch:     5000/   50000 cost: 0.003724, best: 0.606725\n",
      "Training Acc: 0.929, Test Acc: 0.450\n",
      "Epoch:     5500/   50000 cost: 0.003500, best: 0.606725\n",
      "Training Acc: 0.977, Test Acc: 0.443\n",
      "Epoch:     6000/   50000 cost: 0.002535, best: 0.616065\n",
      "Training Acc: 0.972, Test Acc: 0.454\n",
      "Epoch:     6500/   50000 cost: 0.007834, best: 0.616065\n",
      "Training Acc: 0.950, Test Acc: 0.502\n",
      "Epoch:     7000/   50000 cost: 0.001109, best: 0.616065\n",
      "Training Acc: 0.971, Test Acc: 0.508\n",
      "Epoch:     7500/   50000 cost: 0.001594, best: 0.616065\n",
      "Training Acc: 0.956, Test Acc: 0.457\n",
      "Epoch:     8000/   50000 cost: 0.001965, best: 0.616065\n",
      "Training Acc: 0.973, Test Acc: 0.458\n",
      "Epoch:     8500/   50000 cost: 0.000882, best: 0.616065\n",
      "Training Acc: 0.960, Test Acc: 0.475\n",
      "Epoch:     9000/   50000 cost: 0.003020, best: 0.616065\n",
      "Training Acc: 0.917, Test Acc: 0.473\n",
      "Epoch:     9500/   50000 cost: 0.000733, best: 0.616065\n",
      "Training Acc: 0.970, Test Acc: 0.513\n",
      "Epoch:    10000/   50000 cost: 0.000840, best: 0.616065\n",
      "Training Acc: 0.975, Test Acc: 0.480\n",
      "Epoch:    10500/   50000 cost: 0.000825, best: 0.616065\n",
      "Training Acc: 0.950, Test Acc: 0.477\n",
      "Epoch:    11000/   50000 cost: 0.000486, best: 0.616065\n",
      "Training Acc: 0.974, Test Acc: 0.461\n",
      "\n",
      "Early stopping.\n",
      "Epoch:    11225/   50000 cost: 0.000467, best: 0.616065\n",
      "Training Acc: 0.970, Test Acc: 0.503\n",
      "Optimization Finished\n",
      "training time: 387.74 sec.\n",
      "INFO:tensorflow:Restoring parameters from ./models/best_trained_BN_FC_Ion_open_F4.ckpt\n",
      "Training Accuracy: 0.95465213\n",
      "Test Accuracy: 0.6160647\n",
      "Epoch:        0/   50000 cost: 6.987999, best: 0.000000\n",
      "Training Acc: -44.925, Test Acc: -35.610\n",
      "Epoch:      500/   50000 cost: 0.053877, best: 0.000000\n",
      "Training Acc: 0.821, Test Acc: 0.557\n",
      "Epoch:     1000/   50000 cost: 0.012530, best: 0.765564\n",
      "Training Acc: 0.831, Test Acc: 0.766\n",
      "Epoch:     1500/   50000 cost: 0.029290, best: 0.838498\n",
      "Training Acc: 0.884, Test Acc: 0.696\n",
      "Epoch:     2000/   50000 cost: 0.015716, best: 0.838498\n",
      "Training Acc: 0.857, Test Acc: 0.763\n",
      "Epoch:     2500/   50000 cost: 0.004427, best: 0.838498\n",
      "Training Acc: 0.861, Test Acc: 0.707\n",
      "Epoch:     3000/   50000 cost: 0.005738, best: 0.838498\n",
      "Training Acc: 0.886, Test Acc: 0.767\n",
      "Epoch:     3500/   50000 cost: 0.008189, best: 0.838498\n",
      "Training Acc: 0.805, Test Acc: 0.759\n",
      "Epoch:     4000/   50000 cost: 0.001787, best: 0.838498\n",
      "Training Acc: 0.930, Test Acc: 0.711\n",
      "Epoch:     4500/   50000 cost: 0.002863, best: 0.838498\n",
      "Training Acc: 0.902, Test Acc: 0.721\n",
      "Epoch:     5000/   50000 cost: 0.003649, best: 0.838498\n",
      "Training Acc: 0.910, Test Acc: 0.762\n",
      "Epoch:     5500/   50000 cost: 0.001624, best: 0.838498\n",
      "Training Acc: 0.895, Test Acc: 0.759\n",
      "Epoch:     6000/   50000 cost: 0.001725, best: 0.838498\n",
      "Training Acc: 0.861, Test Acc: 0.786\n",
      "Epoch:     6500/   50000 cost: 0.001563, best: 0.838498\n",
      "Training Acc: 0.891, Test Acc: 0.742\n",
      "Epoch:     7000/   50000 cost: 0.001721, best: 0.838498\n",
      "Training Acc: 0.914, Test Acc: 0.769\n",
      "Epoch:     7500/   50000 cost: 0.001317, best: 0.838498\n",
      "Training Acc: 0.933, Test Acc: 0.759\n",
      "\n",
      "Early stopping.\n",
      "Epoch:     7522/   50000 cost: 0.001921, best: 0.838498\n",
      "Training Acc: 0.896, Test Acc: 0.752\n",
      "Optimization Finished\n",
      "training time: 226.07 sec.\n",
      "INFO:tensorflow:Restoring parameters from ./models/best_trained_BN_FC_Ion_open_F5.ckpt\n",
      "Training Accuracy: 0.88281566\n",
      "Test Accuracy: 0.8384975\n",
      "All fold vaildation were ended.\n"
     ]
    }
   ],
   "source": [
    "results_list = []\n",
    "label_list = []\n",
    "for FOLD in range(N_FOLD):\n",
    "    global_step = tf.Variable(0, trainable=False)    \n",
    "    LEARNING_RATE =  tf.train.exponential_decay(0.005, global_step, 1500, 0.96, staircase=True)\n",
    "    EXPLANATION = EXPLANATION_+ \"_F\" + str(FOLD+1)\n",
    "    train_input, train_label = train_inputs[FOLD], train_labels[FOLD]\n",
    "    test_input, test_label = test_inputs[FOLD], test_labels[FOLD]\n",
    "    \n",
    "    # tf Graph input\n",
    "    x = tf.placeholder(\"float\", [None, n_features], name = \"F\"+str(FOLD+1)+\"input\")\n",
    "    y = tf.placeholder(\"float\", [None, n_output], name = \"F\"+str(FOLD+1)+\"output_1\")\n",
    "    phase = tf.placeholder(tf.bool, name='phase')\n",
    "\n",
    "    # Construct model\n",
    "    shared_layer_init = shared_layer(x, N_HIDDEN, phase)\n",
    "    pred_1 = Task_specific_FC(shared_layer_init, N_HIDDEN, phase, 1)\n",
    "    pred_2 = Task_specific_FC(shared_layer_init, N_HIDDEN, phase, 2)\n",
    "    pred_3 = Task_specific_FC(shared_layer_init, N_HIDDEN, phase, 3)\n",
    "    pred_4 = Task_specific_FC(shared_layer_init, N_HIDDEN, phase, 4)\n",
    "    pred_5 = Task_specific_FC(shared_layer_init, N_HIDDEN, phase, 5)\n",
    "    pred_6 = Task_specific_FC(shared_layer_init, N_HIDDEN, phase, 6)\n",
    "    pred = tf.concat([pred_1, pred_2, pred_3, pred_4, pred_5, pred_6], axis=1)\n",
    "\n",
    "    # Define loss and optimizer\n",
    "    cost_1 = tf.losses.mean_squared_error(labels=tf.reshape(y[:, 0], [-1, 1]), predictions=pred_1)\n",
    "    cost_2 = tf.losses.mean_squared_error(labels=tf.reshape(y[:, 1], [-1, 1]), predictions=pred_2)\n",
    "    cost_3 = tf.losses.mean_squared_error(labels=tf.reshape(y[:, 2], [-1, 1]), predictions=pred_3)\n",
    "    cost_4 = tf.losses.mean_squared_error(labels=tf.reshape(y[:, 3], [-1, 1]), predictions=pred_4)\n",
    "    cost_5 = tf.losses.mean_squared_error(labels=tf.reshape(y[:, 4], [-1, 1]), predictions=pred_5)\n",
    "    cost_6 = tf.losses.mean_squared_error(labels=tf.reshape(y[:, 5], [-1, 1]), predictions=pred_6)\n",
    "    joint_cost = cost_1 + cost_2 + cost_3 + cost_4 + cost_5 + cost_6\n",
    "\n",
    "    update_ops = tf.get_collection(tf.GraphKeys.UPDATE_OPS)\n",
    "    optimizer_ = tf.train.AdamOptimizer(learning_rate=LEARNING_RATE, epsilon=EPSILON)\n",
    "    with tf.control_dependencies(update_ops):\n",
    "        #optimizer = optimizer_.minimize(joint_cost, global_step=global_step)\n",
    "        op1 = optimizer_.minimize(cost_1, global_step=global_step)\n",
    "        op2 = optimizer_.minimize(cost_2, global_step=global_step)\n",
    "        op3 = optimizer_.minimize(cost_3, global_step=global_step)\n",
    "        op4 = optimizer_.minimize(cost_4, global_step=global_step)\n",
    "        op5 = optimizer_.minimize(cost_5, global_step=global_step)\n",
    "        op6 = optimizer_.minimize(cost_6, global_step=global_step)\n",
    "\n",
    "    # Accuracy\n",
    "    total_error = tf.reduce_sum(tf.square(tf.subtract(y, tf.reduce_mean(y))))\n",
    "    unexplained_error = tf.reduce_sum(tf.square(tf.subtract(y, pred)))\n",
    "    R_squared = tf.subtract(1., tf.divide(unexplained_error, total_error))\n",
    "\n",
    "    accuracy = R_squared\n",
    "    # Initializing the variables\n",
    "    init = tf.global_variables_initializer()\n",
    "    saver = tf.train.Saver()\n",
    "\n",
    "    # Do some optimizations\n",
    "    sess = tf.Session(config=tf.ConfigProto(gpu_options=tf.GPUOptions(allow_growth =True)))\n",
    "    sess.run(init)\n",
    "\n",
    "    # Launch the graph\n",
    "    ex_acc = 0\n",
    "    best_acc = 0\n",
    "    early_stop_buffer = 0\n",
    "    # Keep training until reach max iterations\n",
    "    start = time.time()\n",
    "\n",
    "    for EPOCH in range(TRAINING_EPOCHS):\n",
    "        \n",
    "        batch_x, batch_y = resample(train_input, train_label, n_samples = BATCH_SIZE, replace = False)\n",
    "        loss = sess.run(joint_cost, feed_dict={x: batch_x, y: batch_y, phase: 1})\n",
    "        \n",
    "        op_set = [sess.run(op1, feed_dict={x: batch_x, y: batch_y, phase: 1}),\n",
    "                  sess.run(op2, feed_dict={x: batch_x, y: batch_y, phase: 1}),\n",
    "                  sess.run(op3, feed_dict={x: batch_x, y: batch_y, phase: 1}),\n",
    "                  sess.run(op4, feed_dict={x: batch_x, y: batch_y, phase: 1}),\n",
    "                  sess.run(op5, feed_dict={x: batch_x, y: batch_y, phase: 1}),\n",
    "                  sess.run(op6, feed_dict={x: batch_x, y: batch_y, phase: 1})]\n",
    "        op_selector = int((N_TASKS)*np.random.rand())\n",
    "        op_set[op_selector]\n",
    "        \n",
    "        test_acc = sess.run(accuracy, feed_dict={x: test_input, y: test_label, phase: 0})\n",
    "        \n",
    "        \n",
    "        if test_acc > ex_acc:\n",
    "            if EPOCH <= SHIELD:\n",
    "                pass\n",
    "            elif test_acc > best_acc:\n",
    "                bestpath = \"./models/best_trained_\" + EXPLANATION + \".ckpt\"\n",
    "                save_path = saver.save(sess, bestpath)\n",
    "                best_acc = test_acc\n",
    "                early_stop_buffer = 0\n",
    "        else:\n",
    "            early_stop_buffer += 1\n",
    "\n",
    "        if early_stop_buffer >= LIMIT:\n",
    "            print (\"\\nEarly stopping.\")\n",
    "            break     \n",
    "\n",
    "        ex_acc = test_acc\n",
    "        if EPOCH % DISPLAY_STEP == 0:\n",
    "            print (\"Epoch: %8d/%8d cost: %.6f, best: %.6f\" % (EPOCH, TRAINING_EPOCHS, loss, best_acc))\n",
    "            train_acc = sess.run(accuracy, feed_dict={x: train_input, y: train_label, phase: 0})\n",
    "            test_acc = sess.run(accuracy, feed_dict={x: test_input, y: test_label, phase: 0})\n",
    "            print (\"Training Acc: %.3f, Test Acc: %.3f\" % (train_acc, test_acc))\n",
    "\n",
    "\n",
    "    print (\"Epoch: %8d/%8d cost: %.6f, best: %.6f\" % (EPOCH+1, TRAINING_EPOCHS, loss, best_acc))\n",
    "    train_acc = sess.run(accuracy, feed_dict={x: train_input, y: train_label, phase: 0})\n",
    "    test_acc = sess.run(accuracy, feed_dict={x: test_input, y: test_label, phase: 0})\n",
    "    print (\"Training Acc: %.3f, Test Acc: %.3f\" % (train_acc,test_acc))\n",
    "\n",
    "    end = time.time() - start\n",
    "    print (\"Optimization Finished\\ntraining time: %.2f sec.\" % (end))\n",
    "    \n",
    "    #Choose best model\n",
    "    bestpath = \"./models/best_trained_\" + EXPLANATION + \".ckpt\"\n",
    "    saver.restore(sess, bestpath)\n",
    "\n",
    "    print (\"Training Accuracy:\", sess.run(accuracy, feed_dict={x: train_input, y: train_label, phase: 0}))\n",
    "    print (\"Test Accuracy:\", sess.run(accuracy, feed_dict={x: test_input, y: test_label, phase: 0}))\n",
    "\n",
    "    estimation_result = sess.run(pred,feed_dict={x: test_input, phase: 0})\n",
    "    estimation_result = pd.DataFrame(estimation_result, index=test_label.index, columns=test_label.columns)\n",
    "    results_list.append(estimation_result)\n",
    "    label_list.append(test_label)\n",
    "\n",
    "    tf.reset_default_graph()\n",
    "    sess.close()\n",
    "    \n",
    "print(\"All fold vaildation were ended.\")"
   ]
  },
  {
   "cell_type": "markdown",
   "metadata": {},
   "source": [
    "## Result analysis"
   ]
  },
  {
   "cell_type": "markdown",
   "metadata": {},
   "source": [
    "### Restoring from preprocess"
   ]
  },
  {
   "cell_type": "code",
   "execution_count": 17,
   "metadata": {},
   "outputs": [],
   "source": [
    "final_result = pd.concat(results_list).sort_index()"
   ]
  },
  {
   "cell_type": "code",
   "execution_count": 18,
   "metadata": {},
   "outputs": [],
   "source": [
    "final_result = ((LABELMAXS - LABELMINS) * final_result) + LABELMINS\n",
    "restored_label = ((LABELMAXS - LABELMINS) * ion_label) + LABELMINS"
   ]
  },
  {
   "cell_type": "markdown",
   "metadata": {},
   "source": [
    "### One to one graph"
   ]
  },
  {
   "cell_type": "code",
   "execution_count": 19,
   "metadata": {
    "scrolled": false
   },
   "outputs": [
    {
     "name": "stdout",
     "output_type": "stream",
     "text": [
      "R2 score:-0.522\n",
      "MSE:2.002\n",
      "R2 score:-0.889\n",
      "MSE:33.177\n",
      "R2 score:-0.863\n",
      "MSE:12.441\n",
      "R2 score:-0.817\n",
      "MSE:12.982\n",
      "R2 score:-1.027\n",
      "MSE:72.732\n",
      "R2 score:-0.887\n",
      "MSE:0.946\n"
     ]
    },
    {
     "data": {
      "image/png": "[encoded data removed]",
      "text/plain": [
       "<Figure size 453.543x340.157 with 1 Axes>"
      ]
     },
     "metadata": {},
     "output_type": "display_data"
    }
   ],
   "source": [
    "# x_linear = np.arange(-1,2)\n",
    "# y_linear = x_linear\n",
    "\n",
    "# one_to_one_line = plt.plot(x_linear, y_linear,'k--', zorder=1)\n",
    "for _ in range(6):\n",
    "    estimation_scatter1 = plt.scatter(restored_label.iloc[:, _], final_result.iloc[:, _],\n",
    "                                 s=MARKER_SIZE, c=cmap[_], label = restored_label.columns[_], zorder=2)\n",
    "\n",
    "    print(\"R2 score:%.3f\" % r2_score(restored_label.iloc[:, _], final_result.iloc[:, _]))\n",
    "    print(\"MSE:%.3f\" % mean_squared_error(restored_label.iloc[:, _], final_result.iloc[:, _]))\n",
    "#plt.axis([-0.1, 0.7, -0.1, 0.7])\n",
    "plt.xlabel(\"Measured fresh weight (kg)\")\n",
    "plt.ylabel(\"Estimated fresh weight (kg)\")\n",
    "plt.grid(True)\n",
    "plt.show()\n"
   ]
  },
  {
   "cell_type": "code",
   "execution_count": 20,
   "metadata": {},
   "outputs": [
    {
     "data": {
      "text/plain": [
       "-0.833939881945823"
      ]
     },
     "execution_count": 20,
     "metadata": {},
     "output_type": "execute_result"
    }
   ],
   "source": [
    "r2_score(restored_label, final_result)"
   ]
  },
  {
   "cell_type": "code",
   "execution_count": 21,
   "metadata": {},
   "outputs": [
    {
     "data": {
      "text/plain": [
       "4.730733502643439"
      ]
     },
     "execution_count": 21,
     "metadata": {},
     "output_type": "execute_result"
    }
   ],
   "source": [
    "np.sqrt(mean_squared_error(restored_label, final_result))"
   ]
  }
 ],
 "metadata": {
  "anaconda-cloud": {},
  "kernelspec": {
   "display_name": "Python 3",
   "language": "python",
   "name": "python3"
  },
  "language_info": {
   "codemirror_mode": {
    "name": "ipython",
    "version": 3
   },
   "file_extension": ".py",
   "mimetype": "text/x-python",
   "name": "python",
   "nbconvert_exporter": "python",
   "pygments_lexer": "ipython3",
   "version": "3.5.2"
  }
 },
 "nbformat": 4,
 "nbformat_minor": 1
}
