{
 "cells": [
  {
   "cell_type": "markdown",
   "metadata": {},
   "source": [
    "## Package preparation"
   ]
  },
  {
   "cell_type": "code",
   "execution_count": 1,
   "metadata": {
    "scrolled": true
   },
   "outputs": [
    {
     "name": "stderr",
     "output_type": "stream",
     "text": [
      "/usr/local/lib/python3.5/dist-packages/h5py/__init__.py:36: FutureWarning: Conversion of the second argument of issubdtype from `float` to `np.floating` is deprecated. In future, it will be treated as `np.float64 == np.dtype(float).type`.\n",
      "  from ._conv import register_converters as _register_converters\n"
     ]
    },
    {
     "name": "stdout",
     "output_type": "stream",
     "text": [
      "Package is ready.\n"
     ]
    }
   ],
   "source": [
    "import os\n",
    "import time\n",
    "\n",
    "import numpy as np\n",
    "import pandas as pd\n",
    "from sklearn.utils import shuffle, resample\n",
    "\n",
    "import tensorflow as tf\n",
    "from tensorflow.contrib import rnn\n",
    "\n",
    "print(\"Package is ready.\")"
   ]
  },
  {
   "cell_type": "code",
   "execution_count": 2,
   "metadata": {},
   "outputs": [],
   "source": [
    "TIME_STEPS = 168\n",
    "OUTPUT_SIZE = 1\n",
    "INTERVAL = \"1h\"\n",
    "N_FOLD = 5\n",
    "EXPLANATION = \"ion_LSTM_closed_interpolate\""
   ]
  },
  {
   "cell_type": "markdown",
   "metadata": {},
   "source": [
    "## Data preparation"
   ]
  },
  {
   "cell_type": "code",
   "execution_count": 3,
   "metadata": {},
   "outputs": [],
   "source": [
    "ion_label = pd.read_excel(\"../data/SW_Ion/Ion concentration_meq_20171109-20180426.xlsx\", skiprows=1, index_col=\"date\")"
   ]
  },
  {
   "cell_type": "code",
   "execution_count": 4,
   "metadata": {
    "scrolled": false
   },
   "outputs": [],
   "source": [
    "ion_label = ion_label[~(ion_label.index < '2018-01-12')]\n",
    "ion_label.drop([columns for columns in ion_label.columns if \"Unnamed:\" in columns], axis= 1, inplace=True)\n",
    "ion_label.drop([columns for columns in ion_label.columns if \".1\" in columns], axis= 1, inplace=True)\n",
    "ion_label.drop([columns for columns in ion_label.columns if \".2\" in columns], axis= 1, inplace=True)\n",
    "ion_label.drop([columns for columns in ion_label.columns if \".3\" in columns], axis= 1, inplace=True)\n",
    "ion_label.loc[[pd.Timestamp(\"2018-04-13\")], :] = pd.np.nan\n",
    "na_label = ion_label.copy()\n",
    "na_label = na_label[na_label.isnull().any(axis=1)]\n",
    "ion_label.dropna(inplace=True)"
   ]
  },
  {
   "cell_type": "code",
   "execution_count": 5,
   "metadata": {},
   "outputs": [],
   "source": [
    "ion_label.index += pd.Timedelta(\"16h\")"
   ]
  },
  {
   "cell_type": "code",
   "execution_count": 6,
   "metadata": {
    "scrolled": true
   },
   "outputs": [],
   "source": [
    "ion_label = ion_label.sample(frac=1.0)"
   ]
  },
  {
   "cell_type": "code",
   "execution_count": 7,
   "metadata": {},
   "outputs": [],
   "source": [
    "raw_closed = pd.read_csv(\"./results/closed_data.csv\", index_col=\"TIMESTAMP\")\n",
    "raw_closed.index = pd.DatetimeIndex(raw_closed.index)\n",
    "raw_closed = raw_closed[np.abs(raw_closed-raw_closed.mean())<=(3*raw_closed.std())]\n",
    "raw_closed[\"RootTemp(1)\"][0] = 20\n",
    "raw_closed.drop([\"ECS(3)\", \"InjDrgVR(3)\", \"DrgDaily(3)\", \"DrgV(3)\"], axis=1, inplace=True)"
   ]
  },
  {
   "cell_type": "code",
   "execution_count": 8,
   "metadata": {},
   "outputs": [],
   "source": [
    "raw_closed.interpolate(\"linear\", inplace=True)\n",
    "\n",
    "# raw_closed.index = (raw_closed.index).round(INTERVAL)\n",
    "# raw_closed = raw_closed.groupby(raw_closed.index).mean()"
   ]
  },
  {
   "cell_type": "code",
   "execution_count": 9,
   "metadata": {},
   "outputs": [],
   "source": [
    "MAXS = raw_closed.max()\n",
    "MINS = raw_closed.min()\n",
    "LABELMAXS = ion_label.max()\n",
    "LABELMINS = ion_label.min()"
   ]
  },
  {
   "cell_type": "code",
   "execution_count": 10,
   "metadata": {},
   "outputs": [],
   "source": [
    "raw_closed = (raw_closed - MINS) / (MAXS - MINS)\n",
    "ion_label = (ion_label - LABELMINS) / (LABELMAXS - LABELMINS)"
   ]
  },
  {
   "cell_type": "code",
   "execution_count": 11,
   "metadata": {},
   "outputs": [],
   "source": [
    "env_input = []\n",
    "for index in ion_label.index:\n",
    "    last_time = index\n",
    "    first_time = last_time - pd.Timedelta(INTERVAL)*(TIME_STEPS-1)\n",
    "    \n",
    "    TRAIN_RANGE = pd.date_range(first_time, last_time, freq=INTERVAL)\n",
    "    env_input.append(raw_closed.loc[TRAIN_RANGE])"
   ]
  },
  {
   "cell_type": "code",
   "execution_count": 12,
   "metadata": {},
   "outputs": [],
   "source": [
    "for i in range(len(env_input)):\n",
    "    env_input[i] = env_input[i].values\n",
    "    \n",
    "env_input = np.array(env_input)"
   ]
  },
  {
   "cell_type": "code",
   "execution_count": 13,
   "metadata": {},
   "outputs": [],
   "source": [
    "rnn_input = env_input\n",
    "rnn_label = ion_label"
   ]
  },
  {
   "cell_type": "code",
   "execution_count": 14,
   "metadata": {},
   "outputs": [],
   "source": [
    "env_input = []\n",
    "for index in na_label.index:\n",
    "    last_time = index\n",
    "    first_time = last_time - pd.Timedelta(INTERVAL)*(TIME_STEPS-1)\n",
    "    \n",
    "    TRAIN_RANGE = pd.date_range(first_time, last_time, freq=INTERVAL)\n",
    "    env_input.append(raw_closed.loc[TRAIN_RANGE])"
   ]
  },
  {
   "cell_type": "code",
   "execution_count": 15,
   "metadata": {},
   "outputs": [],
   "source": [
    "for i in range(len(env_input)):\n",
    "    env_input[i] = env_input[i].values\n",
    "    \n",
    "env_input = np.array(env_input)"
   ]
  },
  {
   "cell_type": "code",
   "execution_count": 16,
   "metadata": {},
   "outputs": [
    {
     "data": {
      "text/plain": [
       "(54, 168, 23)"
      ]
     },
     "execution_count": 16,
     "metadata": {},
     "output_type": "execute_result"
    }
   ],
   "source": [
    "env_input.shape"
   ]
  },
  {
   "cell_type": "code",
   "execution_count": 17,
   "metadata": {},
   "outputs": [],
   "source": [
    "pred_input = env_input\n",
    "pred_label = na_label"
   ]
  },
  {
   "cell_type": "code",
   "execution_count": 18,
   "metadata": {},
   "outputs": [
    {
     "data": {
      "text/plain": [
       "(54, 168, 23)"
      ]
     },
     "execution_count": 18,
     "metadata": {},
     "output_type": "execute_result"
    }
   ],
   "source": [
    "pred_input.shape"
   ]
  },
  {
   "cell_type": "markdown",
   "metadata": {},
   "source": [
    "## Network"
   ]
  },
  {
   "cell_type": "code",
   "execution_count": 19,
   "metadata": {},
   "outputs": [],
   "source": [
    "def FC(x, size, scope):\n",
    "    return tf.contrib.layers.fully_connected(x, size, activation_fn=None, scope=scope)\n",
    "\n",
    "def BN_FC(x, n_hidden, phase, scope):\n",
    "    with tf.variable_scope(scope):\n",
    "        h1 = tf.contrib.layers.fully_connected(x, n_hidden, activation_fn=None, scope='FC')\n",
    "        h2 = tf.layers.batch_normalization(h1, training=phase)\n",
    "        return tf.nn.relu(h2, 'relu')"
   ]
  },
  {
   "cell_type": "code",
   "execution_count": 20,
   "metadata": {
    "scrolled": false
   },
   "outputs": [
    {
     "name": "stdout",
     "output_type": "stream",
     "text": [
      "INFO:tensorflow:Restoring parameters from ./models/best_trained_Ion_closed_altMT_LN_I1h_T168_F1.ckpt\n",
      "Training Acc: 0.525\n",
      "INFO:tensorflow:Restoring parameters from ./models/best_trained_Ion_closed_altMT_LN_I1h_T168_F2.ckpt\n",
      "Training Acc: 0.953\n",
      "INFO:tensorflow:Restoring parameters from ./models/best_trained_Ion_closed_altMT_LN_I1h_T168_F3.ckpt\n",
      "Training Acc: 0.896\n",
      "INFO:tensorflow:Restoring parameters from ./models/best_trained_Ion_closed_altMT_LN_I1h_T168_F4.ckpt\n",
      "Training Acc: 0.891\n",
      "INFO:tensorflow:Restoring parameters from ./models/best_trained_Ion_closed_altMT_LN_I1h_T168_F5.ckpt\n",
      "Training Acc: 0.913\n"
     ]
    }
   ],
   "source": [
    "for i in range(N_FOLD):\n",
    "    EXPLANATION_ = \"Ion_closed_altMT_LN\" + \"_I\" + INTERVAL + \"_T\" + str(TIME_STEPS) + \"_F\" + str(i+1)\n",
    "    EPSILON = 0.00001\n",
    "    N_HIDDEN = 128\n",
    "    N_FC_HIDDEN = 128\n",
    "    DROP_PROB = 0.9\n",
    "    N_INPUT = env_input[0].shape[1]\n",
    "    N_OUTPUT = ion_label.shape[1]\n",
    "\n",
    "    # tf Graph input\n",
    "    x = tf.placeholder(\"float\", [None, TIME_STEPS, N_INPUT])\n",
    "    y = tf.placeholder(\"float\", [None, N_OUTPUT])\n",
    "    drop_prob = tf.placeholder(\"float\")\n",
    "    phase = tf.placeholder(tf.bool)\n",
    "\n",
    "    # Define weights\n",
    "    weights = tf.get_variable(\"F\"+ str(i+1) + \"wgt\", shape=[N_HIDDEN, N_OUTPUT], initializer=tf.contrib.layers.xavier_initializer())\n",
    "    biases = tf.get_variable(\"F\"+ str(i+1) + \"bias\", shape=[N_OUTPUT], initializer=tf.contrib.layers.xavier_initializer())\n",
    "\n",
    "    def RNN(x, weights, biases, drop_prob):\n",
    "\n",
    "        x = tf.unstack(x, TIME_STEPS, 1)\n",
    "        \n",
    "        cell = rnn.LayerNormBasicLSTMCell(N_HIDDEN, dropout_keep_prob=drop_prob, reuse=tf.AUTO_REUSE)\n",
    "        outputs, states = rnn.static_rnn(cell, x, dtype=tf.float32)\n",
    "        \n",
    "        activation = tf.matmul(outputs[-1], weights) + biases\n",
    "\n",
    "        return activation\n",
    "    \n",
    "\n",
    "    def Task_specific_FC(x, n_hidden, phase, tasknum):\n",
    "        h1 = BN_FC(x, n_hidden, phase, \"task\" + str(tasknum) + \"_layer1\")\n",
    "        h2 = BN_FC(h1, n_hidden, phase, \"task\" + str(tasknum) + \"_layer2\")\n",
    "        \n",
    "        return FC(h2, 1, \"task\" + str(tasknum) + \"_out\")\n",
    "\n",
    "\n",
    "    # Construct model\n",
    "    shared_layer = RNN(x, weights, biases, drop_prob)\n",
    "    pred_1 = Task_specific_FC(shared_layer, N_FC_HIDDEN, phase, 1)\n",
    "    pred_2 = Task_specific_FC(shared_layer, N_FC_HIDDEN, phase, 2)\n",
    "    pred_3 = Task_specific_FC(shared_layer, N_FC_HIDDEN, phase, 3)\n",
    "    pred_4 = Task_specific_FC(shared_layer, N_FC_HIDDEN, phase, 4)\n",
    "    pred_5 = Task_specific_FC(shared_layer, N_FC_HIDDEN, phase, 5)\n",
    "    pred_6 = Task_specific_FC(shared_layer, N_FC_HIDDEN, phase, 6)\n",
    "    pred = tf.concat([pred_1, pred_2, pred_3, pred_4, pred_5, pred_6], axis=1)\n",
    "\n",
    "    # Evaluate model\n",
    "    total_error = tf.reduce_sum(tf.square(tf.subtract(y, tf.reduce_mean(y))))\n",
    "    unexplained_error = tf.reduce_sum(tf.square(tf.subtract(y, pred)))\n",
    "    R_squared = tf.subtract(1., tf.divide(unexplained_error, total_error))\n",
    "    accuracy = R_squared\n",
    "\n",
    "    # Initializing the variables\n",
    "    init = tf.global_variables_initializer()\n",
    "    saver = tf.train.Saver()\n",
    "    \n",
    "    # Do some optimizations\n",
    "    sess = tf.Session(config=tf.ConfigProto(gpu_options=tf.GPUOptions(allow_growth =True)))\n",
    "    sess.run(init)\n",
    "\n",
    "    #Choose best model\n",
    "    bestpath = \"./models/best_trained_\" + EXPLANATION_ + \".ckpt\"\n",
    "    saver.restore(sess, bestpath)\n",
    "\n",
    "\n",
    "    train_acc = sess.run(accuracy, feed_dict={x: rnn_input, y: rnn_label, drop_prob: 1.0, phase: 0})\n",
    "    print (\"Training Acc: %.3f\" % (train_acc))\n",
    "\n",
    "    prediction = sess.run(pred, feed_dict={x: pred_input, drop_prob: 1.0, phase: 0})\n",
    "    prediction = (prediction * (LABELMAXS.values - LABELMINS.values)) + LABELMINS.values\n",
    "    pred_df = pd.DataFrame(prediction)\n",
    "    pred_df.index = pred_label.index\n",
    "    pred_df.columns = [\"K\", \"Ca\", \"Mg\", \"S\", \"N\", \"P\"]\n",
    "\n",
    "    ion_results = pd.concat([pred_df], axis = 1)\n",
    "    ion_results.to_csv(\"./results/results_\" + EXPLANATION + \"_F\" + str(i+1) + \".csv\")\n",
    "    \n",
    "    tf.reset_default_graph()\n",
    "    sess.close()"
   ]
  }
 ],
 "metadata": {
  "kernelspec": {
   "display_name": "Python 3",
   "language": "python",
   "name": "python3"
  },
  "language_info": {
   "codemirror_mode": {
    "name": "ipython",
    "version": 3
   },
   "file_extension": ".py",
   "mimetype": "text/x-python",
   "name": "python",
   "nbconvert_exporter": "python",
   "pygments_lexer": "ipython3",
   "version": "3.5.2"
  }
 },
 "nbformat": 4,
 "nbformat_minor": 2
}
