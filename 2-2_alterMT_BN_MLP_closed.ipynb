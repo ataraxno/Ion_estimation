{
 "cells": [
  {
   "cell_type": "markdown",
   "metadata": {},
   "source": [
    "# Package"
   ]
  },
  {
   "cell_type": "code",
   "execution_count": 1,
   "metadata": {
    "scrolled": false
   },
   "outputs": [
    {
     "name": "stderr",
     "output_type": "stream",
     "text": [
      "/usr/local/lib/python3.5/dist-packages/h5py/__init__.py:36: FutureWarning: Conversion of the second argument of issubdtype from `float` to `np.floating` is deprecated. In future, it will be treated as `np.float64 == np.dtype(float).type`.\n",
      "  from ._conv import register_converters as _register_converters\n"
     ]
    },
    {
     "name": "stdout",
     "output_type": "stream",
     "text": [
      "Package is ready.\n"
     ]
    }
   ],
   "source": [
    "import os\n",
    "import time\n",
    "\n",
    "import numpy as np\n",
    "import pandas as pd\n",
    "from sklearn.utils import shuffle, resample\n",
    "from sklearn.metrics import mean_squared_error, r2_score\n",
    "from sklearn.model_selection import KFold\n",
    "\n",
    "import tensorflow as tf\n",
    "\n",
    "import matplotlib\n",
    "import matplotlib.pyplot as plt\n",
    "%matplotlib inline\n",
    "print(\"Package is ready.\")"
   ]
  },
  {
   "cell_type": "markdown",
   "metadata": {},
   "source": [
    "# Hyperparameters"
   ]
  },
  {
   "cell_type": "markdown",
   "metadata": {},
   "source": [
    "## Plotting parameters"
   ]
  },
  {
   "cell_type": "code",
   "execution_count": 2,
   "metadata": {},
   "outputs": [],
   "source": [
    "matplotlib.rcParams['figure.figsize'] = ((8/2.54)*2, (6/2.54)*2)\n",
    "plt.rcParams[\"font.family\"] = \"arial\"\n",
    "plt.rcParams[\"font.serif\"] = \"arial\"\n",
    "plt.rcParams[\"mathtext.default\"] = \"rm\"\n",
    "plt.rcParams.update({'font.size': 11})\n",
    "MARKER_SIZE = 15\n",
    "cmap_m = [\"#f4a6ad\", \"#f6957e\", \"#fccfa2\", \"#8de7be\", \"#86d6f2\", \"#24a9e4\", \"#b586e0\", \"#d7f293\"]\n",
    "cmap = [\"#e94d5b\", \"#ef4d28\", \"#f9a54f\", \"#25b575\", \"#1bb1e7\", \"#1477a2\", \"#a662e5\", \"#c2f442\"]\n",
    "\n",
    "plt.rcParams['axes.linewidth'] = 2\n",
    "plt.rcParams['lines.linewidth'] = 1.5\n",
    "plt.rcParams['xtick.major.width'] = 2\n",
    "plt.rcParams['xtick.minor.width'] = 1\n",
    "plt.rcParams['ytick.major.width'] = 2\n",
    "plt.rcParams['ytick.minor.width'] = 1"
   ]
  },
  {
   "cell_type": "markdown",
   "metadata": {},
   "source": [
    "## Training parameters"
   ]
  },
  {
   "cell_type": "code",
   "execution_count": 3,
   "metadata": {},
   "outputs": [],
   "source": [
    "#Constants\n",
    "N_TASKS = 6\n",
    "N_FOLD = 5\n",
    "EX_TEST = 0\n",
    "EXPLANATION_ = \"BN_FC_Ion_closed\"\n",
    "EPSILON = 0.0001\n",
    "TRAINING_EPOCHS = 50000\n",
    "BATCH_SIZE = 16\n",
    "DISPLAY_STEP = 500\n",
    "\n",
    "N_HIDDEN = 512\n",
    "\n",
    "SHIELD = 999\n",
    "LIMIT = 3002"
   ]
  },
  {
   "cell_type": "markdown",
   "metadata": {},
   "source": [
    "# Data handling"
   ]
  },
  {
   "cell_type": "markdown",
   "metadata": {},
   "source": [
    "## Date loading"
   ]
  },
  {
   "cell_type": "code",
   "execution_count": 4,
   "metadata": {},
   "outputs": [],
   "source": [
    "ion_label = pd.read_excel(\"../data/SW_Ion/Ion concentration_meq_20171109-20180426.xlsx\", skiprows=1, index_col=\"date\")"
   ]
  },
  {
   "cell_type": "code",
   "execution_count": 5,
   "metadata": {},
   "outputs": [],
   "source": [
    "ion_label = ion_label[~(ion_label.index < '2018-01-12')]\n",
    "#ion_label.drop([\"N\"], axis=1, inplace=True)\n",
    "ion_label.drop([columns for columns in ion_label.columns if \"Unnamed:\" in columns], axis= 1, inplace=True)\n",
    "ion_label.drop([columns for columns in ion_label.columns if \".1\" in columns], axis= 1, inplace=True)\n",
    "ion_label.drop([columns for columns in ion_label.columns if \".2\" in columns], axis= 1, inplace=True)\n",
    "ion_label.drop([columns for columns in ion_label.columns if \".3\" in columns], axis= 1, inplace=True)\n",
    "ion_label.dropna(inplace=True)\n",
    "#ion_label.drop([pd.Timestamp(\"2018-04-23\"), pd.Timestamp(\"2018-04-12\"), pd.Timestamp(\"2018-04-05\")], axis=0, inplace=True)\n",
    "ion_label.drop([pd.Timestamp(\"2018-04-13\")], axis=0, inplace=True)"
   ]
  },
  {
   "cell_type": "code",
   "execution_count": 6,
   "metadata": {},
   "outputs": [],
   "source": [
    "ion_label.index += pd.Timedelta(\"16h\")"
   ]
  },
  {
   "cell_type": "code",
   "execution_count": 7,
   "metadata": {},
   "outputs": [],
   "source": [
    "ion_label = ion_label.sample(frac=1.0)"
   ]
  },
  {
   "cell_type": "code",
   "execution_count": 8,
   "metadata": {},
   "outputs": [],
   "source": [
    "raw_closed = pd.read_csv(\"./results/closed_data.csv\", index_col=\"TIMESTAMP\")\n",
    "raw_closed.index = pd.DatetimeIndex(raw_closed.index)\n",
    "raw_closed = raw_closed[np.abs(raw_closed-raw_closed.mean())<=(3*raw_closed.std())]\n",
    "raw_closed[\"RootTemp(1)\"][0] = 20\n",
    "raw_closed.drop([\"ECS(3)\", \"InjDrgVR(3)\", \"DrgDaily(3)\", \"DrgV(3)\"], axis=1, inplace=True)"
   ]
  },
  {
   "cell_type": "code",
   "execution_count": 9,
   "metadata": {},
   "outputs": [],
   "source": [
    "raw_closed.interpolate(\"linear\", inplace=True)\n",
    "\n",
    "# raw_closed.index = (raw_closed.index).round(INTERVAL)\n",
    "# raw_closed = raw_closed.groupby(raw_closed.index).mean()"
   ]
  },
  {
   "cell_type": "code",
   "execution_count": 10,
   "metadata": {},
   "outputs": [],
   "source": [
    "MAXS = raw_closed.max()\n",
    "MINS = raw_closed.min()\n",
    "LABELMAXS = ion_label.max()\n",
    "LABELMINS = ion_label.min()"
   ]
  },
  {
   "cell_type": "code",
   "execution_count": 11,
   "metadata": {},
   "outputs": [],
   "source": [
    "raw_closed = (raw_closed - MINS) / (MAXS - MINS)\n",
    "ion_label = (ion_label - LABELMINS) / (LABELMAXS - LABELMINS)"
   ]
  },
  {
   "cell_type": "code",
   "execution_count": 12,
   "metadata": {},
   "outputs": [],
   "source": [
    "env_input = raw_closed.reindex(ion_label.index)"
   ]
  },
  {
   "cell_type": "code",
   "execution_count": 13,
   "metadata": {},
   "outputs": [],
   "source": [
    "train_inputs = []\n",
    "train_labels = []\n",
    "test_inputs = []\n",
    "test_labels = []\n",
    "\n",
    "kf = KFold(n_splits=N_FOLD, shuffle=True)\n",
    "for train_index, test_index in kf.split(ion_label):\n",
    "    train_inputs.append(env_input.iloc[train_index, :])\n",
    "    train_labels.append(ion_label.iloc[train_index, :])\n",
    "    test_inputs.append(env_input.iloc[test_index, :])\n",
    "    test_labels.append(ion_label.iloc[test_index, :])"
   ]
  },
  {
   "cell_type": "code",
   "execution_count": 14,
   "metadata": {},
   "outputs": [
    {
     "name": "stdout",
     "output_type": "stream",
     "text": [
      "number of output: 6\n",
      "number of feature: 23\n",
      "number of train data: 40\n",
      "number of test data: 11\n"
     ]
    }
   ],
   "source": [
    "n_output = 6\n",
    "n_features = test_inputs[0].shape[1]\n",
    "n_train = train_inputs[0].shape[0]\n",
    "n_test = test_inputs[0].shape[0]\n",
    "\n",
    "print(\"number of output: %d\" % n_output)\n",
    "print(\"number of feature: %d\" % n_features)\n",
    "print(\"number of train data: %d\" % n_train)\n",
    "print(\"number of test data: %d\" % n_test)"
   ]
  },
  {
   "cell_type": "markdown",
   "metadata": {},
   "source": [
    "## Network preparation"
   ]
  },
  {
   "cell_type": "markdown",
   "metadata": {},
   "source": [
    "### Constructing networks"
   ]
  },
  {
   "cell_type": "code",
   "execution_count": 15,
   "metadata": {},
   "outputs": [],
   "source": [
    "def FC(x, size, scope):\n",
    "    return tf.contrib.layers.fully_connected(x, size, activation_fn=None, scope=scope)\n",
    "\n",
    "def BN_FC(x, n_hidden, phase, scope):\n",
    "    with tf.variable_scope(scope):\n",
    "        h1 = tf.contrib.layers.fully_connected(x, n_hidden, activation_fn=None, scope='FC')\n",
    "        h2 = tf.layers.batch_normalization(h1, training=phase)\n",
    "        return tf.nn.relu(h2, 'relu')\n",
    "    \n",
    "def shared_layer(_x, _n_hidden, _phase):\n",
    "\n",
    "    h1 = BN_FC(_x, _n_hidden, _phase, \"layer1\")\n",
    "    h2 = BN_FC(h1, _n_hidden, _phase, \"layer2\")\n",
    "    h3 = BN_FC(h2, _n_hidden, _phase, \"layer3\")\n",
    "    h4 = BN_FC(h3, _n_hidden, _phase, \"layer4\")\n",
    "#     h5 = BN_FC(h4, _n_hidden, _phase, \"layer5\")\n",
    "#     h6 = BN_FC(h5, _n_hidden, _phase, \"layer6\")\n",
    "#     h7 = BN_FC(h6, _n_hidden, _phase, \"layer7\")\n",
    "#     h8 = BN_FC(h7, _n_hidden, _phase, \"layer8\")\n",
    "#     h9 = BN_FC(h8, _n_hidden, _phase, \"layer9\")\n",
    "#     h10 = BN_FC(h9, _n_hidden, _phase, \"layer10\")\n",
    "#     h11 = BN_FC(h10, _n_hidden, _phase, \"layer11\")\n",
    "#     h12 = BN_FC(h11, _n_hidden, _phase, \"layer12\")\n",
    "#     h13 = BN_FC(h12, _n_hidden, _phase, \"layer13\")\n",
    "#     h14 = BN_FC(h13, _n_hidden, _phase, \"layer14\")\n",
    "#     h15 = BN_FC(h14, _n_hidden, _phase, \"layer15\")\n",
    "#     h16 = BN_FC(h15, _n_hidden, _phase, \"layer16\")\n",
    "    shared_out = BN_FC(h4, _n_hidden, _phase, \"shared_out\")\n",
    "\n",
    "    return shared_out\n",
    "\n",
    "\n",
    "def Task_specific_FC(x, n_hidden, phase, tasknum):\n",
    "    h1 = BN_FC(x, n_hidden, phase, \"task\" + str(tasknum) + \"_layer1\")\n",
    "    h2 = BN_FC(h1, n_hidden, phase, \"task\" + str(tasknum) + \"_layer2\")\n",
    "\n",
    "    return FC(h2, 1, \"task\" + str(tasknum) + \"_out\")"
   ]
  },
  {
   "cell_type": "code",
   "execution_count": 16,
   "metadata": {
    "scrolled": false
   },
   "outputs": [
    {
     "name": "stdout",
     "output_type": "stream",
     "text": [
      "Epoch:        0/   50000 cost: 8.095208, best: 0.000000\n",
      "Training Acc: -8.840, Test Acc: -13.524\n",
      "Epoch:      500/   50000 cost: 0.049753, best: 0.000000\n",
      "Training Acc: 0.733, Test Acc: 0.278\n",
      "Epoch:     1000/   50000 cost: 0.045648, best: 0.000000\n",
      "Training Acc: 0.874, Test Acc: 0.715\n",
      "Epoch:     1500/   50000 cost: 0.013947, best: 0.859926\n",
      "Training Acc: 0.852, Test Acc: 0.735\n",
      "Epoch:     2000/   50000 cost: 0.021667, best: 0.873498\n",
      "Training Acc: 0.851, Test Acc: 0.859\n",
      "Epoch:     2500/   50000 cost: 0.020325, best: 0.893169\n",
      "Training Acc: 0.619, Test Acc: 0.600\n",
      "Epoch:     3000/   50000 cost: 0.006654, best: 0.893169\n",
      "Training Acc: 0.724, Test Acc: 0.861\n",
      "Epoch:     3500/   50000 cost: 0.022708, best: 0.893169\n",
      "Training Acc: 0.815, Test Acc: 0.864\n",
      "Epoch:     4000/   50000 cost: 0.006395, best: 0.894134\n",
      "Training Acc: 0.871, Test Acc: 0.880\n",
      "Epoch:     4500/   50000 cost: 0.003189, best: 0.894134\n",
      "Training Acc: 0.864, Test Acc: 0.850\n",
      "Epoch:     5000/   50000 cost: 0.002073, best: 0.894134\n",
      "Training Acc: 0.771, Test Acc: 0.864\n",
      "Epoch:     5500/   50000 cost: 0.004000, best: 0.894134\n",
      "Training Acc: 0.833, Test Acc: 0.856\n",
      "Epoch:     6000/   50000 cost: 0.003283, best: 0.894134\n",
      "Training Acc: 0.790, Test Acc: 0.870\n",
      "Epoch:     6500/   50000 cost: 0.012841, best: 0.894134\n",
      "Training Acc: 0.838, Test Acc: 0.876\n",
      "Epoch:     7000/   50000 cost: 0.003290, best: 0.894134\n",
      "Training Acc: 0.839, Test Acc: 0.820\n",
      "Epoch:     7500/   50000 cost: 0.003920, best: 0.894134\n",
      "Training Acc: 0.815, Test Acc: 0.832\n",
      "Epoch:     8000/   50000 cost: 0.004156, best: 0.894134\n",
      "Training Acc: 0.759, Test Acc: 0.722\n",
      "Epoch:     8500/   50000 cost: 0.001348, best: 0.894134\n",
      "Training Acc: 0.842, Test Acc: 0.863\n",
      "Epoch:     9000/   50000 cost: 0.002257, best: 0.894134\n",
      "Training Acc: 0.784, Test Acc: 0.837\n",
      "\n",
      "Early stopping.\n",
      "Epoch:     9324/   50000 cost: 0.001274, best: 0.894134\n",
      "Training Acc: 0.842, Test Acc: 0.858\n",
      "Optimization Finished\n",
      "training time: 324.40 sec.\n",
      "INFO:tensorflow:Restoring parameters from ./models/best_trained_BN_FC_Ion_closed_F1.ckpt\n",
      "Training Accuracy: 0.8272619\n",
      "Test Accuracy: 0.89413387\n",
      "Epoch:        0/   50000 cost: 4.815240, best: 0.000000\n",
      "Training Acc: -31.681, Test Acc: -10.603\n",
      "Epoch:      500/   50000 cost: 0.041123, best: 0.000000\n",
      "Training Acc: 0.749, Test Acc: 0.475\n",
      "Epoch:     1000/   50000 cost: 0.019760, best: 0.513893\n",
      "Training Acc: 0.864, Test Acc: 0.514\n",
      "Epoch:     1500/   50000 cost: 0.019102, best: 0.766197\n",
      "Training Acc: 0.878, Test Acc: 0.681\n",
      "Epoch:     2000/   50000 cost: 0.016491, best: 0.782065\n",
      "Training Acc: 0.915, Test Acc: 0.550\n",
      "Epoch:     2500/   50000 cost: 0.007826, best: 0.783066\n",
      "Training Acc: 0.934, Test Acc: 0.506\n",
      "Epoch:     3000/   50000 cost: 0.012492, best: 0.783066\n",
      "Training Acc: 0.954, Test Acc: 0.572\n",
      "Epoch:     3500/   50000 cost: 0.004674, best: 0.783066\n",
      "Training Acc: 0.969, Test Acc: 0.575\n",
      "Epoch:     4000/   50000 cost: 0.008013, best: 0.787229\n",
      "Training Acc: 0.898, Test Acc: 0.593\n",
      "Epoch:     4500/   50000 cost: 0.001531, best: 0.787229\n",
      "Training Acc: 0.914, Test Acc: 0.598\n",
      "Epoch:     5000/   50000 cost: 0.002203, best: 0.787229\n",
      "Training Acc: 0.932, Test Acc: 0.569\n",
      "Epoch:     5500/   50000 cost: 0.002917, best: 0.787229\n",
      "Training Acc: 0.965, Test Acc: 0.588\n",
      "Epoch:     6000/   50000 cost: 0.002458, best: 0.787229\n",
      "Training Acc: 0.979, Test Acc: 0.578\n",
      "Epoch:     6500/   50000 cost: 0.003336, best: 0.787229\n",
      "Training Acc: 0.936, Test Acc: 0.593\n",
      "Epoch:     7000/   50000 cost: 0.001604, best: 0.787229\n",
      "Training Acc: 0.968, Test Acc: 0.617\n",
      "Epoch:     7500/   50000 cost: 0.001778, best: 0.787229\n",
      "Training Acc: 0.978, Test Acc: 0.608\n",
      "Epoch:     8000/   50000 cost: 0.004496, best: 0.787229\n",
      "Training Acc: 0.950, Test Acc: 0.596\n",
      "Epoch:     8500/   50000 cost: 0.001685, best: 0.787229\n",
      "Training Acc: 0.980, Test Acc: 0.615\n",
      "Epoch:     9000/   50000 cost: 0.001801, best: 0.787229\n",
      "Training Acc: 0.963, Test Acc: 0.611\n",
      "Epoch:     9500/   50000 cost: 0.000899, best: 0.787229\n",
      "Training Acc: 0.987, Test Acc: 0.609\n",
      "\n",
      "Early stopping.\n",
      "Epoch:     9945/   50000 cost: 0.001949, best: 0.787229\n",
      "Training Acc: 0.987, Test Acc: 0.601\n",
      "Optimization Finished\n",
      "training time: 357.18 sec.\n",
      "INFO:tensorflow:Restoring parameters from ./models/best_trained_BN_FC_Ion_closed_F2.ckpt\n",
      "Training Accuracy: 0.51956934\n",
      "Test Accuracy: 0.7872292\n",
      "Epoch:        0/   50000 cost: 5.351862, best: 0.000000\n",
      "Training Acc: -1.327, Test Acc: -3.573\n",
      "Epoch:      500/   50000 cost: 0.059952, best: 0.000000\n",
      "Training Acc: 0.515, Test Acc: 0.338\n",
      "Epoch:     1000/   50000 cost: 0.012440, best: 0.646274\n",
      "Training Acc: 0.803, Test Acc: 0.646\n",
      "Epoch:     1500/   50000 cost: 0.012320, best: 0.646274\n",
      "Training Acc: 0.428, Test Acc: 0.358\n",
      "Epoch:     2000/   50000 cost: 0.016315, best: 0.646274\n",
      "Training Acc: 0.708, Test Acc: 0.512\n",
      "Epoch:     2500/   50000 cost: 0.025336, best: 0.646274\n",
      "Training Acc: 0.955, Test Acc: 0.358\n",
      "Epoch:     3000/   50000 cost: 0.015972, best: 0.680210\n",
      "Training Acc: 0.708, Test Acc: 0.534\n",
      "Epoch:     3500/   50000 cost: 0.017015, best: 0.681497\n",
      "Training Acc: 0.940, Test Acc: 0.546\n",
      "Epoch:     4000/   50000 cost: 0.003473, best: 0.681497\n",
      "Training Acc: 0.951, Test Acc: 0.568\n",
      "Epoch:     4500/   50000 cost: 0.005526, best: 0.681497\n",
      "Training Acc: 0.858, Test Acc: 0.471\n",
      "Epoch:     5000/   50000 cost: 0.006512, best: 0.681497\n",
      "Training Acc: 0.890, Test Acc: 0.530\n",
      "Epoch:     5500/   50000 cost: 0.003492, best: 0.681497\n",
      "Training Acc: 0.854, Test Acc: 0.530\n",
      "Epoch:     6000/   50000 cost: 0.001822, best: 0.681497\n",
      "Training Acc: 0.546, Test Acc: 0.474\n",
      "Epoch:     6500/   50000 cost: 0.005375, best: 0.681497\n",
      "Training Acc: 0.700, Test Acc: 0.525\n",
      "Epoch:     7000/   50000 cost: 0.003600, best: 0.681497\n",
      "Training Acc: 0.836, Test Acc: 0.507\n",
      "Epoch:     7500/   50000 cost: 0.003276, best: 0.681497\n",
      "Training Acc: 0.571, Test Acc: 0.511\n",
      "Epoch:     8000/   50000 cost: 0.003582, best: 0.681497\n",
      "Training Acc: 0.864, Test Acc: 0.523\n",
      "Epoch:     8500/   50000 cost: 0.001168, best: 0.681497\n",
      "Training Acc: 0.826, Test Acc: 0.545\n",
      "Epoch:     9000/   50000 cost: 0.001788, best: 0.681497\n",
      "Training Acc: 0.625, Test Acc: 0.511\n",
      "\n",
      "Early stopping.\n",
      "Epoch:     9121/   50000 cost: 0.000960, best: 0.681497\n",
      "Training Acc: 0.611, Test Acc: 0.513\n",
      "Optimization Finished\n",
      "training time: 326.76 sec.\n",
      "INFO:tensorflow:Restoring parameters from ./models/best_trained_BN_FC_Ion_closed_F3.ckpt\n",
      "Training Accuracy: 0.9154324\n",
      "Test Accuracy: 0.681497\n",
      "Epoch:        0/   50000 cost: 7.046389, best: 0.000000\n",
      "Training Acc: -2.689, Test Acc: -2.203\n",
      "Epoch:      500/   50000 cost: 0.017542, best: 0.000000\n",
      "Training Acc: 0.683, Test Acc: 0.025\n",
      "Epoch:     1000/   50000 cost: 0.042240, best: 0.000000\n",
      "Training Acc: 0.322, Test Acc: -0.070\n",
      "Epoch:     1500/   50000 cost: 0.010347, best: 0.437766\n",
      "Training Acc: 0.694, Test Acc: 0.281\n",
      "Epoch:     2000/   50000 cost: 0.018805, best: 0.617493\n",
      "Training Acc: 0.219, Test Acc: 0.110\n",
      "Epoch:     2500/   50000 cost: 0.013516, best: 0.617493\n",
      "Training Acc: 0.579, Test Acc: 0.147\n",
      "Epoch:     3000/   50000 cost: 0.007175, best: 0.617493\n",
      "Training Acc: 0.701, Test Acc: 0.227\n",
      "Epoch:     3500/   50000 cost: 0.005163, best: 0.617493\n",
      "Training Acc: 0.408, Test Acc: 0.108\n",
      "Epoch:     4000/   50000 cost: 0.006668, best: 0.617493\n",
      "Training Acc: 0.631, Test Acc: 0.181\n",
      "Epoch:     4500/   50000 cost: 0.002090, best: 0.617493\n",
      "Training Acc: 0.756, Test Acc: 0.225\n",
      "Epoch:     5000/   50000 cost: 0.004411, best: 0.617493\n",
      "Training Acc: 0.789, Test Acc: 0.203\n",
      "Epoch:     5500/   50000 cost: 0.005284, best: 0.617493\n",
      "Training Acc: 0.682, Test Acc: 0.119\n",
      "Epoch:     6000/   50000 cost: 0.004154, best: 0.617493\n",
      "Training Acc: 0.548, Test Acc: 0.216\n",
      "Epoch:     6500/   50000 cost: 0.002671, best: 0.617493\n",
      "Training Acc: 0.613, Test Acc: 0.256\n",
      "Epoch:     7000/   50000 cost: 0.003999, best: 0.617493\n",
      "Training Acc: 0.759, Test Acc: 0.259\n",
      "Epoch:     7500/   50000 cost: 0.011297, best: 0.617493\n",
      "Training Acc: 0.850, Test Acc: 0.265\n",
      "\n",
      "Early stopping.\n",
      "Epoch:     7657/   50000 cost: 0.005794, best: 0.617493\n",
      "Training Acc: 0.673, Test Acc: 0.243\n",
      "Optimization Finished\n",
      "training time: 270.94 sec.\n",
      "INFO:tensorflow:Restoring parameters from ./models/best_trained_BN_FC_Ion_closed_F4.ckpt\n",
      "Training Accuracy: 0.55470943\n",
      "Test Accuracy: 0.6174934\n",
      "Epoch:        0/   50000 cost: 5.070604, best: 0.000000\n",
      "Training Acc: -48.756, Test Acc: -115.787\n"
     ]
    },
    {
     "name": "stdout",
     "output_type": "stream",
     "text": [
      "Epoch:      500/   50000 cost: 0.061873, best: 0.000000\n",
      "Training Acc: 0.475, Test Acc: 0.353\n",
      "Epoch:     1000/   50000 cost: 0.034169, best: 0.000000\n",
      "Training Acc: 0.746, Test Acc: 0.613\n",
      "Epoch:     1500/   50000 cost: 0.030097, best: 0.832681\n",
      "Training Acc: 0.897, Test Acc: 0.672\n",
      "Epoch:     2000/   50000 cost: 0.030831, best: 0.846946\n",
      "Training Acc: 0.803, Test Acc: 0.416\n",
      "Epoch:     2500/   50000 cost: 0.007555, best: 0.846946\n",
      "Training Acc: 0.873, Test Acc: 0.689\n",
      "Epoch:     3000/   50000 cost: 0.018699, best: 0.846946\n",
      "Training Acc: 0.914, Test Acc: 0.702\n",
      "Epoch:     3500/   50000 cost: 0.021143, best: 0.846946\n",
      "Training Acc: 0.881, Test Acc: 0.688\n",
      "Epoch:     4000/   50000 cost: 0.003824, best: 0.846946\n",
      "Training Acc: 0.930, Test Acc: 0.708\n",
      "Epoch:     4500/   50000 cost: 0.007668, best: 0.846946\n",
      "Training Acc: 0.925, Test Acc: 0.708\n",
      "Epoch:     5000/   50000 cost: 0.002259, best: 0.846946\n",
      "Training Acc: 0.891, Test Acc: 0.740\n",
      "Epoch:     5500/   50000 cost: 0.004153, best: 0.846946\n",
      "Training Acc: 0.893, Test Acc: 0.751\n",
      "Epoch:     6000/   50000 cost: 0.002328, best: 0.846946\n",
      "Training Acc: 0.967, Test Acc: 0.739\n",
      "Epoch:     6500/   50000 cost: 0.003427, best: 0.846946\n",
      "Training Acc: 0.932, Test Acc: 0.704\n",
      "Epoch:     7000/   50000 cost: 0.001804, best: 0.846946\n",
      "Training Acc: 0.945, Test Acc: 0.744\n",
      "Epoch:     7500/   50000 cost: 0.002128, best: 0.846946\n",
      "Training Acc: 0.964, Test Acc: 0.720\n",
      "\n",
      "Early stopping.\n",
      "Epoch:     7721/   50000 cost: 0.001712, best: 0.846946\n",
      "Training Acc: 0.909, Test Acc: 0.740\n",
      "Optimization Finished\n",
      "training time: 274.25 sec.\n",
      "INFO:tensorflow:Restoring parameters from ./models/best_trained_BN_FC_Ion_closed_F5.ckpt\n",
      "Training Accuracy: 0.9212608\n",
      "Test Accuracy: 0.84694636\n",
      "All fold vaildation were ended.\n"
     ]
    }
   ],
   "source": [
    "results_list = []\n",
    "label_list = []\n",
    "for FOLD in range(N_FOLD):\n",
    "    global_step = tf.Variable(0, trainable=False)    \n",
    "    LEARNING_RATE =  tf.train.exponential_decay(0.005, global_step, 1500, 0.96, staircase=True)\n",
    "    EXPLANATION = EXPLANATION_+ \"_F\" + str(FOLD+1)\n",
    "    train_input, train_label = train_inputs[FOLD], train_labels[FOLD]\n",
    "    test_input, test_label = test_inputs[FOLD], test_labels[FOLD]\n",
    "    \n",
    "    # tf Graph input\n",
    "    x = tf.placeholder(\"float\", [None, n_features], name = \"F\"+str(FOLD+1)+\"input\")\n",
    "    y = tf.placeholder(\"float\", [None, n_output], name = \"F\"+str(FOLD+1)+\"output_1\")\n",
    "    phase = tf.placeholder(tf.bool, name='phase')\n",
    "\n",
    "    # Construct model\n",
    "    shared_layer_init = shared_layer(x, N_HIDDEN, phase)\n",
    "    pred_1 = Task_specific_FC(shared_layer_init, N_HIDDEN, phase, 1)\n",
    "    pred_2 = Task_specific_FC(shared_layer_init, N_HIDDEN, phase, 2)\n",
    "    pred_3 = Task_specific_FC(shared_layer_init, N_HIDDEN, phase, 3)\n",
    "    pred_4 = Task_specific_FC(shared_layer_init, N_HIDDEN, phase, 4)\n",
    "    pred_5 = Task_specific_FC(shared_layer_init, N_HIDDEN, phase, 5)\n",
    "    pred_6 = Task_specific_FC(shared_layer_init, N_HIDDEN, phase, 6)\n",
    "    pred = tf.concat([pred_1, pred_2, pred_3, pred_4, pred_5, pred_6], axis=1)\n",
    "\n",
    "    # Define loss and optimizer\n",
    "    cost_1 = tf.losses.mean_squared_error(labels=tf.reshape(y[:, 0], [-1, 1]), predictions=pred_1)\n",
    "    cost_2 = tf.losses.mean_squared_error(labels=tf.reshape(y[:, 1], [-1, 1]), predictions=pred_2)\n",
    "    cost_3 = tf.losses.mean_squared_error(labels=tf.reshape(y[:, 2], [-1, 1]), predictions=pred_3)\n",
    "    cost_4 = tf.losses.mean_squared_error(labels=tf.reshape(y[:, 3], [-1, 1]), predictions=pred_4)\n",
    "    cost_5 = tf.losses.mean_squared_error(labels=tf.reshape(y[:, 4], [-1, 1]), predictions=pred_5)\n",
    "    cost_6 = tf.losses.mean_squared_error(labels=tf.reshape(y[:, 5], [-1, 1]), predictions=pred_6)\n",
    "    joint_cost = cost_1 + cost_2 + cost_3 + cost_4 + cost_5 + cost_6\n",
    "\n",
    "    update_ops = tf.get_collection(tf.GraphKeys.UPDATE_OPS)\n",
    "    optimizer_ = tf.train.AdamOptimizer(learning_rate=LEARNING_RATE, epsilon=EPSILON)\n",
    "    with tf.control_dependencies(update_ops):\n",
    "        #optimizer = optimizer_.minimize(joint_cost, global_step=global_step)\n",
    "        op1 = optimizer_.minimize(cost_1, global_step=global_step)\n",
    "        op2 = optimizer_.minimize(cost_2, global_step=global_step)\n",
    "        op3 = optimizer_.minimize(cost_3, global_step=global_step)\n",
    "        op4 = optimizer_.minimize(cost_4, global_step=global_step)\n",
    "        op5 = optimizer_.minimize(cost_5, global_step=global_step)\n",
    "        op6 = optimizer_.minimize(cost_6, global_step=global_step)\n",
    "\n",
    "    # Accuracy\n",
    "    total_error = tf.reduce_sum(tf.square(tf.subtract(y, tf.reduce_mean(y))))\n",
    "    unexplained_error = tf.reduce_sum(tf.square(tf.subtract(y, pred)))\n",
    "    R_squared = tf.subtract(1., tf.divide(unexplained_error, total_error))\n",
    "\n",
    "    accuracy = R_squared\n",
    "    # Initializing the variables\n",
    "    init = tf.global_variables_initializer()\n",
    "    saver = tf.train.Saver()\n",
    "\n",
    "    # Do some optimizations\n",
    "    sess = tf.Session(config=tf.ConfigProto(gpu_options=tf.GPUOptions(allow_growth =True)))\n",
    "    sess.run(init)\n",
    "\n",
    "    # Launch the graph\n",
    "    ex_acc = 0\n",
    "    best_acc = 0\n",
    "    early_stop_buffer = 0\n",
    "    # Keep training until reach max iterations\n",
    "    start = time.time()\n",
    "\n",
    "    for EPOCH in range(TRAINING_EPOCHS):\n",
    "        \n",
    "        batch_x, batch_y = resample(train_input, train_label, n_samples = BATCH_SIZE, replace = False)\n",
    "        loss = sess.run(joint_cost, feed_dict={x: batch_x, y: batch_y, phase: 1})\n",
    "        \n",
    "        op_set = [sess.run(op1, feed_dict={x: batch_x, y: batch_y, phase: 1}),\n",
    "                  sess.run(op2, feed_dict={x: batch_x, y: batch_y, phase: 1}),\n",
    "                  sess.run(op3, feed_dict={x: batch_x, y: batch_y, phase: 1}),\n",
    "                  sess.run(op4, feed_dict={x: batch_x, y: batch_y, phase: 1}),\n",
    "                  sess.run(op5, feed_dict={x: batch_x, y: batch_y, phase: 1}),\n",
    "                  sess.run(op6, feed_dict={x: batch_x, y: batch_y, phase: 1})]\n",
    "        op_selector = int((N_TASKS)*np.random.rand())\n",
    "        op_set[op_selector]\n",
    "        \n",
    "        test_acc = sess.run(accuracy, feed_dict={x: test_input, y: test_label, phase: 0})\n",
    "        \n",
    "        \n",
    "        if test_acc > ex_acc:\n",
    "            if EPOCH <= SHIELD:\n",
    "                pass\n",
    "            elif test_acc > best_acc:\n",
    "                bestpath = \"./models/best_trained_\" + EXPLANATION + \".ckpt\"\n",
    "                save_path = saver.save(sess, bestpath)\n",
    "                best_acc = test_acc\n",
    "                early_stop_buffer = 0\n",
    "        else:\n",
    "            early_stop_buffer += 1\n",
    "\n",
    "        if early_stop_buffer >= LIMIT:\n",
    "            print (\"\\nEarly stopping.\")\n",
    "            break     \n",
    "\n",
    "        ex_acc = test_acc\n",
    "        if EPOCH % DISPLAY_STEP == 0:\n",
    "            print (\"Epoch: %8d/%8d cost: %.6f, best: %.6f\" % (EPOCH, TRAINING_EPOCHS, loss, best_acc))\n",
    "            train_acc = sess.run(accuracy, feed_dict={x: train_input, y: train_label, phase: 0})\n",
    "            test_acc = sess.run(accuracy, feed_dict={x: test_input, y: test_label, phase: 0})\n",
    "            print (\"Training Acc: %.3f, Test Acc: %.3f\" % (train_acc, test_acc))\n",
    "\n",
    "\n",
    "    print (\"Epoch: %8d/%8d cost: %.6f, best: %.6f\" % (EPOCH+1, TRAINING_EPOCHS, loss, best_acc))\n",
    "    train_acc = sess.run(accuracy, feed_dict={x: train_input, y: train_label, phase: 0})\n",
    "    test_acc = sess.run(accuracy, feed_dict={x: test_input, y: test_label, phase: 0})\n",
    "    print (\"Training Acc: %.3f, Test Acc: %.3f\" % (train_acc,test_acc))\n",
    "\n",
    "    end = time.time() - start\n",
    "    print (\"Optimization Finished\\ntraining time: %.2f sec.\" % (end))\n",
    "    \n",
    "    #Choose best model\n",
    "    bestpath = \"./models/best_trained_\" + EXPLANATION + \".ckpt\"\n",
    "    saver.restore(sess, bestpath)\n",
    "\n",
    "    print (\"Training Accuracy:\", sess.run(accuracy, feed_dict={x: train_input, y: train_label, phase: 0}))\n",
    "    print (\"Test Accuracy:\", sess.run(accuracy, feed_dict={x: test_input, y: test_label, phase: 0}))\n",
    "\n",
    "    estimation_result = sess.run(pred,feed_dict={x: test_input, phase: 0})\n",
    "    estimation_result = pd.DataFrame(estimation_result, index=test_label.index, columns=test_label.columns)\n",
    "    results_list.append(estimation_result)\n",
    "    label_list.append(test_label)\n",
    "\n",
    "    tf.reset_default_graph()\n",
    "    sess.close()\n",
    "    \n",
    "print(\"All fold vaildation were ended.\")"
   ]
  },
  {
   "cell_type": "markdown",
   "metadata": {},
   "source": [
    "## Result analysis"
   ]
  },
  {
   "cell_type": "markdown",
   "metadata": {},
   "source": [
    "### Restoring from preprocess"
   ]
  },
  {
   "cell_type": "code",
   "execution_count": 17,
   "metadata": {},
   "outputs": [],
   "source": [
    "final_result = pd.concat(results_list).sort_index()"
   ]
  },
  {
   "cell_type": "code",
   "execution_count": 18,
   "metadata": {},
   "outputs": [],
   "source": [
    "final_result = ((LABELMAXS - LABELMINS) * final_result) + LABELMINS\n",
    "restored_label = ((LABELMAXS - LABELMINS) * ion_label) + LABELMINS"
   ]
  },
  {
   "cell_type": "markdown",
   "metadata": {},
   "source": [
    "### One to one graph"
   ]
  },
  {
   "cell_type": "code",
   "execution_count": 19,
   "metadata": {
    "scrolled": false
   },
   "outputs": [
    {
     "name": "stdout",
     "output_type": "stream",
     "text": [
      "R2 score:-0.651\n",
      "MSE:6.208\n",
      "R2 score:-0.900\n",
      "MSE:44.578\n",
      "R2 score:-0.781\n",
      "MSE:5.806\n",
      "R2 score:-0.910\n",
      "MSE:13.646\n",
      "R2 score:-0.377\n",
      "MSE:35.485\n",
      "R2 score:-0.863\n",
      "MSE:0.331\n"
     ]
    },
    {
     "data": {
      "image/png": "[encoded data removed]",
      "text/plain": [
       "<Figure size 453.543x340.157 with 1 Axes>"
      ]
     },
     "metadata": {},
     "output_type": "display_data"
    }
   ],
   "source": [
    "# x_linear = np.arange(-1,2)\n",
    "# y_linear = x_linear\n",
    "\n",
    "# one_to_one_line = plt.plot(x_linear, y_linear,'k--', zorder=1)\n",
    "for _ in range(6):\n",
    "    estimation_scatter1 = plt.scatter(restored_label.iloc[:, _], final_result.iloc[:, _],\n",
    "                                 s=MARKER_SIZE, c=cmap[_], label = restored_label.columns[_], zorder=2)\n",
    "\n",
    "    print(\"R2 score:%.3f\" % r2_score(restored_label.iloc[:, _], final_result.iloc[:, _]))\n",
    "    print(\"MSE:%.3f\" % mean_squared_error(restored_label.iloc[:, _], final_result.iloc[:, _]))\n",
    "#plt.axis([-0.1, 0.7, -0.1, 0.7])\n",
    "plt.xlabel(\"Measured fresh weight (kg)\")\n",
    "plt.ylabel(\"Estimated fresh weight (kg)\")\n",
    "plt.grid(True)\n",
    "plt.show()\n"
   ]
  },
  {
   "cell_type": "code",
   "execution_count": 21,
   "metadata": {},
   "outputs": [
    {
     "data": {
      "text/plain": [
       "-0.747136157838665"
      ]
     },
     "execution_count": 21,
     "metadata": {},
     "output_type": "execute_result"
    }
   ],
   "source": [
    "r2_score(restored_label, final_result)"
   ]
  },
  {
   "cell_type": "code",
   "execution_count": 22,
   "metadata": {},
   "outputs": [
    {
     "data": {
      "text/plain": [
       "4.204240675331595"
      ]
     },
     "execution_count": 22,
     "metadata": {},
     "output_type": "execute_result"
    }
   ],
   "source": [
    "np.sqrt(mean_squared_error(restored_label, final_result))"
   ]
  }
 ],
 "metadata": {
  "anaconda-cloud": {},
  "kernelspec": {
   "display_name": "Python 3",
   "language": "python",
   "name": "python3"
  },
  "language_info": {
   "codemirror_mode": {
    "name": "ipython",
    "version": 3
   },
   "file_extension": ".py",
   "mimetype": "text/x-python",
   "name": "python",
   "nbconvert_exporter": "python",
   "pygments_lexer": "ipython3",
   "version": "3.5.2"
  }
 },
 "nbformat": 4,
 "nbformat_minor": 1
}
