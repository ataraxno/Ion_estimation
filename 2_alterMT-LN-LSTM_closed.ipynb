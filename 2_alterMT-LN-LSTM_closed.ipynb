{
 "cells": [
  {
   "cell_type": "markdown",
   "metadata": {},
   "source": [
    "## Package preparation"
   ]
  },
  {
   "cell_type": "code",
   "execution_count": 1,
   "metadata": {
    "scrolled": true
   },
   "outputs": [
    {
     "name": "stderr",
     "output_type": "stream",
     "text": [
      "/usr/local/lib/python3.5/dist-packages/h5py/__init__.py:36: FutureWarning: Conversion of the second argument of issubdtype from `float` to `np.floating` is deprecated. In future, it will be treated as `np.float64 == np.dtype(float).type`.\n",
      "  from ._conv import register_converters as _register_converters\n"
     ]
    },
    {
     "name": "stdout",
     "output_type": "stream",
     "text": [
      "Package is ready.\n"
     ]
    }
   ],
   "source": [
    "import os\n",
    "import time\n",
    "\n",
    "import numpy as np\n",
    "import pandas as pd\n",
    "from sklearn.utils import shuffle, resample\n",
    "from sklearn.metrics import mean_squared_error, r2_score\n",
    "\n",
    "import tensorflow as tf\n",
    "from tensorflow.contrib import rnn\n",
    "\n",
    "import matplotlib\n",
    "import matplotlib.pyplot as plt\n",
    "%matplotlib inline\n",
    "\n",
    "print(\"Package is ready.\")"
   ]
  },
  {
   "cell_type": "code",
   "execution_count": 2,
   "metadata": {},
   "outputs": [],
   "source": [
    "matplotlib.rcParams['figure.figsize'] = ((8/2.54)*2, (6/2.54)*2)\n",
    "plt.rcParams[\"font.family\"] = \"arial\"\n",
    "plt.rcParams[\"font.serif\"] = \"arial\"\n",
    "plt.rcParams[\"mathtext.default\"] = \"rm\"\n",
    "plt.rcParams.update({'font.size': 12})\n",
    "MARKER_SIZE = 2\n",
    "cmap_m = [\"#f4a6ad\", \"#f6957e\", \"#fccfa2\", \"#8de7be\", \"#86d6f2\", \"#24a9e4\", \"#b586e0\", \"#d7f293\"]\n",
    "cmap = [\"#e94d5b\", \"#ef4d28\", \"#f9a54f\", \"#25b575\", \"#1bb1e7\", \"#1477a2\", \"#a662e5\", \"#c2f442\"]"
   ]
  },
  {
   "cell_type": "code",
   "execution_count": 3,
   "metadata": {},
   "outputs": [
    {
     "name": "stdout",
     "output_type": "stream",
     "text": [
      "Ion_closed_altMT_LN_I10 min_T1008\n"
     ]
    }
   ],
   "source": [
    "TIME_STEPS = 1008\n",
    "OUTPUT_SIZE = 1 # next 6h\n",
    "N_FOLD = 5\n",
    "N_TASKS = 6\n",
    "\n",
    "INTERVAL = \"10 min\"\n",
    "\n",
    "EX_PRED = 0\n",
    "EXPLANATION_ = \"Ion_closed_altMT_LN\" + \"_I\" + INTERVAL + \"_T\" + str(TIME_STEPS)\n",
    "print(EXPLANATION_)"
   ]
  },
  {
   "cell_type": "markdown",
   "metadata": {},
   "source": [
    "## Data preparation"
   ]
  },
  {
   "cell_type": "code",
   "execution_count": 4,
   "metadata": {},
   "outputs": [],
   "source": [
    "ion_label = pd.read_excel(\"../data/SW_Ion/Ion concentration_meq_20171109-20180426.xlsx\", skiprows=1, index_col=\"date\")"
   ]
  },
  {
   "cell_type": "code",
   "execution_count": 5,
   "metadata": {
    "scrolled": false
   },
   "outputs": [],
   "source": [
    "ion_label = ion_label[~(ion_label.index < '2018-01-12')]\n",
    "#ion_label.drop([\"N\"], axis=1, inplace=True)\n",
    "ion_label.drop([columns for columns in ion_label.columns if \"Unnamed:\" in columns], axis= 1, inplace=True)\n",
    "ion_label.drop([columns for columns in ion_label.columns if \".1\" in columns], axis= 1, inplace=True)\n",
    "ion_label.drop([columns for columns in ion_label.columns if \".2\" in columns], axis= 1, inplace=True)\n",
    "ion_label.drop([columns for columns in ion_label.columns if \".3\" in columns], axis= 1, inplace=True)\n",
    "ion_label.dropna(inplace=True)\n",
    "#ion_label.drop([pd.Timestamp(\"2018-04-23\"), pd.Timestamp(\"2018-04-12\"), pd.Timestamp(\"2018-04-05\")], axis=0, inplace=True)\n",
    "ion_label.drop([pd.Timestamp(\"2018-04-13\")], axis=0, inplace=True)"
   ]
  },
  {
   "cell_type": "code",
   "execution_count": 6,
   "metadata": {},
   "outputs": [],
   "source": [
    "ion_label.index += pd.Timedelta(\"16h\")"
   ]
  },
  {
   "cell_type": "code",
   "execution_count": 7,
   "metadata": {
    "scrolled": true
   },
   "outputs": [],
   "source": [
    "ion_label = ion_label.sample(frac=1.0)"
   ]
  },
  {
   "cell_type": "code",
   "execution_count": 8,
   "metadata": {},
   "outputs": [],
   "source": [
    "raw_closed = pd.read_csv(\"./results/closed_data.csv\", index_col=\"TIMESTAMP\")\n",
    "raw_closed.index = pd.DatetimeIndex(raw_closed.index)\n",
    "raw_closed = raw_closed[np.abs(raw_closed-raw_closed.mean())<=(3*raw_closed.std())]\n",
    "raw_closed[\"RootTemp(1)\"][0] = 20\n",
    "raw_closed.drop([\"ECS(3)\", \"InjDrgVR(3)\", \"DrgDaily(3)\", \"DrgV(3)\"], axis=1, inplace=True)"
   ]
  },
  {
   "cell_type": "code",
   "execution_count": 9,
   "metadata": {},
   "outputs": [],
   "source": [
    "raw_closed.interpolate(\"linear\", inplace=True)\n",
    "\n",
    "# raw_closed.index = (raw_closed.index).round(INTERVAL)\n",
    "# raw_closed = raw_closed.groupby(raw_closed.index).mean()"
   ]
  },
  {
   "cell_type": "code",
   "execution_count": 10,
   "metadata": {},
   "outputs": [],
   "source": [
    "MAXS = raw_closed.max()\n",
    "MINS = raw_closed.min()\n",
    "LABELMAXS = ion_label.max()\n",
    "LABELMINS = ion_label.min()"
   ]
  },
  {
   "cell_type": "code",
   "execution_count": 11,
   "metadata": {},
   "outputs": [],
   "source": [
    "raw_closed = (raw_closed - MINS) / (MAXS - MINS)\n",
    "ion_label = (ion_label - LABELMINS) / (LABELMAXS - LABELMINS)"
   ]
  },
  {
   "cell_type": "code",
   "execution_count": 12,
   "metadata": {},
   "outputs": [],
   "source": [
    "env_input = []\n",
    "for index in ion_label.index:\n",
    "    last_time = index\n",
    "    first_time = last_time - pd.Timedelta(INTERVAL)*(TIME_STEPS-1)\n",
    "    \n",
    "    TRAIN_RANGE = pd.date_range(first_time, last_time, freq=INTERVAL)\n",
    "    env_input.append(raw_closed.loc[TRAIN_RANGE])"
   ]
  },
  {
   "cell_type": "code",
   "execution_count": 13,
   "metadata": {},
   "outputs": [],
   "source": [
    "for i in range(len(env_input)):\n",
    "    env_input[i] = env_input[i].values\n",
    "    \n",
    "env_input = np.array(env_input)"
   ]
  },
  {
   "cell_type": "code",
   "execution_count": 14,
   "metadata": {
    "scrolled": true
   },
   "outputs": [
    {
     "data": {
      "text/plain": [
       "(51, 1008, 23)"
      ]
     },
     "execution_count": 14,
     "metadata": {},
     "output_type": "execute_result"
    }
   ],
   "source": [
    "env_input.shape"
   ]
  },
  {
   "cell_type": "code",
   "execution_count": 15,
   "metadata": {},
   "outputs": [],
   "source": [
    "rnn_inputs = []\n",
    "rnn_labels = []\n",
    "pred_inputs = []\n",
    "pred_labels = []\n",
    "\n",
    "N_TEST = int(ion_label.shape[0]/N_FOLD)\n",
    "\n",
    "for i in range(N_FOLD-1):\n",
    "    pred_inputs.append(env_input[i*N_TEST:(i+1)*N_TEST, :, :])\n",
    "    pred_labels.append(ion_label.iloc[i*N_TEST:(i+1)*N_TEST, :])\n",
    "    \n",
    "    rnn_inputs.append(np.delete(env_input, np.arange(i*N_TEST, (i+1)*N_TEST), 0))\n",
    "    rnn_labels.append(ion_label.drop(ion_label.index[np.arange(i*N_TEST, (i+1)*N_TEST)], axis=0))\n",
    "\n",
    "\n",
    "\n",
    "pred_inputs.append(env_input[(N_FOLD-1)*N_TEST:, :, :])\n",
    "pred_labels.append(ion_label.iloc[(N_FOLD-1)*N_TEST:, :])\n",
    "\n",
    "rnn_inputs.append(env_input[:(N_FOLD-1)*N_TEST:, :, :])\n",
    "rnn_labels.append(ion_label.iloc[:(N_FOLD-1)*N_TEST:, :])"
   ]
  },
  {
   "cell_type": "code",
   "execution_count": 16,
   "metadata": {},
   "outputs": [],
   "source": [
    "def variable_summaries(var):\n",
    "    with tf.name_scope('summaries'):\n",
    "        mean = tf.reduce_mean(var)\n",
    "        tf.summary.scalar('mean', mean)\n",
    "        with tf.name_scope('stddev'):\n",
    "            stddev = tf.sqrt(tf.reduce_mean(tf.square(var - mean)))\n",
    "        tf.summary.scalar('stddev', stddev)\n",
    "        tf.summary.scalar('max', tf.reduce_max(var))\n",
    "        tf.summary.scalar('min', tf.reduce_min(var))\n",
    "        tf.summary.histogram('histogram', var)"
   ]
  },
  {
   "cell_type": "markdown",
   "metadata": {},
   "source": [
    "## Network"
   ]
  },
  {
   "cell_type": "code",
   "execution_count": 17,
   "metadata": {},
   "outputs": [],
   "source": [
    "def FC(x, size, scope):\n",
    "    return tf.contrib.layers.fully_connected(x, size, activation_fn=None, scope=scope)\n",
    "\n",
    "def BN_FC(x, n_hidden, phase, scope):\n",
    "    with tf.variable_scope(scope):\n",
    "        h1 = tf.contrib.layers.fully_connected(x, n_hidden, activation_fn=None, scope='FC')\n",
    "        h2 = tf.layers.batch_normalization(h1, training=phase)\n",
    "        return tf.nn.relu(h2, 'relu')"
   ]
  },
  {
   "cell_type": "code",
   "execution_count": null,
   "metadata": {
    "scrolled": false
   },
   "outputs": [
    {
     "name": "stdout",
     "output_type": "stream",
     "text": [
      "1 fold start.\n",
      "Network ready\n"
     ]
    }
   ],
   "source": [
    "accuracies = []\n",
    "for i in range(N_FOLD):\n",
    "    print(\"%d fold start.\" % (i+1))\n",
    "\n",
    "    pred_input = pred_inputs[i]\n",
    "    pred_label = pred_labels[i]\n",
    "    \n",
    "    rnn_input = rnn_inputs[i]\n",
    "    rnn_label = rnn_labels[i]\n",
    "    \n",
    "    # Parameters\n",
    "    EXPLANATION = EXPLANATION_+ \"_F\" + str(i+1)\n",
    "    LIMIT = 3002\n",
    "    SHIELD = 1000\n",
    "    \n",
    "    global_step = tf.Variable(0, trainable=False)\n",
    "    LEARNING_RATE = tf.train.exponential_decay(0.04, global_step, 3000, 0.96, staircase=True)\n",
    "    EPSILON = 0.0001\n",
    "    TRAINING_EPOCHS = 50000\n",
    "    N_HIDDEN = 64\n",
    "    N_FC_HIDDEN = 64\n",
    "    DROP_PROB = 0.9\n",
    "    BATCH_SIZE = 16\n",
    "    DISPLAY_STEP = 500\n",
    "    N_INPUT = env_input[0].shape[1]\n",
    "    N_OUTPUT = ion_label.shape[1]\n",
    "\n",
    "    # tf Graph input\n",
    "    x = tf.placeholder(\"float\", [None, TIME_STEPS, N_INPUT])\n",
    "    y = tf.placeholder(\"float\", [None, N_OUTPUT])\n",
    "    drop_prob = tf.placeholder(\"float\")\n",
    "    phase = tf.placeholder(tf.bool)\n",
    "    \n",
    "    # Define weights\n",
    "    weights = tf.get_variable(\"F\"+ str(i+1) + \"wgt\", shape=[N_HIDDEN, N_OUTPUT], initializer=tf.contrib.layers.xavier_initializer())\n",
    "    biases = tf.get_variable(\"F\"+ str(i+1) + \"bias\", shape=[N_OUTPUT], initializer=tf.contrib.layers.xavier_initializer())\n",
    "    variable_summaries(weights)\n",
    "    variable_summaries(biases)\n",
    "\n",
    "    def RNN(x, weights, biases, drop_prob):\n",
    "\n",
    "        x = tf.unstack(x, TIME_STEPS, 1)\n",
    "        \n",
    "        cell = rnn.LayerNormBasicLSTMCell(N_HIDDEN, dropout_keep_prob=drop_prob, reuse=tf.AUTO_REUSE)\n",
    "        outputs, states = rnn.static_rnn(cell, x, dtype=tf.float32)\n",
    "        \n",
    "        activation = tf.matmul(outputs[-1], weights) + biases\n",
    "\n",
    "        return activation\n",
    "    \n",
    "\n",
    "    def Task_specific_FC(x, n_hidden, phase, tasknum):\n",
    "        h1 = BN_FC(x, n_hidden, phase, \"task\" + str(tasknum) + \"_layer1\")\n",
    "        h2 = BN_FC(h1, n_hidden, phase, \"task\" + str(tasknum) + \"_layer2\")\n",
    "        \n",
    "        return FC(h2, 1, \"task\" + str(tasknum) + \"_out\")\n",
    "\n",
    "    print(\"Network ready\")\n",
    "    # Construct model\n",
    "    shared_layer = RNN(x, weights, biases, drop_prob)\n",
    "    pred_1 = Task_specific_FC(shared_layer, N_FC_HIDDEN, phase, 1)\n",
    "    pred_2 = Task_specific_FC(shared_layer, N_FC_HIDDEN, phase, 2)\n",
    "    pred_3 = Task_specific_FC(shared_layer, N_FC_HIDDEN, phase, 3)\n",
    "    pred_4 = Task_specific_FC(shared_layer, N_FC_HIDDEN, phase, 4)\n",
    "    pred_5 = Task_specific_FC(shared_layer, N_FC_HIDDEN, phase, 5)\n",
    "    pred_6 = Task_specific_FC(shared_layer, N_FC_HIDDEN, phase, 6)\n",
    "    pred = tf.concat([pred_1, pred_2, pred_3, pred_4, pred_5, pred_6], axis=1)\n",
    "\n",
    "\n",
    "    # Define loss and optimizer\n",
    "    #cost = tf.reduce_sum(tf.square(tf.subtract(pred, y)))\n",
    "    cost_1 = tf.losses.mean_squared_error(labels=tf.reshape(y[:, 0], [-1, 1]), predictions=pred_1)\n",
    "    cost_2 = tf.losses.mean_squared_error(labels=tf.reshape(y[:, 1], [-1, 1]), predictions=pred_2)\n",
    "    cost_3 = tf.losses.mean_squared_error(labels=tf.reshape(y[:, 2], [-1, 1]), predictions=pred_3)\n",
    "    cost_4 = tf.losses.mean_squared_error(labels=tf.reshape(y[:, 3], [-1, 1]), predictions=pred_4)\n",
    "    cost_5 = tf.losses.mean_squared_error(labels=tf.reshape(y[:, 4], [-1, 1]), predictions=pred_5)\n",
    "    cost_6 = tf.losses.mean_squared_error(labels=tf.reshape(y[:, 5], [-1, 1]), predictions=pred_6)\n",
    "    joint_cost = cost_1 + cost_2 + cost_3 + cost_4 + cost_5 + cost_6\n",
    "    update_ops = tf.get_collection(tf.GraphKeys.UPDATE_OPS)\n",
    "    optimizer_ = tf.train.AdamOptimizer(learning_rate=LEARNING_RATE, epsilon=EPSILON)\n",
    "    with tf.control_dependencies(update_ops):\n",
    "        #optimizer = optimizer_.minimize(joint_cost, global_step=global_step)\n",
    "        op1 = optimizer_.minimize(cost_1, global_step=global_step)\n",
    "        op2 = optimizer_.minimize(cost_2, global_step=global_step)\n",
    "        op3 = optimizer_.minimize(cost_3, global_step=global_step)\n",
    "        op4 = optimizer_.minimize(cost_4, global_step=global_step)\n",
    "        op5 = optimizer_.minimize(cost_5, global_step=global_step)\n",
    "        op6 = optimizer_.minimize(cost_6, global_step=global_step)\n",
    "    #tf.summary.scalar('cost', joint_cost)\n",
    "    \n",
    "    # Evaluate model\n",
    "    total_error = tf.reduce_sum(tf.square(tf.subtract(y, tf.reduce_mean(y))))\n",
    "    unexplained_error = tf.reduce_sum(tf.square(tf.subtract(y, pred)))\n",
    "    R_squared = tf.subtract(1., tf.divide(unexplained_error, total_error))\n",
    "    \n",
    "    accuracy = R_squared\n",
    "    #tf.summary.scalar('accuracy', accuracy)\n",
    "    \n",
    "    # Initializing the variables\n",
    "    init = tf.global_variables_initializer()\n",
    "    saver = tf.train.Saver()\n",
    "    merged = tf.summary.merge_all()\n",
    "\n",
    "    # Do some optimizations\n",
    "    sess = tf.Session(config=tf.ConfigProto(gpu_options=tf.GPUOptions(allow_growth =True)))\n",
    "    #train_writer = tf.summary.FileWriter(\"./summary/train/closed_\" + \"F\"+ str(i+1), sess.graph)\n",
    "    #test_writer = tf.summary.FileWriter(\"./summary/test/closed_\" + \"F\"+ str(i+1))\n",
    "    sess.run(init)\n",
    "    print(\"Session start\")\n",
    "    # Launch the graph\n",
    "    best_pred_acc = EX_PRED\n",
    "    ex_pred_acc = 0\n",
    "    early_stop_buffer = 0\n",
    "    # Keep training until reach max iterations\n",
    "    start = time.time()\n",
    "    print(\"start epoch.\")\n",
    "    for EPOCH in range(TRAINING_EPOCHS):\n",
    "\n",
    "        batch_x, batch_y = resample(rnn_input, rnn_label, n_samples = BATCH_SIZE, replace = False)\n",
    "        cost_, summary, = sess.run([joint_cost, merged], feed_dict={x: batch_x, y: batch_y, drop_prob: DROP_PROB, phase: 1})\n",
    "        \n",
    "        op_set = [sess.run(op1, feed_dict={x: batch_x, y: batch_y, drop_prob: DROP_PROB, phase: 1}),\n",
    "                  sess.run(op2, feed_dict={x: batch_x, y: batch_y, drop_prob: DROP_PROB, phase: 1}),\n",
    "                  sess.run(op3, feed_dict={x: batch_x, y: batch_y, drop_prob: DROP_PROB, phase: 1}),\n",
    "                  sess.run(op4, feed_dict={x: batch_x, y: batch_y, drop_prob: DROP_PROB, phase: 1}),\n",
    "                  sess.run(op5, feed_dict={x: batch_x, y: batch_y, drop_prob: DROP_PROB, phase: 1}),\n",
    "                  sess.run(op6, feed_dict={x: batch_x, y: batch_y, drop_prob: DROP_PROB, phase: 1})]\n",
    "        op_selector = int((N_TASKS)*np.random.rand())\n",
    "        op_set[op_selector]\n",
    "        \n",
    "        #train_writer.add_summary(summary, EPOCH)\n",
    "        R2, summary, pred_acc = sess.run([pred, merged, accuracy], feed_dict={x: pred_input, y: pred_label, drop_prob: 1.0, phase: 0})\n",
    "        #test_writer.add_summary(summary, EPOCH)\n",
    "\n",
    "        if pred_acc > ex_pred_acc:\n",
    "            if EPOCH <= SHIELD:\n",
    "                pass\n",
    "            elif pred_acc > best_pred_acc:\n",
    "                bestpath = \"./models/best_trained_\" + EXPLANATION + \".ckpt\"\n",
    "                save_path = saver.save(sess, bestpath)\n",
    "                best_pred_acc = pred_acc\n",
    "                early_stop_buffer = 0\n",
    "                print (\"Epoch: %8d/%8d cost: %.6f, best: %.3f *Best value was replaced.\" % (EPOCH+1, TRAINING_EPOCHS, cost_, best_pred_acc))\n",
    "                for _ in range(N_TASKS):\n",
    "                    print(\"%.3f\"% r2_score(pred_label.iloc[:,_], R2[:,_]), end=\" \")\n",
    "                print(\"\")\n",
    "                print(r2_score(pred_label, R2))\n",
    "        else:\n",
    "            early_stop_buffer += 1\n",
    "\n",
    "            \n",
    "        if early_stop_buffer >= LIMIT:\n",
    "            print (\"\\nEarly stopping.\")\n",
    "            break\n",
    "        \n",
    "        ex_pred_acc = pred_acc        \n",
    "        if EPOCH % DISPLAY_STEP == 0:\n",
    "            print (\"Epoch: %8d/%8d cost: %.6f, best: %.3f\" % (EPOCH, TRAINING_EPOCHS, cost_, best_pred_acc))\n",
    "            train_acc = sess.run(accuracy, feed_dict={x: rnn_input, y: rnn_label, drop_prob: 1.0, phase: 0})\n",
    "            R2, pred_acc = sess.run([pred, accuracy], feed_dict={x: pred_input, y: pred_label, drop_prob: 1.0, phase: 0})\n",
    "            print (\"Training Acc: %.3f, Test Acc: %.3f\" % (train_acc, pred_acc))\n",
    "            for i in range(N_TASKS):\n",
    "                print(\"%.3f\"% r2_score(pred_label.iloc[:,i], R2[:,i]), end=\" \")\n",
    "            print(\"\")\n",
    "            print(r2_score(pred_label, R2))\n",
    "\n",
    "\n",
    "    print (\"Epoch: %8d/%8d cost: %.6f, best: %.3f\" % (EPOCH+1, TRAINING_EPOCHS, cost_, best_pred_acc))\n",
    "    train_acc = sess.run(accuracy, feed_dict={x: rnn_input, y: rnn_label, drop_prob: 1.0, phase: 0})\n",
    "    pred_acc = sess.run(accuracy, feed_dict={x: pred_input, y: pred_label, drop_prob: 1.0, phase: 0})\n",
    "    print (\"Training Acc: %.3f, Test Acc: %.3f\" % (train_acc,pred_acc))\n",
    "\n",
    "    end = time.time() - start\n",
    "    print (\"Optimization Finished\\ntraining time: %.2f sec.\" % (end))\n",
    "\n",
    "    #Choose best model\n",
    "    bestpath = \"./models/best_trained_\" + EXPLANATION + \".ckpt\"\n",
    "    saver.restore(sess, bestpath)\n",
    "    final_acc = sess.run(accuracy, feed_dict={x: pred_input, y: pred_label, drop_prob: 1.0, phase: 0})\n",
    "    accuracies.append(final_acc)\n",
    "\n",
    "    print (\"Test accuracy:\", final_acc)\n",
    "\n",
    "    prediction = sess.run(pred, feed_dict={x: pred_input, drop_prob: 1.0, phase: 0})\n",
    "    prediction = (prediction * (LABELMAXS.values - LABELMINS.values)) + LABELMINS.values\n",
    "    pred_label = (pred_label * (LABELMAXS.values - LABELMINS.values)) + LABELMINS.values\n",
    "    pred_df = pd.DataFrame(prediction)\n",
    "    pred_df.index = pred_label.index\n",
    "    pred_df.columns = [\"K\", \"Ca\", \"Mg\", \"S\", \"N\", \"P\"]\n",
    "\n",
    "    ion_results = pd.concat([pred_label, pred_df], axis = 1)\n",
    "    ion_results.to_csv(\"./results/results_\" + EXPLANATION + \".csv\")\n",
    "\n",
    "    x_linear = np.arange(min(ion_results.min()) - 5, max(ion_results.max()) + 15)\n",
    "    y_linear = x_linear\n",
    "\n",
    "\n",
    "    linear = plt.plot(x_linear, y_linear, \"k-\")\n",
    "    for _ in range(6):\n",
    "        scatter = plt.scatter(ion_results.iloc[:, _], ion_results.iloc[:, _+6])\n",
    "\n",
    "    plt.legend([\"1:1\", \"K\", \"Ca\", \"Mg\", \"S\", \"N\", \"P\"])\n",
    "    plt.xlabel(\"Measured ion concentration (meq)\")\n",
    "    plt.ylabel(\"Estimated ion concentration (meq)\")\n",
    "    plt.axis([-5, 50, -5, 50])\n",
    "    plt.show()\n",
    "    print(\"%d fold ended.\" % (i+1))\n",
    "    tf.reset_default_graph()\n",
    "    sess.close()\n",
    "\n",
    "print(\"All fold vaildation were ended.\")\n",
    "print(\"%d-fold validation accuracy: %.3f\" % (N_FOLD, sum(accuracies)/N_FOLD))"
   ]
  }
 ],
 "metadata": {
  "kernelspec": {
   "display_name": "Python 3",
   "language": "python",
   "name": "python3"
  },
  "language_info": {
   "codemirror_mode": {
    "name": "ipython",
    "version": 3
   },
   "file_extension": ".py",
   "mimetype": "text/x-python",
   "name": "python",
   "nbconvert_exporter": "python",
   "pygments_lexer": "ipython3",
   "version": "3.5.2"
  }
 },
 "nbformat": 4,
 "nbformat_minor": 2
}
