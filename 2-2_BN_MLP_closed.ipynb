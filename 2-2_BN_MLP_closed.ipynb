{
 "cells": [
  {
   "cell_type": "markdown",
   "metadata": {},
   "source": [
    "# Package"
   ]
  },
  {
   "cell_type": "code",
   "execution_count": 1,
   "metadata": {
    "scrolled": false
   },
   "outputs": [
    {
     "name": "stderr",
     "output_type": "stream",
     "text": [
      "/usr/local/lib/python3.5/dist-packages/h5py/__init__.py:36: FutureWarning: Conversion of the second argument of issubdtype from `float` to `np.floating` is deprecated. In future, it will be treated as `np.float64 == np.dtype(float).type`.\n",
      "  from ._conv import register_converters as _register_converters\n"
     ]
    },
    {
     "name": "stdout",
     "output_type": "stream",
     "text": [
      "Package is ready.\n"
     ]
    }
   ],
   "source": [
    "import os\n",
    "import time\n",
    "\n",
    "import numpy as np\n",
    "import pandas as pd\n",
    "from sklearn.utils import shuffle, resample\n",
    "from sklearn.metrics import mean_squared_error, r2_score\n",
    "from sklearn.model_selection import KFold\n",
    "\n",
    "import tensorflow as tf\n",
    "\n",
    "import matplotlib\n",
    "import matplotlib.pyplot as plt\n",
    "%matplotlib inline\n",
    "print(\"Package is ready.\")"
   ]
  },
  {
   "cell_type": "markdown",
   "metadata": {},
   "source": [
    "# Hyperparameters"
   ]
  },
  {
   "cell_type": "markdown",
   "metadata": {},
   "source": [
    "## Plotting parameters"
   ]
  },
  {
   "cell_type": "code",
   "execution_count": 2,
   "metadata": {},
   "outputs": [],
   "source": [
    "matplotlib.rcParams['figure.figsize'] = ((8/2.54)*2, (6/2.54)*2)\n",
    "plt.rcParams[\"font.family\"] = \"arial\"\n",
    "plt.rcParams[\"font.serif\"] = \"arial\"\n",
    "plt.rcParams[\"mathtext.default\"] = \"rm\"\n",
    "plt.rcParams.update({'font.size': 11})\n",
    "MARKER_SIZE = 15\n",
    "cmap_m = [\"#f4a6ad\", \"#f6957e\", \"#fccfa2\", \"#8de7be\", \"#86d6f2\", \"#24a9e4\", \"#b586e0\", \"#d7f293\"]\n",
    "cmap = [\"#e94d5b\", \"#ef4d28\", \"#f9a54f\", \"#25b575\", \"#1bb1e7\", \"#1477a2\", \"#a662e5\", \"#c2f442\"]\n",
    "\n",
    "plt.rcParams['axes.linewidth'] = 2\n",
    "plt.rcParams['lines.linewidth'] = 1.5\n",
    "plt.rcParams['xtick.major.width'] = 2\n",
    "plt.rcParams['xtick.minor.width'] = 1\n",
    "plt.rcParams['ytick.major.width'] = 2\n",
    "plt.rcParams['ytick.minor.width'] = 1"
   ]
  },
  {
   "cell_type": "markdown",
   "metadata": {},
   "source": [
    "## Training parameters"
   ]
  },
  {
   "cell_type": "code",
   "execution_count": 3,
   "metadata": {},
   "outputs": [],
   "source": [
    "#Constants\n",
    "N_TASKS = 6\n",
    "N_FOLD = 5\n",
    "EX_TEST = 0\n",
    "EXPLANATION_ = \"BN_FC_Ion_closed\"\n",
    "EPSILON = 0.0001\n",
    "TRAINING_EPOCHS = 50000\n",
    "BATCH_SIZE = 16\n",
    "DISPLAY_STEP = 500\n",
    "\n",
    "N_HIDDEN = 512\n",
    "\n",
    "SHIELD = 999\n",
    "LIMIT = 3002"
   ]
  },
  {
   "cell_type": "markdown",
   "metadata": {},
   "source": [
    "# Data handling"
   ]
  },
  {
   "cell_type": "markdown",
   "metadata": {},
   "source": [
    "## Date loading"
   ]
  },
  {
   "cell_type": "code",
   "execution_count": 4,
   "metadata": {},
   "outputs": [],
   "source": [
    "ion_label = pd.read_excel(\"../data/SW_Ion/Ion concentration_meq_20171109-20180426.xlsx\", skiprows=1, index_col=\"date\")"
   ]
  },
  {
   "cell_type": "code",
   "execution_count": 5,
   "metadata": {},
   "outputs": [],
   "source": [
    "ion_label = ion_label[~(ion_label.index < '2018-01-12')]\n",
    "#ion_label.drop([\"N\"], axis=1, inplace=True)\n",
    "ion_label.drop([columns for columns in ion_label.columns if \"Unnamed:\" in columns], axis= 1, inplace=True)\n",
    "ion_label.drop([columns for columns in ion_label.columns if \".1\" in columns], axis= 1, inplace=True)\n",
    "ion_label.drop([columns for columns in ion_label.columns if \".2\" in columns], axis= 1, inplace=True)\n",
    "ion_label.drop([columns for columns in ion_label.columns if \".3\" in columns], axis= 1, inplace=True)\n",
    "ion_label.dropna(inplace=True)\n",
    "#ion_label.drop([pd.Timestamp(\"2018-04-23\"), pd.Timestamp(\"2018-04-12\"), pd.Timestamp(\"2018-04-05\")], axis=0, inplace=True)\n",
    "ion_label.drop([pd.Timestamp(\"2018-04-13\")], axis=0, inplace=True)"
   ]
  },
  {
   "cell_type": "code",
   "execution_count": 6,
   "metadata": {},
   "outputs": [],
   "source": [
    "ion_label.index += pd.Timedelta(\"16h\")"
   ]
  },
  {
   "cell_type": "code",
   "execution_count": 7,
   "metadata": {},
   "outputs": [],
   "source": [
    "ion_label = ion_label.sample(frac=1.0)"
   ]
  },
  {
   "cell_type": "code",
   "execution_count": 8,
   "metadata": {},
   "outputs": [],
   "source": [
    "raw_closed = pd.read_csv(\"./results/closed_data.csv\", index_col=\"TIMESTAMP\")\n",
    "raw_closed.index = pd.DatetimeIndex(raw_closed.index)\n",
    "raw_closed = raw_closed[np.abs(raw_closed-raw_closed.mean())<=(3*raw_closed.std())]\n",
    "raw_closed[\"RootTemp(1)\"][0] = 20\n",
    "raw_closed.drop([\"ECS(3)\", \"InjDrgVR(3)\", \"DrgDaily(3)\", \"DrgV(3)\"], axis=1, inplace=True)"
   ]
  },
  {
   "cell_type": "code",
   "execution_count": 9,
   "metadata": {},
   "outputs": [],
   "source": [
    "raw_closed.interpolate(\"linear\", inplace=True)\n",
    "\n",
    "# raw_closed.index = (raw_closed.index).round(INTERVAL)\n",
    "# raw_closed = raw_closed.groupby(raw_closed.index).mean()"
   ]
  },
  {
   "cell_type": "code",
   "execution_count": 10,
   "metadata": {},
   "outputs": [],
   "source": [
    "MAXS = raw_closed.max()\n",
    "MINS = raw_closed.min()\n",
    "LABELMAXS = ion_label.max()\n",
    "LABELMINS = ion_label.min()"
   ]
  },
  {
   "cell_type": "code",
   "execution_count": 11,
   "metadata": {},
   "outputs": [],
   "source": [
    "raw_closed = (raw_closed - MINS) / (MAXS - MINS)\n",
    "ion_label = (ion_label - LABELMINS) / (LABELMAXS - LABELMINS)"
   ]
  },
  {
   "cell_type": "code",
   "execution_count": 12,
   "metadata": {},
   "outputs": [],
   "source": [
    "env_input = raw_closed.reindex(ion_label.index)"
   ]
  },
  {
   "cell_type": "code",
   "execution_count": 13,
   "metadata": {},
   "outputs": [],
   "source": [
    "train_inputs = []\n",
    "train_labels = []\n",
    "test_inputs = []\n",
    "test_labels = []\n",
    "\n",
    "kf = KFold(n_splits=N_FOLD, shuffle=True)\n",
    "for train_index, test_index in kf.split(ion_label):\n",
    "    train_inputs.append(env_input.iloc[train_index, :])\n",
    "    train_labels.append(ion_label.iloc[train_index, :])\n",
    "    test_inputs.append(env_input.iloc[test_index, :])\n",
    "    test_labels.append(ion_label.iloc[test_index, :])"
   ]
  },
  {
   "cell_type": "code",
   "execution_count": 14,
   "metadata": {},
   "outputs": [
    {
     "name": "stdout",
     "output_type": "stream",
     "text": [
      "number of output: 6\n",
      "number of feature: 23\n",
      "number of train data: 40\n",
      "number of test data: 11\n"
     ]
    }
   ],
   "source": [
    "n_output = 6\n",
    "n_features = test_inputs[0].shape[1]\n",
    "n_train = train_inputs[0].shape[0]\n",
    "n_test = test_inputs[0].shape[0]\n",
    "\n",
    "print(\"number of output: %d\" % n_output)\n",
    "print(\"number of feature: %d\" % n_features)\n",
    "print(\"number of train data: %d\" % n_train)\n",
    "print(\"number of test data: %d\" % n_test)"
   ]
  },
  {
   "cell_type": "markdown",
   "metadata": {},
   "source": [
    "## Network preparation"
   ]
  },
  {
   "cell_type": "markdown",
   "metadata": {},
   "source": [
    "### Constructing networks"
   ]
  },
  {
   "cell_type": "code",
   "execution_count": 15,
   "metadata": {},
   "outputs": [],
   "source": [
    "def FC(x, size, scope):\n",
    "    return tf.contrib.layers.fully_connected(x, size, activation_fn=None, scope=scope)\n",
    "\n",
    "def BN_FC(x, n_hidden, phase, scope):\n",
    "    with tf.variable_scope(scope):\n",
    "        h1 = tf.contrib.layers.fully_connected(x, n_hidden, activation_fn=None, scope='FC')\n",
    "        h2 = tf.layers.batch_normalization(h1, training=phase)\n",
    "        return tf.nn.relu(h2, 'relu')\n",
    "    \n",
    "def layers(_x, _n_hidden, _phase):\n",
    "\n",
    "    h1 = BN_FC(_x, _n_hidden, _phase, \"layer1\")\n",
    "    h2 = BN_FC(h1, _n_hidden, _phase, \"layer2\")\n",
    "    h3 = BN_FC(h2, _n_hidden, _phase, \"layer3\")\n",
    "    h4 = BN_FC(h3, _n_hidden, _phase, \"layer4\")\n",
    "#     h5 = BN_FC(h4, _n_hidden, _phase, \"layer5\")\n",
    "#     h6 = BN_FC(h5, _n_hidden, _phase, \"layer6\")\n",
    "#     h7 = BN_FC(h6, _n_hidden, _phase, \"layer7\")\n",
    "#     h8 = BN_FC(h7, _n_hidden, _phase, \"layer8\")\n",
    "#     h9 = BN_FC(h8, _n_hidden, _phase, \"layer9\")\n",
    "#     h10 = BN_FC(h9, _n_hidden, _phase, \"layer10\")\n",
    "#     h11 = BN_FC(h10, _n_hidden, _phase, \"layer11\")\n",
    "#     h12 = BN_FC(h11, _n_hidden, _phase, \"layer12\")\n",
    "#     h13 = BN_FC(h12, _n_hidden, _phase, \"layer13\")\n",
    "#     h14 = BN_FC(h13, _n_hidden, _phase, \"layer14\")\n",
    "#     h15 = BN_FC(h14, _n_hidden, _phase, \"layer15\")\n",
    "#     h16 = BN_FC(h15, _n_hidden, _phase, \"layer16\")\n",
    "    out = FC(h4, n_output, \"out\")\n",
    "\n",
    "    return out"
   ]
  },
  {
   "cell_type": "code",
   "execution_count": 16,
   "metadata": {
    "scrolled": false
   },
   "outputs": [
    {
     "name": "stdout",
     "output_type": "stream",
     "text": [
      "Epoch:        0/   50000 cost: 0.869191, best: 0.000000\n",
      "Training Acc: -1.514, Test Acc: -2.066\n",
      "Epoch:      500/   50000 cost: 0.012412, best: 0.000000\n",
      "Training Acc: 0.665, Test Acc: 0.130\n",
      "Epoch:     1000/   50000 cost: 0.002669, best: 0.000000\n",
      "Training Acc: 0.671, Test Acc: 0.349\n",
      "Epoch:     1500/   50000 cost: 0.003159, best: 0.682843\n",
      "Training Acc: 0.863, Test Acc: 0.470\n",
      "Epoch:     2000/   50000 cost: 0.002627, best: 0.693717\n",
      "Training Acc: 0.858, Test Acc: 0.597\n",
      "Epoch:     2500/   50000 cost: 0.003144, best: 0.720813\n",
      "Training Acc: 0.871, Test Acc: 0.639\n",
      "Epoch:     3000/   50000 cost: 0.004092, best: 0.726988\n",
      "Training Acc: 0.843, Test Acc: 0.639\n",
      "Epoch:     3500/   50000 cost: 0.002033, best: 0.756711\n",
      "Training Acc: 0.800, Test Acc: 0.692\n",
      "Epoch:     4000/   50000 cost: 0.000744, best: 0.756711\n",
      "Training Acc: 0.846, Test Acc: 0.702\n",
      "Epoch:     4500/   50000 cost: 0.001341, best: 0.764499\n",
      "Training Acc: 0.829, Test Acc: 0.621\n",
      "Epoch:     5000/   50000 cost: 0.001006, best: 0.764499\n",
      "Training Acc: 0.842, Test Acc: 0.616\n",
      "Epoch:     5500/   50000 cost: 0.000311, best: 0.764499\n",
      "Training Acc: 0.790, Test Acc: 0.615\n",
      "Epoch:     6000/   50000 cost: 0.000500, best: 0.801331\n",
      "Training Acc: 0.760, Test Acc: 0.638\n",
      "Epoch:     6500/   50000 cost: 0.000249, best: 0.801331\n",
      "Training Acc: 0.779, Test Acc: 0.738\n",
      "Epoch:     7000/   50000 cost: 0.000239, best: 0.801331\n",
      "Training Acc: 0.838, Test Acc: 0.703\n",
      "Epoch:     7500/   50000 cost: 0.000615, best: 0.801331\n",
      "Training Acc: 0.818, Test Acc: 0.718\n",
      "Epoch:     8000/   50000 cost: 0.000123, best: 0.801331\n",
      "Training Acc: 0.812, Test Acc: 0.744\n",
      "Epoch:     8500/   50000 cost: 0.000092, best: 0.801331\n",
      "Training Acc: 0.809, Test Acc: 0.692\n",
      "Epoch:     9000/   50000 cost: 0.000220, best: 0.801331\n",
      "Training Acc: 0.798, Test Acc: 0.727\n",
      "Epoch:     9500/   50000 cost: 0.000249, best: 0.801331\n",
      "Training Acc: 0.706, Test Acc: 0.737\n",
      "Epoch:    10000/   50000 cost: 0.000245, best: 0.801331\n",
      "Training Acc: 0.741, Test Acc: 0.714\n",
      "Epoch:    10500/   50000 cost: 0.000147, best: 0.801331\n",
      "Training Acc: 0.642, Test Acc: 0.724\n",
      "Epoch:    11000/   50000 cost: 0.000081, best: 0.801331\n",
      "Training Acc: 0.718, Test Acc: 0.694\n",
      "Epoch:    11500/   50000 cost: 0.000106, best: 0.801331\n",
      "Training Acc: 0.796, Test Acc: 0.711\n",
      "Epoch:    12000/   50000 cost: 0.000107, best: 0.801331\n",
      "Training Acc: 0.789, Test Acc: 0.743\n",
      "\n",
      "Early stopping.\n",
      "Epoch:    12072/   50000 cost: 0.000292, best: 0.801331\n",
      "Training Acc: 0.641, Test Acc: 0.731\n",
      "Optimization Finished\n",
      "training time: 56.27 sec.\n",
      "INFO:tensorflow:Restoring parameters from ./models/best_trained_BN_FC_Ion_closed_F1.ckpt\n",
      "Training Accuracy: 0.8131809\n",
      "Test Accuracy: 0.80133146\n",
      "Epoch:        0/   50000 cost: 1.015373, best: 0.000000\n",
      "Training Acc: -2.718, Test Acc: -1.777\n",
      "Epoch:      500/   50000 cost: 0.007679, best: 0.000000\n",
      "Training Acc: 0.771, Test Acc: 0.044\n",
      "Epoch:     1000/   50000 cost: 0.011003, best: 0.318641\n",
      "Training Acc: 0.873, Test Acc: 0.319\n",
      "Epoch:     1500/   50000 cost: 0.004522, best: 0.526836\n",
      "Training Acc: 0.930, Test Acc: 0.422\n",
      "Epoch:     2000/   50000 cost: 0.003873, best: 0.532301\n",
      "Training Acc: 0.890, Test Acc: 0.356\n",
      "Epoch:     2500/   50000 cost: 0.001644, best: 0.567092\n",
      "Training Acc: 0.949, Test Acc: 0.429\n",
      "Epoch:     3000/   50000 cost: 0.001058, best: 0.567092\n",
      "Training Acc: 0.971, Test Acc: 0.449\n",
      "Epoch:     3500/   50000 cost: 0.000778, best: 0.567092\n",
      "Training Acc: 0.959, Test Acc: 0.391\n",
      "Epoch:     4000/   50000 cost: 0.000623, best: 0.567092\n",
      "Training Acc: 0.983, Test Acc: 0.445\n",
      "Epoch:     4500/   50000 cost: 0.000611, best: 0.567092\n",
      "Training Acc: 0.978, Test Acc: 0.392\n",
      "Epoch:     5000/   50000 cost: 0.000779, best: 0.567092\n",
      "Training Acc: 0.987, Test Acc: 0.404\n",
      "Epoch:     5500/   50000 cost: 0.000583, best: 0.567092\n",
      "Training Acc: 0.978, Test Acc: 0.379\n",
      "Epoch:     6000/   50000 cost: 0.000594, best: 0.567092\n",
      "Training Acc: 0.983, Test Acc: 0.356\n",
      "Epoch:     6500/   50000 cost: 0.000629, best: 0.567092\n",
      "Training Acc: 0.984, Test Acc: 0.410\n",
      "Epoch:     7000/   50000 cost: 0.000448, best: 0.567092\n",
      "Training Acc: 0.983, Test Acc: 0.413\n",
      "Epoch:     7500/   50000 cost: 0.000286, best: 0.567092\n",
      "Training Acc: 0.982, Test Acc: 0.449\n",
      "Epoch:     8000/   50000 cost: 0.000089, best: 0.567092\n",
      "Training Acc: 0.987, Test Acc: 0.395\n",
      "\n",
      "Early stopping.\n",
      "Epoch:     8144/   50000 cost: 0.000395, best: 0.567092\n",
      "Training Acc: 0.976, Test Acc: 0.415\n",
      "Optimization Finished\n",
      "training time: 37.29 sec.\n",
      "INFO:tensorflow:Restoring parameters from ./models/best_trained_BN_FC_Ion_closed_F2.ckpt\n",
      "Training Accuracy: 0.91049516\n",
      "Test Accuracy: 0.5670925\n",
      "Epoch:        0/   50000 cost: 1.311342, best: 0.000000\n",
      "Training Acc: -1.181, Test Acc: -1.952\n",
      "Epoch:      500/   50000 cost: 0.009583, best: 0.000000\n",
      "Training Acc: 0.854, Test Acc: 0.749\n",
      "Epoch:     1000/   50000 cost: 0.004012, best: 0.666408\n",
      "Training Acc: 0.904, Test Acc: 0.666\n",
      "Epoch:     1500/   50000 cost: 0.006502, best: 0.780084\n",
      "Training Acc: 0.687, Test Acc: 0.467\n",
      "Epoch:     2000/   50000 cost: 0.001636, best: 0.796132\n",
      "Training Acc: 0.893, Test Acc: 0.689\n",
      "Epoch:     2500/   50000 cost: 0.006050, best: 0.833832\n",
      "Training Acc: 0.861, Test Acc: 0.797\n",
      "Epoch:     3000/   50000 cost: 0.001483, best: 0.837249\n",
      "Training Acc: 0.905, Test Acc: 0.733\n",
      "Epoch:     3500/   50000 cost: 0.000979, best: 0.839017\n",
      "Training Acc: 0.886, Test Acc: 0.612\n",
      "Epoch:     4000/   50000 cost: 0.001258, best: 0.839017\n",
      "Training Acc: 0.854, Test Acc: 0.660\n",
      "Epoch:     4500/   50000 cost: 0.002037, best: 0.839017\n",
      "Training Acc: 0.864, Test Acc: 0.739\n",
      "Epoch:     5000/   50000 cost: 0.000906, best: 0.839017\n",
      "Training Acc: 0.938, Test Acc: 0.811\n",
      "Epoch:     5500/   50000 cost: 0.000678, best: 0.839017\n",
      "Training Acc: 0.903, Test Acc: 0.784\n",
      "Epoch:     6000/   50000 cost: 0.000663, best: 0.839017\n",
      "Training Acc: 0.856, Test Acc: 0.704\n",
      "Epoch:     6500/   50000 cost: 0.000415, best: 0.839017\n",
      "Training Acc: 0.915, Test Acc: 0.787\n",
      "Epoch:     7000/   50000 cost: 0.000308, best: 0.839017\n",
      "Training Acc: 0.855, Test Acc: 0.747\n",
      "Epoch:     7500/   50000 cost: 0.001265, best: 0.839017\n",
      "Training Acc: 0.843, Test Acc: 0.782\n",
      "Epoch:     8000/   50000 cost: 0.000193, best: 0.844542\n",
      "Training Acc: 0.779, Test Acc: 0.758\n",
      "Epoch:     8500/   50000 cost: 0.000381, best: 0.844542\n",
      "Training Acc: 0.824, Test Acc: 0.708\n",
      "Epoch:     9000/   50000 cost: 0.000532, best: 0.844542\n",
      "Training Acc: 0.833, Test Acc: 0.712\n",
      "Epoch:     9500/   50000 cost: 0.000309, best: 0.844542\n",
      "Training Acc: 0.879, Test Acc: 0.669\n",
      "Epoch:    10000/   50000 cost: 0.000156, best: 0.844542\n",
      "Training Acc: 0.846, Test Acc: 0.747\n",
      "Epoch:    10500/   50000 cost: 0.000606, best: 0.844542\n",
      "Training Acc: 0.839, Test Acc: 0.667\n",
      "Epoch:    11000/   50000 cost: 0.000116, best: 0.844542\n",
      "Training Acc: 0.772, Test Acc: 0.728\n",
      "Epoch:    11500/   50000 cost: 0.000245, best: 0.844542\n",
      "Training Acc: 0.850, Test Acc: 0.616\n",
      "Epoch:    12000/   50000 cost: 0.000129, best: 0.844542\n",
      "Training Acc: 0.819, Test Acc: 0.731\n",
      "Epoch:    12500/   50000 cost: 0.000300, best: 0.844542\n",
      "Training Acc: 0.823, Test Acc: 0.745\n",
      "Epoch:    13000/   50000 cost: 0.000099, best: 0.844542\n",
      "Training Acc: 0.839, Test Acc: 0.735\n",
      "Epoch:    13500/   50000 cost: 0.000144, best: 0.844542\n",
      "Training Acc: 0.809, Test Acc: 0.729\n",
      "\n",
      "Early stopping.\n",
      "Epoch:    13635/   50000 cost: 0.000106, best: 0.844542\n",
      "Training Acc: 0.759, Test Acc: 0.728\n",
      "Optimization Finished\n",
      "training time: 46.05 sec.\n",
      "INFO:tensorflow:Restoring parameters from ./models/best_trained_BN_FC_Ion_closed_F3.ckpt\n",
      "Training Accuracy: 0.8907157\n",
      "Test Accuracy: 0.8445424\n",
      "Epoch:        0/   50000 cost: 1.129570, best: 0.000000\n",
      "Training Acc: -1.232, Test Acc: -1.666\n",
      "Epoch:      500/   50000 cost: 0.004904, best: 0.000000\n",
      "Training Acc: 0.863, Test Acc: 0.343\n",
      "Epoch:     1000/   50000 cost: 0.002476, best: 0.479352\n",
      "Training Acc: 0.752, Test Acc: 0.479\n",
      "Epoch:     1500/   50000 cost: 0.001650, best: 0.572907\n",
      "Training Acc: 0.803, Test Acc: 0.358\n",
      "Epoch:     2000/   50000 cost: 0.002716, best: 0.607985\n",
      "Training Acc: 0.846, Test Acc: 0.481\n",
      "Epoch:     2500/   50000 cost: 0.004711, best: 0.609616\n",
      "Training Acc: 0.844, Test Acc: 0.295\n",
      "Epoch:     3000/   50000 cost: 0.001867, best: 0.628883\n",
      "Training Acc: 0.839, Test Acc: 0.580\n",
      "Epoch:     3500/   50000 cost: 0.000954, best: 0.665076\n",
      "Training Acc: 0.814, Test Acc: 0.526\n",
      "Epoch:     4000/   50000 cost: 0.000702, best: 0.665076\n",
      "Training Acc: 0.821, Test Acc: 0.502\n"
     ]
    },
    {
     "name": "stdout",
     "output_type": "stream",
     "text": [
      "Epoch:     4500/   50000 cost: 0.001152, best: 0.665076\n",
      "Training Acc: 0.808, Test Acc: 0.605\n",
      "Epoch:     5000/   50000 cost: 0.000540, best: 0.665817\n",
      "Training Acc: 0.870, Test Acc: 0.631\n",
      "Epoch:     5500/   50000 cost: 0.000600, best: 0.724874\n",
      "Training Acc: 0.846, Test Acc: 0.655\n",
      "Epoch:     6000/   50000 cost: 0.000394, best: 0.724874\n",
      "Training Acc: 0.823, Test Acc: 0.634\n",
      "Epoch:     6500/   50000 cost: 0.000466, best: 0.724874\n",
      "Training Acc: 0.840, Test Acc: 0.639\n",
      "Epoch:     7000/   50000 cost: 0.000543, best: 0.724874\n",
      "Training Acc: 0.848, Test Acc: 0.584\n",
      "Epoch:     7500/   50000 cost: 0.000270, best: 0.724874\n",
      "Training Acc: 0.838, Test Acc: 0.581\n",
      "Epoch:     8000/   50000 cost: 0.000159, best: 0.724874\n",
      "Training Acc: 0.779, Test Acc: 0.643\n",
      "Epoch:     8500/   50000 cost: 0.000493, best: 0.724874\n",
      "Training Acc: 0.819, Test Acc: 0.544\n",
      "Epoch:     9000/   50000 cost: 0.000316, best: 0.724874\n",
      "Training Acc: 0.816, Test Acc: 0.550\n",
      "Epoch:     9500/   50000 cost: 0.000105, best: 0.724874\n",
      "Training Acc: 0.800, Test Acc: 0.628\n",
      "Epoch:    10000/   50000 cost: 0.000235, best: 0.724874\n",
      "Training Acc: 0.799, Test Acc: 0.600\n",
      "Epoch:    10500/   50000 cost: 0.000147, best: 0.724874\n",
      "Training Acc: 0.824, Test Acc: 0.556\n",
      "Epoch:    11000/   50000 cost: 0.000599, best: 0.724874\n",
      "Training Acc: 0.812, Test Acc: 0.576\n",
      "\n",
      "Early stopping.\n",
      "Epoch:    11262/   50000 cost: 0.000074, best: 0.724874\n",
      "Training Acc: 0.772, Test Acc: 0.568\n",
      "Optimization Finished\n",
      "training time: 36.15 sec.\n",
      "INFO:tensorflow:Restoring parameters from ./models/best_trained_BN_FC_Ion_closed_F4.ckpt\n",
      "Training Accuracy: 0.6889726\n",
      "Test Accuracy: 0.7248745\n",
      "Epoch:        0/   50000 cost: 0.750093, best: 0.000000\n",
      "Training Acc: -0.646, Test Acc: -0.658\n",
      "Epoch:      500/   50000 cost: 0.011478, best: 0.000000\n",
      "Training Acc: 0.763, Test Acc: 0.465\n",
      "Epoch:     1000/   50000 cost: 0.002170, best: 0.000000\n",
      "Training Acc: 0.878, Test Acc: 0.715\n",
      "Epoch:     1500/   50000 cost: 0.008477, best: 0.884395\n",
      "Training Acc: 0.904, Test Acc: 0.728\n",
      "Epoch:     2000/   50000 cost: 0.004912, best: 0.897019\n",
      "Training Acc: 0.919, Test Acc: 0.793\n",
      "Epoch:     2500/   50000 cost: 0.002980, best: 0.897019\n",
      "Training Acc: 0.933, Test Acc: 0.853\n",
      "Epoch:     3000/   50000 cost: 0.000981, best: 0.911773\n",
      "Training Acc: 0.941, Test Acc: 0.887\n",
      "Epoch:     3500/   50000 cost: 0.000643, best: 0.912807\n",
      "Training Acc: 0.847, Test Acc: 0.893\n",
      "Epoch:     4000/   50000 cost: 0.001156, best: 0.912807\n",
      "Training Acc: 0.881, Test Acc: 0.856\n",
      "Epoch:     4500/   50000 cost: 0.000807, best: 0.913799\n",
      "Training Acc: 0.869, Test Acc: 0.834\n",
      "Epoch:     5000/   50000 cost: 0.000745, best: 0.913799\n",
      "Training Acc: 0.925, Test Acc: 0.858\n",
      "Epoch:     5500/   50000 cost: 0.000522, best: 0.919672\n",
      "Training Acc: 0.912, Test Acc: 0.884\n",
      "Epoch:     6000/   50000 cost: 0.000468, best: 0.919672\n",
      "Training Acc: 0.842, Test Acc: 0.840\n",
      "Epoch:     6500/   50000 cost: 0.001001, best: 0.919672\n",
      "Training Acc: 0.843, Test Acc: 0.889\n",
      "Epoch:     7000/   50000 cost: 0.000270, best: 0.919672\n",
      "Training Acc: 0.862, Test Acc: 0.858\n",
      "Epoch:     7500/   50000 cost: 0.000295, best: 0.919672\n",
      "Training Acc: 0.779, Test Acc: 0.893\n",
      "Epoch:     8000/   50000 cost: 0.000267, best: 0.919672\n",
      "Training Acc: 0.768, Test Acc: 0.864\n",
      "Epoch:     8500/   50000 cost: 0.000818, best: 0.919672\n",
      "Training Acc: 0.811, Test Acc: 0.872\n",
      "Epoch:     9000/   50000 cost: 0.000122, best: 0.919672\n",
      "Training Acc: 0.759, Test Acc: 0.894\n",
      "Epoch:     9500/   50000 cost: 0.000131, best: 0.919672\n",
      "Training Acc: 0.736, Test Acc: 0.868\n",
      "Epoch:    10000/   50000 cost: 0.000138, best: 0.919672\n",
      "Training Acc: 0.810, Test Acc: 0.838\n",
      "Epoch:    10500/   50000 cost: 0.000190, best: 0.919672\n",
      "Training Acc: 0.789, Test Acc: 0.875\n",
      "Epoch:    11000/   50000 cost: 0.000555, best: 0.919672\n",
      "Training Acc: 0.797, Test Acc: 0.831\n",
      "\n",
      "Early stopping.\n",
      "Epoch:    11439/   50000 cost: 0.000808, best: 0.919672\n",
      "Training Acc: 0.783, Test Acc: 0.864\n",
      "Optimization Finished\n",
      "training time: 36.78 sec.\n",
      "INFO:tensorflow:Restoring parameters from ./models/best_trained_BN_FC_Ion_closed_F5.ckpt\n",
      "Training Accuracy: 0.88185245\n",
      "Test Accuracy: 0.9196719\n",
      "All fold vaildation were ended.\n"
     ]
    }
   ],
   "source": [
    "results_list = []\n",
    "label_list = []\n",
    "for FOLD in range(N_FOLD):\n",
    "    global_step = tf.Variable(0, trainable=False)    \n",
    "    LEARNING_RATE =  tf.train.exponential_decay(0.005, global_step, 1500, 0.96, staircase=True)\n",
    "    EXPLANATION = EXPLANATION_+ \"_F\" + str(FOLD+1)\n",
    "    train_input, train_label = train_inputs[FOLD], train_labels[FOLD]\n",
    "    test_input, test_label = test_inputs[FOLD], test_labels[FOLD]\n",
    "    \n",
    "    # tf Graph input\n",
    "    x = tf.placeholder(\"float\", [None, n_features], name = \"F\"+str(FOLD+1)+\"input\")\n",
    "    y = tf.placeholder(\"float\", [None, n_output], name = \"F\"+str(FOLD+1)+\"output_1\")\n",
    "    phase = tf.placeholder(tf.bool, name='phase')\n",
    "\n",
    "    # Construct model\n",
    "    pred = layers(x, N_HIDDEN, phase)\n",
    "\n",
    "    # Define loss and optimizer\n",
    "    cost = tf.losses.mean_squared_error(labels=y, predictions=pred)\n",
    "\n",
    "\n",
    "    update_ops = tf.get_collection(tf.GraphKeys.UPDATE_OPS)\n",
    "    optimizer_ = tf.train.AdamOptimizer(learning_rate=LEARNING_RATE, epsilon=EPSILON)\n",
    "    with tf.control_dependencies(update_ops):\n",
    "        #optimizer = optimizer_.minimize(joint_cost, global_step=global_step)\n",
    "        op = optimizer_.minimize(cost, global_step=global_step)\n",
    "\n",
    "    # Accuracy\n",
    "    total_error = tf.reduce_sum(tf.square(tf.subtract(y, tf.reduce_mean(y))))\n",
    "    unexplained_error = tf.reduce_sum(tf.square(tf.subtract(y, pred)))\n",
    "    R_squared = tf.subtract(1., tf.divide(unexplained_error, total_error))\n",
    "\n",
    "    accuracy = R_squared\n",
    "    # Initializing the variables\n",
    "    init = tf.global_variables_initializer()\n",
    "    saver = tf.train.Saver()\n",
    "\n",
    "    # Do some optimizations\n",
    "    sess = tf.Session(config=tf.ConfigProto(gpu_options=tf.GPUOptions(allow_growth =True)))\n",
    "    sess.run(init)\n",
    "\n",
    "    # Launch the graph\n",
    "    ex_acc = 0\n",
    "    best_acc = 0\n",
    "    early_stop_buffer = 0\n",
    "    # Keep training until reach max iterations\n",
    "    start = time.time()\n",
    "\n",
    "    for EPOCH in range(TRAINING_EPOCHS):\n",
    "        \n",
    "        batch_x, batch_y = resample(train_input, train_label, n_samples = BATCH_SIZE, replace = False)\n",
    "        loss = sess.run(cost, feed_dict={x: batch_x, y: batch_y, phase: 1})\n",
    "        \n",
    "        sess.run(op, feed_dict={x: batch_x, y: batch_y, phase: 1})\n",
    "        \n",
    "        test_acc = sess.run(accuracy, feed_dict={x: test_input, y: test_label, phase: 0})\n",
    "        \n",
    "        \n",
    "        if test_acc > ex_acc:\n",
    "            if EPOCH <= SHIELD:\n",
    "                pass\n",
    "            elif test_acc > best_acc:\n",
    "                bestpath = \"./models/best_trained_\" + EXPLANATION + \".ckpt\"\n",
    "                save_path = saver.save(sess, bestpath)\n",
    "                best_acc = test_acc\n",
    "                early_stop_buffer = 0\n",
    "        else:\n",
    "            early_stop_buffer += 1\n",
    "\n",
    "        if early_stop_buffer >= LIMIT:\n",
    "            print (\"\\nEarly stopping.\")\n",
    "            break     \n",
    "\n",
    "        ex_acc = test_acc\n",
    "        if EPOCH % DISPLAY_STEP == 0:\n",
    "            print (\"Epoch: %8d/%8d cost: %.6f, best: %.6f\" % (EPOCH, TRAINING_EPOCHS, loss, best_acc))\n",
    "            train_acc = sess.run(accuracy, feed_dict={x: train_input, y: train_label, phase: 0})\n",
    "            test_acc = sess.run(accuracy, feed_dict={x: test_input, y: test_label, phase: 0})\n",
    "            print (\"Training Acc: %.3f, Test Acc: %.3f\" % (train_acc, test_acc))\n",
    "\n",
    "\n",
    "    print (\"Epoch: %8d/%8d cost: %.6f, best: %.6f\" % (EPOCH+1, TRAINING_EPOCHS, loss, best_acc))\n",
    "    train_acc = sess.run(accuracy, feed_dict={x: train_input, y: train_label, phase: 0})\n",
    "    test_acc = sess.run(accuracy, feed_dict={x: test_input, y: test_label, phase: 0})\n",
    "    print (\"Training Acc: %.3f, Test Acc: %.3f\" % (train_acc,test_acc))\n",
    "\n",
    "    end = time.time() - start\n",
    "    print (\"Optimization Finished\\ntraining time: %.2f sec.\" % (end))\n",
    "    \n",
    "    #Choose best model\n",
    "    bestpath = \"./models/best_trained_\" + EXPLANATION + \".ckpt\"\n",
    "    saver.restore(sess, bestpath)\n",
    "\n",
    "    print (\"Training Accuracy:\", sess.run(accuracy, feed_dict={x: train_input, y: train_label, phase: 0}))\n",
    "    print (\"Test Accuracy:\", sess.run(accuracy, feed_dict={x: test_input, y: test_label, phase: 0}))\n",
    "\n",
    "    estimation_result = sess.run(pred,feed_dict={x: test_input, phase: 0})\n",
    "    estimation_result = pd.DataFrame(estimation_result, index=test_label.index, columns=test_label.columns)\n",
    "    results_list.append(estimation_result)\n",
    "    label_list.append(test_label)\n",
    "\n",
    "    tf.reset_default_graph()\n",
    "    sess.close()\n",
    "    \n",
    "print(\"All fold vaildation were ended.\")"
   ]
  },
  {
   "cell_type": "markdown",
   "metadata": {},
   "source": [
    "## Result analysis"
   ]
  },
  {
   "cell_type": "markdown",
   "metadata": {},
   "source": [
    "### Restoring from preprocess"
   ]
  },
  {
   "cell_type": "code",
   "execution_count": 17,
   "metadata": {},
   "outputs": [],
   "source": [
    "final_result = pd.concat(results_list).sort_index()"
   ]
  },
  {
   "cell_type": "code",
   "execution_count": 18,
   "metadata": {},
   "outputs": [],
   "source": [
    "final_result = ((LABELMAXS - LABELMINS) * final_result) + LABELMINS\n",
    "restored_label = ((LABELMAXS - LABELMINS) * ion_label) + LABELMINS"
   ]
  },
  {
   "cell_type": "markdown",
   "metadata": {},
   "source": [
    "### One to one graph"
   ]
  },
  {
   "cell_type": "code",
   "execution_count": 19,
   "metadata": {
    "scrolled": false
   },
   "outputs": [
    {
     "name": "stdout",
     "output_type": "stream",
     "text": [
      "R2 score:-0.722\n",
      "MSE:6.477\n",
      "R2 score:-0.432\n",
      "MSE:33.604\n",
      "R2 score:-0.482\n",
      "MSE:4.831\n",
      "R2 score:-0.428\n",
      "MSE:10.203\n",
      "R2 score:-0.431\n",
      "MSE:36.874\n",
      "R2 score:-0.730\n",
      "MSE:0.307\n"
     ]
    },
    {
     "data": {
      "image/png": "[encoded data removed]",
      "text/plain": [
       "<Figure size 453.543x340.157 with 1 Axes>"
      ]
     },
     "metadata": {},
     "output_type": "display_data"
    }
   ],
   "source": [
    "# x_linear = np.arange(-1,2)\n",
    "# y_linear = x_linear\n",
    "\n",
    "# one_to_one_line = plt.plot(x_linear, y_linear,'k--', zorder=1)\n",
    "for _ in range(6):\n",
    "    estimation_scatter1 = plt.scatter(restored_label.iloc[:, _], final_result.iloc[:, _],\n",
    "                                 s=MARKER_SIZE, c=cmap[_], label = restored_label.columns[_], zorder=2)\n",
    "\n",
    "    print(\"R2 score:%.3f\" % r2_score(restored_label.iloc[:, _], final_result.iloc[:, _]))\n",
    "    print(\"MSE:%.3f\" % mean_squared_error(restored_label.iloc[:, _], final_result.iloc[:, _]))\n",
    "#plt.axis([-0.1, 0.7, -0.1, 0.7])\n",
    "plt.xlabel(\"Measured fresh weight (kg)\")\n",
    "plt.ylabel(\"Estimated fresh weight (kg)\")\n",
    "plt.grid(True)\n",
    "plt.show()\n"
   ]
  },
  {
   "cell_type": "code",
   "execution_count": 20,
   "metadata": {},
   "outputs": [
    {
     "data": {
      "text/plain": [
       "-0.5376785830044125"
      ]
     },
     "execution_count": 20,
     "metadata": {},
     "output_type": "execute_result"
    }
   ],
   "source": [
    "r2_score(restored_label, final_result)"
   ]
  },
  {
   "cell_type": "code",
   "execution_count": 21,
   "metadata": {},
   "outputs": [
    {
     "data": {
      "text/plain": [
       "3.9220557774573903"
      ]
     },
     "execution_count": 21,
     "metadata": {},
     "output_type": "execute_result"
    }
   ],
   "source": [
    "np.sqrt(mean_squared_error(restored_label, final_result))"
   ]
  }
 ],
 "metadata": {
  "anaconda-cloud": {},
  "kernelspec": {
   "display_name": "Python 3",
   "language": "python",
   "name": "python3"
  },
  "language_info": {
   "codemirror_mode": {
    "name": "ipython",
    "version": 3
   },
   "file_extension": ".py",
   "mimetype": "text/x-python",
   "name": "python",
   "nbconvert_exporter": "python",
   "pygments_lexer": "ipython3",
   "version": "3.5.2"
  }
 },
 "nbformat": 4,
 "nbformat_minor": 1
}
